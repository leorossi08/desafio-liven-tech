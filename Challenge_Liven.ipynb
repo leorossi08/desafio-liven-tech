{
 "cells": [
  {
   "cell_type": "markdown",
   "id": "241ab4b6-dedd-4388-930e-2b68db4ff8bd",
   "metadata": {},
   "source": [
    "## Parte 1: Carregamento e Limpeza de Dados\n",
    "\n",
    "Para começar, carregamos nossa principal ferramenta de trabalho, a biblioteca pandas, e em seguida, importamos as 4 planilhas de dados (partidas, estatísticas, cartões e gols)."
   ]
  },
  {
   "cell_type": "markdown",
   "id": "c6916d16",
   "metadata": {
    "vscode": {
     "languageId": "markdown"
    }
   },
   "source": [
    "# 📊 Análise de Dados do Brasileirão\n",
    "\n",
    "Bem-vindo(a) ao notebook de análise do Campeonato Brasileiro! Aqui você encontrará:\n",
    "\n",
    "- **Carregamento e Limpeza de Dados:** Importação dos dados brutos, tratamento de valores ausentes e padronização das tabelas.\n",
    "- **Construção da Tabela Mestra:** Unificação das informações de partidas, estatísticas, cartões e gols em uma única base limpa e confiável.\n",
    "- **Análises Estatísticas:** Exploração dos fatores que influenciam o resultado das partidas, como posse de bola, chutes, mandante/visitante, entre outros.\n",
    "- **Visualizações Interativas:** Gráficos e tabelas para facilitar a interpretação dos dados e gerar insights para a equipe técnica.\n",
    "\n",
    "---\n",
    "\n",
    "> **Objetivo:** Descobrir padrões e fatores de sucesso no futebol brasileiro, respondendo perguntas estratégicas e auxiliando na tomada de decisão.\n",
    "\n",
    "---\n",
    "\n",
    "## ⚙️ Estrutura do Notebook\n",
    "\n",
    "1. **Parte 1:** Carregamento e Limpeza de Dados\n",
    "2. **Parte 2:** Construção da Tabela Mestra\n",
    "3. **Parte 3:** Análises e Visualizações\n",
    "\n",
    "---\n",
    "\n",
    "Vamos começar! 🚀"
   ]
  },
  {
   "cell_type": "markdown",
   "id": "864ac9a1",
   "metadata": {},
   "source": [
    "## ✨ **PARTE 1 - Carregamento e Limpeza de Dados** 🧹"
   ]
  },
  {
   "cell_type": "code",
   "execution_count": 152,
   "id": "6d8535bb-ac45-4d0c-82aa-d5800ea9a0eb",
   "metadata": {},
   "outputs": [],
   "source": [
    "import pandas as pd"
   ]
  },
  {
   "cell_type": "code",
   "execution_count": 153,
   "id": "f94b3793-25fb-408b-a6b1-4b849abafc96",
   "metadata": {},
   "outputs": [
    {
     "name": "stdout",
     "output_type": "stream",
     "text": [
      "Os 4 arquivos CSV foram carregados com sucesso!\n"
     ]
    }
   ],
   "source": [
    "try:\n",
    "    df_full = pd.read_csv('Brasileirao_Dataset/campeonato-brasileiro-full.csv')\n",
    "    df_stats = pd.read_csv('Brasileirao_Dataset/campeonato-brasileiro-estatisticas-full.csv')\n",
    "    df_cartoes = pd.read_csv('Brasileirao_Dataset/campeonato-brasileiro-cartoes.csv')\n",
    "    df_gols = pd.read_csv('Brasileirao_Dataset/campeonato-brasileiro-gols.csv')\n",
    "\n",
    "    print(\"Os 4 arquivos CSV foram carregados com sucesso!\")\n",
    "    \n",
    "except FileNotFoundError as e:\n",
    "    print(f\"Erro: O arquivo {e.filename} não foi encontrado.\")\n",
    "    print(\"Por favor, certifique-se de que os arquivos CSV estão no mesmo diretório que o seu notebook.\")"
   ]
  },
  {
   "cell_type": "code",
   "execution_count": 154,
   "id": "6fbc208c",
   "metadata": {},
   "outputs": [
    {
     "name": "stdout",
     "output_type": "stream",
     "text": [
      "Número de linhas em df_stats ANTES do filtro: 17570\n",
      "Número de linhas em df_stats DEPOIS do filtro: 6820\n",
      "\n",
      "Filtro de qualidade aplicado com sucesso! Apenas partidas com dados de estatísticas foram mantidas.\n"
     ]
    }
   ],
   "source": [
    "# Filtro de Qualidade em df_stats\n",
    "\n",
    "print(f\"Número de linhas em df_stats ANTES do filtro: {len(df_stats)}\")\n",
    "\n",
    "# Lista de colunas de estatísticas numéricas que indicam atividade em um jogo\n",
    "colunas_de_atividade = ['chutes', 'faltas', 'cartao_amarelo', 'cartao_vermelho', 'impedimentos', 'escanteios']\n",
    "\n",
    "# Calculamos a soma das estatísticas para cada linha. Se a soma for 0, significa que não há dados.\n",
    "soma_stats = df_stats[colunas_de_atividade].sum(axis=1)\n",
    "\n",
    "# Mantemos apenas as linhas onde a soma é maior que 0\n",
    "df_stats_com_dados = df_stats[soma_stats > 0].copy()\n",
    "\n",
    "print(f\"Número de linhas em df_stats DEPOIS do filtro: {len(df_stats_com_dados)}\")\n",
    "print(\"\\nFiltro de qualidade aplicado com sucesso! Apenas partidas com dados de estatísticas foram mantidas.\")"
   ]
  },
  {
   "cell_type": "markdown",
   "id": "f11e3972-74f5-4710-9815-d7d1c799b543",
   "metadata": {},
   "source": [
    "### ⏰ Ajuste de Data, Hora e Colunas\n",
    "\n",
    "- **Datas e horários** convertidos para análise temporal.\n",
    "- **Coluna `ID`** padronizada para `partida_id`."
   ]
  },
  {
   "cell_type": "code",
   "execution_count": 155,
   "id": "d0efaddd-e748-4ed8-8c30-07858a71cdcc",
   "metadata": {},
   "outputs": [
    {
     "name": "stdout",
     "output_type": "stream",
     "text": [
      "Formatos de data/hora e coluna de ID ajustados com sucesso.\n"
     ]
    }
   ],
   "source": [
    "# Ajustando os tipos de dados de data e hora\n",
    "df_full['data'] = pd.to_datetime(df_full['data'], format='%d/%m/%Y', errors='coerce')\n",
    "df_full['hora'] = pd.to_datetime(df_full['hora'], format='%H:%M', errors='coerce').dt.time\n",
    "\n",
    "# Renomeando a coluna 'ID' para 'partida_id' para padronização\n",
    "df_full.rename(columns={'ID': 'partida_id'}, inplace=True)\n",
    "\n",
    "print(\"Formatos de data/hora e coluna de ID ajustados com sucesso.\")"
   ]
  },
  {
   "cell_type": "markdown",
   "id": "6767428d-af59-4da5-bc88-3889625070fd",
   "metadata": {},
   "source": [
    "#### Sincronização das Tabelas\n",
    "\n",
    "Só seguimos com partidas que têm dados completos em todas as tabelas — máxima qualidade para as análises!"
   ]
  },
  {
   "cell_type": "code",
   "execution_count": 156,
   "id": "7ca99d36-d0a4-4cdd-b9e7-a3062e5bea73",
   "metadata": {},
   "outputs": [
    {
     "name": "stdout",
     "output_type": "stream",
     "text": [
      "Número de partidas em comum a todas as 4 bases: 3059\n"
     ]
    }
   ],
   "source": [
    "# Encontrando os IDs de partida comuns a todas as tabelas\n",
    "ids_full = set(df_full['partida_id'])\n",
    "ids_stats = set(df_stats_com_dados['partida_id'])\n",
    "ids_cartoes = set(df_cartoes['partida_id'])\n",
    "ids_gols = set(df_gols['partida_id'])\n",
    "\n",
    "# Encontra a interseção de IDs\n",
    "common_ids = set.intersection(ids_full, ids_stats, ids_cartoes, ids_gols)\n",
    "\n",
    "print(f\"Número de partidas em comum a todas as 4 bases: {len(common_ids)}\")"
   ]
  },
  {
   "cell_type": "markdown",
   "id": "9b0dc7b1-469c-43cc-a82e-e1ba2701f5a9",
   "metadata": {},
   "source": [
    "Agora, filtramos as tabelas para manter apenas as partidas validadas em todas as bases.  \n",
    "🔎 Apenas jogos com dados completos seguem para as próximas análises!"
   ]
  },
  {
   "cell_type": "code",
   "execution_count": 157,
   "id": "72245bef-dd67-42a3-bd63-3729837d7c9b",
   "metadata": {},
   "outputs": [
    {
     "name": "stdout",
     "output_type": "stream",
     "text": [
      "Filtro aplicado. Comparativo do número de linhas (Antes -> Depois):\n",
      "Partidas:      8785 -> 3059\n",
      "Estatísticas:  6820 -> 6118\n",
      "Cartões:       20953 -> 15659\n",
      "Gols:          9861 -> 7928\n"
     ]
    }
   ],
   "source": [
    "# Filtrando os DataFrames para manter apenas os dados completos\n",
    "common_ids_list = list(common_ids)\n",
    "\n",
    "df_full_cleaned = df_full[df_full['partida_id'].isin(common_ids_list)].copy()\n",
    "df_stats_cleaned = df_stats_com_dados[df_stats_com_dados['partida_id'].isin(common_ids_list)].copy()\n",
    "df_cartoes_cleaned = df_cartoes[df_cartoes['partida_id'].isin(common_ids_list)].copy()\n",
    "df_gols_cleaned = df_gols[df_gols['partida_id'].isin(common_ids_list)].copy()\n",
    "\n",
    "print(\"Filtro aplicado. Comparativo do número de linhas (Antes -> Depois):\")\n",
    "print(f\"Partidas:      {len(df_full)} -> {len(df_full_cleaned)}\")\n",
    "print(f\"Estatísticas:  {len(df_stats_com_dados)} -> {len(df_stats_cleaned)}\")\n",
    "print(f\"Cartões:       {len(df_cartoes)} -> {len(df_cartoes_cleaned)}\")\n",
    "print(f\"Gols:          {len(df_gols)} -> {len(df_gols_cleaned)}\")"
   ]
  },
  {
   "cell_type": "markdown",
   "id": "e5bb8aed-a4fe-4dae-ad58-267f1bc7d655",
   "metadata": {},
   "source": [
    "#### Tratando Campos Vazios\n",
    "\n",
    "Preenchimento inteligente dos campos ausentes para evitar erros e inconsistências.  \n",
    "- **Formações dos times:** colunas removidas por baixa relevância nesta análise.\n",
    "- **Campos como 'posse de bola':** mantidos como NaN para análises futuras."
   ]
  },
  {
   "cell_type": "code",
   "execution_count": 158,
   "id": "c574dc1b-f05d-469a-bcf7-5b327cbe88f5",
   "metadata": {},
   "outputs": [
    {
     "name": "stdout",
     "output_type": "stream",
     "text": [
      "Campos vazios tratados com sucesso.\n"
     ]
    }
   ],
   "source": [
    "# Removendo as colunas de formação do DataFrame df_full_cleaned\n",
    "df_full_cleaned = df_full_cleaned.drop(columns=['formacao_mandante', 'formacao_visitante'], errors='ignore')\n",
    "\n",
    "# Em df_stats, estatísticas ausentes viram 'Sem Info'\n",
    "df_stats_cleaned = df_stats_cleaned.copy()\n",
    "df_stats_cleaned['posse_de_bola'] = df_stats_cleaned['posse_de_bola'].fillna('Sem Info')\n",
    "df_stats_cleaned['precisao_passes'] = df_stats_cleaned['precisao_passes'].fillna('Sem Info')\n",
    "\n",
    "# Em df_cartoes, removemos a coluna 'num_camisa' e preenchemos 'posicao'\n",
    "df_cartoes_cleaned = df_cartoes_cleaned.drop(columns=['num_camisa'], errors='ignore')\n",
    "df_cartoes_cleaned = df_cartoes_cleaned.copy()\n",
    "df_cartoes_cleaned['posicao'] = df_cartoes_cleaned['posicao'].fillna('Sem Info')\n",
    "\n",
    "# Em df_gols, um gol sem tipo definido é assumido como 'Gol Normal'\n",
    "df_gols_cleaned = df_gols_cleaned.copy()\n",
    "df_gols_cleaned['tipo_de_gol'] = df_gols_cleaned['tipo_de_gol'].fillna('Gol Normal')\n",
    "\n",
    "print(\"Campos vazios tratados com sucesso.\")\n"
   ]
  },
  {
   "cell_type": "markdown",
   "id": "d920918f-48ac-4da9-b6a5-89adf49e1a20",
   "metadata": {},
   "source": [
    "## 🏗️ Parte 2: Construindo a Tabela Mestra \n",
    "\n",
    "Com os dados limpos e sincronizados, o objetivo agora é criar uma única tabela onde cada linha representa uma partida e contém as estatísticas do time da casa e do visitante, lado a lado.\n",
    "\n",
    "---\n",
    "\n",
    "### 🆚 Separando Estatísticas: Mandante x Visitante\n",
    "\n",
    "Primeiro, separamos os dados da tabela de estatísticas em duas novas tabelas:\n",
    "- 🏠 **Mandantes** (times da casa)\n",
    "- 🚗 **Visitantes**\n",
    "\n",
    "Assim, cada partida terá as informações dos dois lados, prontas para análise!"
   ]
  },
  {
   "cell_type": "code",
   "execution_count": 159,
   "id": "bca03643-baef-48f8-9415-ade0edeb4ce7",
   "metadata": {},
   "outputs": [
    {
     "name": "stdout",
     "output_type": "stream",
     "text": [
      "Estatísticas separadas para mandantes e visitantes.\n"
     ]
    }
   ],
   "source": [
    "# Separando as estatísticas\n",
    "stats_com_times = pd.merge(df_stats_cleaned, df_full_cleaned[['partida_id', 'mandante', 'visitante']], on='partida_id')\n",
    "mandante_stats = stats_com_times[stats_com_times['clube'] == stats_com_times['mandante']].copy()\n",
    "visitante_stats = stats_com_times[stats_com_times['clube'] == stats_com_times['visitante']].copy()\n",
    "\n",
    "print(\"Estatísticas separadas para mandantes e visitantes.\")"
   ]
  },
  {
   "cell_type": "code",
   "execution_count": 160,
   "id": "a6c674e9-7477-42c8-b9f3-b37c61eb1e57",
   "metadata": {},
   "outputs": [
    {
     "data": {
      "text/html": [
       "<div>\n",
       "<style scoped>\n",
       "    .dataframe tbody tr th:only-of-type {\n",
       "        vertical-align: middle;\n",
       "    }\n",
       "\n",
       "    .dataframe tbody tr th {\n",
       "        vertical-align: top;\n",
       "    }\n",
       "\n",
       "    .dataframe thead th {\n",
       "        text-align: right;\n",
       "    }\n",
       "</style>\n",
       "<table border=\"1\" class=\"dataframe\">\n",
       "  <thead>\n",
       "    <tr style=\"text-align: right;\">\n",
       "      <th></th>\n",
       "      <th>partida_id</th>\n",
       "      <th>rodata</th>\n",
       "      <th>clube</th>\n",
       "      <th>chutes</th>\n",
       "      <th>chutes_no_alvo</th>\n",
       "      <th>posse_de_bola</th>\n",
       "      <th>passes</th>\n",
       "      <th>precisao_passes</th>\n",
       "      <th>faltas</th>\n",
       "      <th>cartao_amarelo</th>\n",
       "      <th>cartao_vermelho</th>\n",
       "      <th>impedimentos</th>\n",
       "      <th>escanteios</th>\n",
       "      <th>mandante</th>\n",
       "      <th>visitante</th>\n",
       "    </tr>\n",
       "  </thead>\n",
       "  <tbody>\n",
       "    <tr>\n",
       "      <th>0</th>\n",
       "      <td>4741</td>\n",
       "      <td>13</td>\n",
       "      <td>Chapecoense</td>\n",
       "      <td>15</td>\n",
       "      <td>0</td>\n",
       "      <td>35%</td>\n",
       "      <td>280</td>\n",
       "      <td>Sem Info</td>\n",
       "      <td>19</td>\n",
       "      <td>4</td>\n",
       "      <td>0</td>\n",
       "      <td>0</td>\n",
       "      <td>8</td>\n",
       "      <td>Chapecoense</td>\n",
       "      <td>Flamengo</td>\n",
       "    </tr>\n",
       "    <tr>\n",
       "      <th>3</th>\n",
       "      <td>4808</td>\n",
       "      <td>20</td>\n",
       "      <td>Palmeiras</td>\n",
       "      <td>10</td>\n",
       "      <td>0</td>\n",
       "      <td>44%</td>\n",
       "      <td>384</td>\n",
       "      <td>Sem Info</td>\n",
       "      <td>18</td>\n",
       "      <td>4</td>\n",
       "      <td>0</td>\n",
       "      <td>1</td>\n",
       "      <td>5</td>\n",
       "      <td>Palmeiras</td>\n",
       "      <td>Criciuma</td>\n",
       "    </tr>\n",
       "    <tr>\n",
       "      <th>5</th>\n",
       "      <td>4833</td>\n",
       "      <td>22</td>\n",
       "      <td>Coritiba</td>\n",
       "      <td>9</td>\n",
       "      <td>0</td>\n",
       "      <td>43%</td>\n",
       "      <td>360</td>\n",
       "      <td>Sem Info</td>\n",
       "      <td>14</td>\n",
       "      <td>5</td>\n",
       "      <td>0</td>\n",
       "      <td>1</td>\n",
       "      <td>11</td>\n",
       "      <td>Coritiba</td>\n",
       "      <td>Sao Paulo</td>\n",
       "    </tr>\n",
       "  </tbody>\n",
       "</table>\n",
       "</div>"
      ],
      "text/plain": [
       "   partida_id  rodata        clube  chutes  chutes_no_alvo posse_de_bola  \\\n",
       "0        4741      13  Chapecoense      15               0           35%   \n",
       "3        4808      20    Palmeiras      10               0           44%   \n",
       "5        4833      22     Coritiba       9               0           43%   \n",
       "\n",
       "   passes precisao_passes  faltas  cartao_amarelo  cartao_vermelho  \\\n",
       "0     280        Sem Info      19               4                0   \n",
       "3     384        Sem Info      18               4                0   \n",
       "5     360        Sem Info      14               5                0   \n",
       "\n",
       "   impedimentos  escanteios     mandante  visitante  \n",
       "0             0           8  Chapecoense   Flamengo  \n",
       "3             1           5    Palmeiras   Criciuma  \n",
       "5             1          11     Coritiba  Sao Paulo  "
      ]
     },
     "execution_count": 160,
     "metadata": {},
     "output_type": "execute_result"
    }
   ],
   "source": [
    "mandante_stats.head(3)"
   ]
  },
  {
   "cell_type": "code",
   "execution_count": 161,
   "id": "a3483b2a-c588-4a39-8de1-922edb7bbe5a",
   "metadata": {},
   "outputs": [
    {
     "data": {
      "text/html": [
       "<div>\n",
       "<style scoped>\n",
       "    .dataframe tbody tr th:only-of-type {\n",
       "        vertical-align: middle;\n",
       "    }\n",
       "\n",
       "    .dataframe tbody tr th {\n",
       "        vertical-align: top;\n",
       "    }\n",
       "\n",
       "    .dataframe thead th {\n",
       "        text-align: right;\n",
       "    }\n",
       "</style>\n",
       "<table border=\"1\" class=\"dataframe\">\n",
       "  <thead>\n",
       "    <tr style=\"text-align: right;\">\n",
       "      <th></th>\n",
       "      <th>partida_id</th>\n",
       "      <th>rodata</th>\n",
       "      <th>clube</th>\n",
       "      <th>chutes</th>\n",
       "      <th>chutes_no_alvo</th>\n",
       "      <th>posse_de_bola</th>\n",
       "      <th>passes</th>\n",
       "      <th>precisao_passes</th>\n",
       "      <th>faltas</th>\n",
       "      <th>cartao_amarelo</th>\n",
       "      <th>cartao_vermelho</th>\n",
       "      <th>impedimentos</th>\n",
       "      <th>escanteios</th>\n",
       "      <th>mandante</th>\n",
       "      <th>visitante</th>\n",
       "    </tr>\n",
       "  </thead>\n",
       "  <tbody>\n",
       "    <tr>\n",
       "      <th>1</th>\n",
       "      <td>4741</td>\n",
       "      <td>13</td>\n",
       "      <td>Flamengo</td>\n",
       "      <td>9</td>\n",
       "      <td>0</td>\n",
       "      <td>65%</td>\n",
       "      <td>509</td>\n",
       "      <td>Sem Info</td>\n",
       "      <td>13</td>\n",
       "      <td>1</td>\n",
       "      <td>0</td>\n",
       "      <td>1</td>\n",
       "      <td>5</td>\n",
       "      <td>Chapecoense</td>\n",
       "      <td>Flamengo</td>\n",
       "    </tr>\n",
       "    <tr>\n",
       "      <th>2</th>\n",
       "      <td>4808</td>\n",
       "      <td>20</td>\n",
       "      <td>Criciuma</td>\n",
       "      <td>10</td>\n",
       "      <td>0</td>\n",
       "      <td>56%</td>\n",
       "      <td>471</td>\n",
       "      <td>Sem Info</td>\n",
       "      <td>17</td>\n",
       "      <td>3</td>\n",
       "      <td>0</td>\n",
       "      <td>1</td>\n",
       "      <td>6</td>\n",
       "      <td>Palmeiras</td>\n",
       "      <td>Criciuma</td>\n",
       "    </tr>\n",
       "    <tr>\n",
       "      <th>4</th>\n",
       "      <td>4833</td>\n",
       "      <td>22</td>\n",
       "      <td>Sao Paulo</td>\n",
       "      <td>5</td>\n",
       "      <td>0</td>\n",
       "      <td>57%</td>\n",
       "      <td>481</td>\n",
       "      <td>Sem Info</td>\n",
       "      <td>10</td>\n",
       "      <td>1</td>\n",
       "      <td>0</td>\n",
       "      <td>3</td>\n",
       "      <td>2</td>\n",
       "      <td>Coritiba</td>\n",
       "      <td>Sao Paulo</td>\n",
       "    </tr>\n",
       "  </tbody>\n",
       "</table>\n",
       "</div>"
      ],
      "text/plain": [
       "   partida_id  rodata      clube  chutes  chutes_no_alvo posse_de_bola  \\\n",
       "1        4741      13   Flamengo       9               0           65%   \n",
       "2        4808      20   Criciuma      10               0           56%   \n",
       "4        4833      22  Sao Paulo       5               0           57%   \n",
       "\n",
       "   passes precisao_passes  faltas  cartao_amarelo  cartao_vermelho  \\\n",
       "1     509        Sem Info      13               1                0   \n",
       "2     471        Sem Info      17               3                0   \n",
       "4     481        Sem Info      10               1                0   \n",
       "\n",
       "   impedimentos  escanteios     mandante  visitante  \n",
       "1             1           5  Chapecoense   Flamengo  \n",
       "2             1           6    Palmeiras   Criciuma  \n",
       "4             3           2     Coritiba  Sao Paulo  "
      ]
     },
     "execution_count": 161,
     "metadata": {},
     "output_type": "execute_result"
    }
   ],
   "source": [
    "visitante_stats.head(3)"
   ]
  },
  {
   "cell_type": "markdown",
   "id": "8da19da0-3f6b-4fbd-a771-22cdf71f0945",
   "metadata": {},
   "source": [
    "Para identificar facilmente a qual time cada estatística pertence na tabela final, adicionamos os prefixos **`mandante_`** e **`visitante_`** às colunas correspondentes."
   ]
  },
  {
   "cell_type": "code",
   "execution_count": 162,
   "id": "62f157cf-662e-431d-8960-4fbfeceb1e47",
   "metadata": {},
   "outputs": [
    {
     "name": "stdout",
     "output_type": "stream",
     "text": [
      "Prefixos adicionados com sucesso!\n"
     ]
    },
    {
     "data": {
      "text/html": [
       "<div>\n",
       "<style scoped>\n",
       "    .dataframe tbody tr th:only-of-type {\n",
       "        vertical-align: middle;\n",
       "    }\n",
       "\n",
       "    .dataframe tbody tr th {\n",
       "        vertical-align: top;\n",
       "    }\n",
       "\n",
       "    .dataframe thead th {\n",
       "        text-align: right;\n",
       "    }\n",
       "</style>\n",
       "<table border=\"1\" class=\"dataframe\">\n",
       "  <thead>\n",
       "    <tr style=\"text-align: right;\">\n",
       "      <th></th>\n",
       "      <th>mandante_chutes</th>\n",
       "      <th>mandante_chutes_no_alvo</th>\n",
       "      <th>mandante_posse_de_bola</th>\n",
       "      <th>mandante_passes</th>\n",
       "      <th>mandante_precisao_passes</th>\n",
       "      <th>mandante_faltas</th>\n",
       "      <th>mandante_cartao_amarelo</th>\n",
       "      <th>mandante_cartao_vermelho</th>\n",
       "      <th>mandante_impedimentos</th>\n",
       "      <th>mandante_escanteios</th>\n",
       "      <th>partida_id</th>\n",
       "    </tr>\n",
       "  </thead>\n",
       "  <tbody>\n",
       "    <tr>\n",
       "      <th>0</th>\n",
       "      <td>15</td>\n",
       "      <td>0</td>\n",
       "      <td>35%</td>\n",
       "      <td>280</td>\n",
       "      <td>Sem Info</td>\n",
       "      <td>19</td>\n",
       "      <td>4</td>\n",
       "      <td>0</td>\n",
       "      <td>0</td>\n",
       "      <td>8</td>\n",
       "      <td>4741</td>\n",
       "    </tr>\n",
       "    <tr>\n",
       "      <th>3</th>\n",
       "      <td>10</td>\n",
       "      <td>0</td>\n",
       "      <td>44%</td>\n",
       "      <td>384</td>\n",
       "      <td>Sem Info</td>\n",
       "      <td>18</td>\n",
       "      <td>4</td>\n",
       "      <td>0</td>\n",
       "      <td>1</td>\n",
       "      <td>5</td>\n",
       "      <td>4808</td>\n",
       "    </tr>\n",
       "    <tr>\n",
       "      <th>5</th>\n",
       "      <td>9</td>\n",
       "      <td>0</td>\n",
       "      <td>43%</td>\n",
       "      <td>360</td>\n",
       "      <td>Sem Info</td>\n",
       "      <td>14</td>\n",
       "      <td>5</td>\n",
       "      <td>0</td>\n",
       "      <td>1</td>\n",
       "      <td>11</td>\n",
       "      <td>4833</td>\n",
       "    </tr>\n",
       "    <tr>\n",
       "      <th>7</th>\n",
       "      <td>15</td>\n",
       "      <td>0</td>\n",
       "      <td>42%</td>\n",
       "      <td>357</td>\n",
       "      <td>Sem Info</td>\n",
       "      <td>20</td>\n",
       "      <td>2</td>\n",
       "      <td>0</td>\n",
       "      <td>1</td>\n",
       "      <td>9</td>\n",
       "      <td>4846</td>\n",
       "    </tr>\n",
       "    <tr>\n",
       "      <th>8</th>\n",
       "      <td>15</td>\n",
       "      <td>0</td>\n",
       "      <td>52%</td>\n",
       "      <td>394</td>\n",
       "      <td>Sem Info</td>\n",
       "      <td>16</td>\n",
       "      <td>3</td>\n",
       "      <td>0</td>\n",
       "      <td>5</td>\n",
       "      <td>2</td>\n",
       "      <td>4856</td>\n",
       "    </tr>\n",
       "    <tr>\n",
       "      <th>...</th>\n",
       "      <td>...</td>\n",
       "      <td>...</td>\n",
       "      <td>...</td>\n",
       "      <td>...</td>\n",
       "      <td>...</td>\n",
       "      <td>...</td>\n",
       "      <td>...</td>\n",
       "      <td>...</td>\n",
       "      <td>...</td>\n",
       "      <td>...</td>\n",
       "      <td>...</td>\n",
       "    </tr>\n",
       "    <tr>\n",
       "      <th>590</th>\n",
       "      <td>17</td>\n",
       "      <td>0</td>\n",
       "      <td>44%</td>\n",
       "      <td>363</td>\n",
       "      <td>Sem Info</td>\n",
       "      <td>14</td>\n",
       "      <td>4</td>\n",
       "      <td>0</td>\n",
       "      <td>0</td>\n",
       "      <td>8</td>\n",
       "      <td>5305</td>\n",
       "    </tr>\n",
       "    <tr>\n",
       "      <th>592</th>\n",
       "      <td>17</td>\n",
       "      <td>0</td>\n",
       "      <td>59%</td>\n",
       "      <td>552</td>\n",
       "      <td>Sem Info</td>\n",
       "      <td>15</td>\n",
       "      <td>2</td>\n",
       "      <td>0</td>\n",
       "      <td>0</td>\n",
       "      <td>6</td>\n",
       "      <td>5306</td>\n",
       "    </tr>\n",
       "    <tr>\n",
       "      <th>595</th>\n",
       "      <td>16</td>\n",
       "      <td>0</td>\n",
       "      <td>57%</td>\n",
       "      <td>541</td>\n",
       "      <td>Sem Info</td>\n",
       "      <td>10</td>\n",
       "      <td>1</td>\n",
       "      <td>0</td>\n",
       "      <td>3</td>\n",
       "      <td>4</td>\n",
       "      <td>5307</td>\n",
       "    </tr>\n",
       "    <tr>\n",
       "      <th>596</th>\n",
       "      <td>10</td>\n",
       "      <td>0</td>\n",
       "      <td>51%</td>\n",
       "      <td>315</td>\n",
       "      <td>Sem Info</td>\n",
       "      <td>16</td>\n",
       "      <td>3</td>\n",
       "      <td>0</td>\n",
       "      <td>1</td>\n",
       "      <td>4</td>\n",
       "      <td>5308</td>\n",
       "    </tr>\n",
       "    <tr>\n",
       "      <th>598</th>\n",
       "      <td>2</td>\n",
       "      <td>0</td>\n",
       "      <td>51%</td>\n",
       "      <td>354</td>\n",
       "      <td>Sem Info</td>\n",
       "      <td>20</td>\n",
       "      <td>3</td>\n",
       "      <td>0</td>\n",
       "      <td>2</td>\n",
       "      <td>7</td>\n",
       "      <td>5309</td>\n",
       "    </tr>\n",
       "  </tbody>\n",
       "</table>\n",
       "<p>300 rows × 11 columns</p>\n",
       "</div>"
      ],
      "text/plain": [
       "     mandante_chutes  mandante_chutes_no_alvo mandante_posse_de_bola  \\\n",
       "0                 15                        0                    35%   \n",
       "3                 10                        0                    44%   \n",
       "5                  9                        0                    43%   \n",
       "7                 15                        0                    42%   \n",
       "8                 15                        0                    52%   \n",
       "..               ...                      ...                    ...   \n",
       "590               17                        0                    44%   \n",
       "592               17                        0                    59%   \n",
       "595               16                        0                    57%   \n",
       "596               10                        0                    51%   \n",
       "598                2                        0                    51%   \n",
       "\n",
       "     mandante_passes mandante_precisao_passes  mandante_faltas  \\\n",
       "0                280                 Sem Info               19   \n",
       "3                384                 Sem Info               18   \n",
       "5                360                 Sem Info               14   \n",
       "7                357                 Sem Info               20   \n",
       "8                394                 Sem Info               16   \n",
       "..               ...                      ...              ...   \n",
       "590              363                 Sem Info               14   \n",
       "592              552                 Sem Info               15   \n",
       "595              541                 Sem Info               10   \n",
       "596              315                 Sem Info               16   \n",
       "598              354                 Sem Info               20   \n",
       "\n",
       "     mandante_cartao_amarelo  mandante_cartao_vermelho  mandante_impedimentos  \\\n",
       "0                          4                         0                      0   \n",
       "3                          4                         0                      1   \n",
       "5                          5                         0                      1   \n",
       "7                          2                         0                      1   \n",
       "8                          3                         0                      5   \n",
       "..                       ...                       ...                    ...   \n",
       "590                        4                         0                      0   \n",
       "592                        2                         0                      0   \n",
       "595                        1                         0                      3   \n",
       "596                        3                         0                      1   \n",
       "598                        3                         0                      2   \n",
       "\n",
       "     mandante_escanteios  partida_id  \n",
       "0                      8        4741  \n",
       "3                      5        4808  \n",
       "5                     11        4833  \n",
       "7                      9        4846  \n",
       "8                      2        4856  \n",
       "..                   ...         ...  \n",
       "590                    8        5305  \n",
       "592                    6        5306  \n",
       "595                    4        5307  \n",
       "596                    4        5308  \n",
       "598                    7        5309  \n",
       "\n",
       "[300 rows x 11 columns]"
      ]
     },
     "metadata": {},
     "output_type": "display_data"
    }
   ],
   "source": [
    "# Adicionando prefixos\n",
    "colunas_stats = [\n",
    "    'chutes', 'chutes_no_alvo', 'posse_de_bola', 'passes', 'precisao_passes',\n",
    "    'faltas', 'cartao_amarelo', 'cartao_vermelho', 'impedimentos', 'escanteios'\n",
    "]\n",
    "\n",
    "# Prefixando e selecionando colunas para a tabela de mandantes\n",
    "mandante_stats_renamed = mandante_stats[colunas_stats].add_prefix('mandante_')\n",
    "mandante_stats_renamed['partida_id'] = mandante_stats['partida_id']\n",
    "\n",
    "# Prefixando e selecionando colunas para a tabela de visitantes\n",
    "visitante_stats_renamed = visitante_stats[colunas_stats].add_prefix('visitante_')\n",
    "visitante_stats_renamed['partida_id'] = visitante_stats['partida_id']\n",
    "\n",
    "print(\"Prefixos adicionados com sucesso!\")\n",
    "display(mandante_stats_renamed.head(300))"
   ]
  },
  {
   "cell_type": "code",
   "execution_count": 163,
   "id": "9fd7f9cf-2203-4729-bcb7-12ee91bb1487",
   "metadata": {},
   "outputs": [
    {
     "name": "stdout",
     "output_type": "stream",
     "text": [
      "Tabela Mestra final criada com sucesso!\n",
      "Dimensões da tabela final: (3059, 34)\n"
     ]
    }
   ],
   "source": [
    "df_stats_unificado = pd.merge(mandante_stats_renamed, visitante_stats_renamed, on='partida_id')\n",
    "\n",
    "# Célula 11: Junção final com a tabela principal\n",
    "df_final_partidas = pd.merge(df_full_cleaned, df_stats_unificado, on='partida_id')\n",
    "\n",
    "print(\"Tabela Mestra final criada com sucesso!\")\n",
    "print(f\"Dimensões da tabela final: {df_final_partidas.shape}\")"
   ]
  },
  {
   "cell_type": "code",
   "execution_count": 164,
   "id": "fbe63aa8-121b-4327-871e-c1446a736611",
   "metadata": {},
   "outputs": [
    {
     "data": {
      "text/html": [
       "<div>\n",
       "<style scoped>\n",
       "    .dataframe tbody tr th:only-of-type {\n",
       "        vertical-align: middle;\n",
       "    }\n",
       "\n",
       "    .dataframe tbody tr th {\n",
       "        vertical-align: top;\n",
       "    }\n",
       "\n",
       "    .dataframe thead th {\n",
       "        text-align: right;\n",
       "    }\n",
       "</style>\n",
       "<table border=\"1\" class=\"dataframe\">\n",
       "  <thead>\n",
       "    <tr style=\"text-align: right;\">\n",
       "      <th></th>\n",
       "      <th>partida_id</th>\n",
       "      <th>rodata</th>\n",
       "      <th>data</th>\n",
       "      <th>hora</th>\n",
       "      <th>mandante</th>\n",
       "      <th>visitante</th>\n",
       "      <th>tecnico_mandante</th>\n",
       "      <th>tecnico_visitante</th>\n",
       "      <th>vencedor</th>\n",
       "      <th>arena</th>\n",
       "      <th>...</th>\n",
       "      <th>visitante_chutes</th>\n",
       "      <th>visitante_chutes_no_alvo</th>\n",
       "      <th>visitante_posse_de_bola</th>\n",
       "      <th>visitante_passes</th>\n",
       "      <th>visitante_precisao_passes</th>\n",
       "      <th>visitante_faltas</th>\n",
       "      <th>visitante_cartao_amarelo</th>\n",
       "      <th>visitante_cartao_vermelho</th>\n",
       "      <th>visitante_impedimentos</th>\n",
       "      <th>visitante_escanteios</th>\n",
       "    </tr>\n",
       "  </thead>\n",
       "  <tbody>\n",
       "    <tr>\n",
       "      <th>0</th>\n",
       "      <td>4741</td>\n",
       "      <td>13</td>\n",
       "      <td>2014-08-03</td>\n",
       "      <td>16:00:00</td>\n",
       "      <td>Chapecoense</td>\n",
       "      <td>Flamengo</td>\n",
       "      <td>C. Rodrigues</td>\n",
       "      <td>V. Luxemburgo da Silva</td>\n",
       "      <td>Chapecoense</td>\n",
       "      <td>Arena Condá</td>\n",
       "      <td>...</td>\n",
       "      <td>9</td>\n",
       "      <td>0</td>\n",
       "      <td>65%</td>\n",
       "      <td>509</td>\n",
       "      <td>Sem Info</td>\n",
       "      <td>13</td>\n",
       "      <td>1</td>\n",
       "      <td>0</td>\n",
       "      <td>1</td>\n",
       "      <td>5</td>\n",
       "    </tr>\n",
       "    <tr>\n",
       "      <th>1</th>\n",
       "      <td>4808</td>\n",
       "      <td>20</td>\n",
       "      <td>2014-09-10</td>\n",
       "      <td>19:30:00</td>\n",
       "      <td>Palmeiras</td>\n",
       "      <td>Criciuma</td>\n",
       "      <td>D. Silvestre Júnior</td>\n",
       "      <td>G. Dal Pozzo</td>\n",
       "      <td>Palmeiras</td>\n",
       "      <td>Estádio Municipal Paulo Machado de Carvalho</td>\n",
       "      <td>...</td>\n",
       "      <td>10</td>\n",
       "      <td>0</td>\n",
       "      <td>56%</td>\n",
       "      <td>471</td>\n",
       "      <td>Sem Info</td>\n",
       "      <td>17</td>\n",
       "      <td>3</td>\n",
       "      <td>0</td>\n",
       "      <td>1</td>\n",
       "      <td>6</td>\n",
       "    </tr>\n",
       "    <tr>\n",
       "      <th>2</th>\n",
       "      <td>4833</td>\n",
       "      <td>22</td>\n",
       "      <td>2014-09-17</td>\n",
       "      <td>22:00:00</td>\n",
       "      <td>Coritiba</td>\n",
       "      <td>Sao Paulo</td>\n",
       "      <td>M. dos Santos Gonçalves</td>\n",
       "      <td>M. Ramalho</td>\n",
       "      <td>Coritiba</td>\n",
       "      <td>Couto Pereira</td>\n",
       "      <td>...</td>\n",
       "      <td>5</td>\n",
       "      <td>0</td>\n",
       "      <td>57%</td>\n",
       "      <td>481</td>\n",
       "      <td>Sem Info</td>\n",
       "      <td>10</td>\n",
       "      <td>1</td>\n",
       "      <td>0</td>\n",
       "      <td>3</td>\n",
       "      <td>2</td>\n",
       "    </tr>\n",
       "    <tr>\n",
       "      <th>3</th>\n",
       "      <td>4846</td>\n",
       "      <td>23</td>\n",
       "      <td>2014-09-21</td>\n",
       "      <td>18:30:00</td>\n",
       "      <td>Gremio</td>\n",
       "      <td>Chapecoense</td>\n",
       "      <td>L. Scolari</td>\n",
       "      <td>J. da Silva</td>\n",
       "      <td>Gremio</td>\n",
       "      <td>Arena do Grêmio</td>\n",
       "      <td>...</td>\n",
       "      <td>14</td>\n",
       "      <td>0</td>\n",
       "      <td>58%</td>\n",
       "      <td>477</td>\n",
       "      <td>Sem Info</td>\n",
       "      <td>14</td>\n",
       "      <td>4</td>\n",
       "      <td>0</td>\n",
       "      <td>2</td>\n",
       "      <td>4</td>\n",
       "    </tr>\n",
       "    <tr>\n",
       "      <th>4</th>\n",
       "      <td>4856</td>\n",
       "      <td>24</td>\n",
       "      <td>2014-09-25</td>\n",
       "      <td>20:29:00</td>\n",
       "      <td>Atletico-MG</td>\n",
       "      <td>Santos</td>\n",
       "      <td>L. Culpi</td>\n",
       "      <td>E. Alves Moreira</td>\n",
       "      <td>Atletico-MG</td>\n",
       "      <td>Estádio Raimundo Sampaio</td>\n",
       "      <td>...</td>\n",
       "      <td>13</td>\n",
       "      <td>0</td>\n",
       "      <td>48%</td>\n",
       "      <td>355</td>\n",
       "      <td>Sem Info</td>\n",
       "      <td>18</td>\n",
       "      <td>3</td>\n",
       "      <td>0</td>\n",
       "      <td>6</td>\n",
       "      <td>10</td>\n",
       "    </tr>\n",
       "  </tbody>\n",
       "</table>\n",
       "<p>5 rows × 34 columns</p>\n",
       "</div>"
      ],
      "text/plain": [
       "   partida_id  rodata       data      hora     mandante    visitante  \\\n",
       "0        4741      13 2014-08-03  16:00:00  Chapecoense     Flamengo   \n",
       "1        4808      20 2014-09-10  19:30:00    Palmeiras     Criciuma   \n",
       "2        4833      22 2014-09-17  22:00:00     Coritiba    Sao Paulo   \n",
       "3        4846      23 2014-09-21  18:30:00       Gremio  Chapecoense   \n",
       "4        4856      24 2014-09-25  20:29:00  Atletico-MG       Santos   \n",
       "\n",
       "          tecnico_mandante       tecnico_visitante     vencedor  \\\n",
       "0             C. Rodrigues  V. Luxemburgo da Silva  Chapecoense   \n",
       "1      D. Silvestre Júnior            G. Dal Pozzo    Palmeiras   \n",
       "2  M. dos Santos Gonçalves              M. Ramalho     Coritiba   \n",
       "3               L. Scolari             J. da Silva       Gremio   \n",
       "4                 L. Culpi        E. Alves Moreira  Atletico-MG   \n",
       "\n",
       "                                         arena  ...  visitante_chutes  \\\n",
       "0                                  Arena Condá  ...                 9   \n",
       "1  Estádio Municipal Paulo Machado de Carvalho  ...                10   \n",
       "2                                Couto Pereira  ...                 5   \n",
       "3                              Arena do Grêmio  ...                14   \n",
       "4                     Estádio Raimundo Sampaio  ...                13   \n",
       "\n",
       "   visitante_chutes_no_alvo visitante_posse_de_bola visitante_passes  \\\n",
       "0                         0                     65%              509   \n",
       "1                         0                     56%              471   \n",
       "2                         0                     57%              481   \n",
       "3                         0                     58%              477   \n",
       "4                         0                     48%              355   \n",
       "\n",
       "   visitante_precisao_passes  visitante_faltas visitante_cartao_amarelo  \\\n",
       "0                   Sem Info                13                        1   \n",
       "1                   Sem Info                17                        3   \n",
       "2                   Sem Info                10                        1   \n",
       "3                   Sem Info                14                        4   \n",
       "4                   Sem Info                18                        3   \n",
       "\n",
       "   visitante_cartao_vermelho visitante_impedimentos  visitante_escanteios  \n",
       "0                          0                      1                     5  \n",
       "1                          0                      1                     6  \n",
       "2                          0                      3                     2  \n",
       "3                          0                      2                     4  \n",
       "4                          0                      6                    10  \n",
       "\n",
       "[5 rows x 34 columns]"
      ]
     },
     "metadata": {},
     "output_type": "display_data"
    }
   ],
   "source": [
    "display(df_final_partidas.head())"
   ]
  },
  {
   "cell_type": "markdown",
   "id": "395f5d1e",
   "metadata": {},
   "source": [
    "### 💾 Salvando a Tabela Mestra\n",
    "\n",
    "Arquivo final pronto para análise!  \n",
    "O dataset consolidado foi salvo em CSV para uso futuro e compartilhamento."
   ]
  },
  {
   "cell_type": "code",
   "execution_count": 165,
   "id": "c3029cbf",
   "metadata": {},
   "outputs": [
    {
     "name": "stdout",
     "output_type": "stream",
     "text": [
      "Arquivo 'partidas_com_estatisticas_completas.csv' salvo com sucesso!\n"
     ]
    }
   ],
   "source": [
    "# Tirando linhas com estatísticas incompletas\n",
    "df_final_partidas = df_final_partidas[\n",
    "    (df_final_partidas['mandante_precisao_passes'] != 'Sem Info') &\n",
    "    (df_final_partidas['visitante_precisao_passes'] != 'Sem Info')\n",
    "]\n",
    "\n",
    "# Salvando a tabela final em um novo arquivo\n",
    "df_final_partidas.to_csv('Brasileirao_Dataset/partidas_com_estatisticas_completas.csv', index=False)\n",
    "\n",
    "print(\"Arquivo 'partidas_com_estatisticas_completas.csv' salvo com sucesso!\")"
   ]
  },
  {
   "cell_type": "markdown",
   "id": "897b6ee3",
   "metadata": {},
   "source": [
    "## ⭐ Parte 3: Análise de Fatores de Sucesso no Jogo\n",
    "\n",
    "🎯 **Objetivo:** Descobrir quais fatores de performance estão mais correlacionados com os resultados das partidas, respondendo perguntas da equipe técnica e buscando novos insights!\n",
    "\n",
    "---"
   ]
  },
  {
   "cell_type": "code",
   "execution_count": 166,
   "id": "d20b5b79",
   "metadata": {},
   "outputs": [],
   "source": [
    "import numpy as np\n",
    "import plotly.express as px\n",
    "import plotly.io as pio\n",
    "\n",
    "\n",
    "# Definindo um tema padrão mais limpo para os gráficos Plotly\n",
    "pio.templates.default = \"plotly_white\"\n",
    "\n",
    "# Cores padrão para os gráficos\n",
    "COLOR_RESULTADO = {\n",
    "    'Vitória': 'green',\n",
    "    'Derrota': 'red',\n",
    "    'Empate': 'yellow'\n",
    "}"
   ]
  },
  {
   "cell_type": "code",
   "execution_count": 167,
   "id": "de14fb9d",
   "metadata": {},
   "outputs": [
    {
     "name": "stdout",
     "output_type": "stream",
     "text": [
      "Tabela mestra 'partidas_com_estatisticas_completas.csv' carregada com sucesso!\n",
      "A tabela contém 2018 partidas e 34 colunas.\n"
     ]
    },
    {
     "data": {
      "text/html": [
       "<div>\n",
       "<style scoped>\n",
       "    .dataframe tbody tr th:only-of-type {\n",
       "        vertical-align: middle;\n",
       "    }\n",
       "\n",
       "    .dataframe tbody tr th {\n",
       "        vertical-align: top;\n",
       "    }\n",
       "\n",
       "    .dataframe thead th {\n",
       "        text-align: right;\n",
       "    }\n",
       "</style>\n",
       "<table border=\"1\" class=\"dataframe\">\n",
       "  <thead>\n",
       "    <tr style=\"text-align: right;\">\n",
       "      <th></th>\n",
       "      <th>partida_id</th>\n",
       "      <th>rodata</th>\n",
       "      <th>data</th>\n",
       "      <th>hora</th>\n",
       "      <th>mandante</th>\n",
       "      <th>visitante</th>\n",
       "      <th>tecnico_mandante</th>\n",
       "      <th>tecnico_visitante</th>\n",
       "      <th>vencedor</th>\n",
       "      <th>arena</th>\n",
       "      <th>...</th>\n",
       "      <th>visitante_chutes</th>\n",
       "      <th>visitante_chutes_no_alvo</th>\n",
       "      <th>visitante_posse_de_bola</th>\n",
       "      <th>visitante_passes</th>\n",
       "      <th>visitante_precisao_passes</th>\n",
       "      <th>visitante_faltas</th>\n",
       "      <th>visitante_cartao_amarelo</th>\n",
       "      <th>visitante_cartao_vermelho</th>\n",
       "      <th>visitante_impedimentos</th>\n",
       "      <th>visitante_escanteios</th>\n",
       "    </tr>\n",
       "  </thead>\n",
       "  <tbody>\n",
       "    <tr>\n",
       "      <th>0</th>\n",
       "      <td>6126</td>\n",
       "      <td>1</td>\n",
       "      <td>2018-04-14</td>\n",
       "      <td>16:00:00</td>\n",
       "      <td>Cruzeiro</td>\n",
       "      <td>Gremio</td>\n",
       "      <td>L. Venker de Menezes</td>\n",
       "      <td>Renato Gaúcho</td>\n",
       "      <td>Gremio</td>\n",
       "      <td>Mineirão</td>\n",
       "      <td>...</td>\n",
       "      <td>6</td>\n",
       "      <td>2</td>\n",
       "      <td>60%</td>\n",
       "      <td>649</td>\n",
       "      <td>86%</td>\n",
       "      <td>15</td>\n",
       "      <td>1</td>\n",
       "      <td>1</td>\n",
       "      <td>3</td>\n",
       "      <td>4</td>\n",
       "    </tr>\n",
       "    <tr>\n",
       "      <th>1</th>\n",
       "      <td>6127</td>\n",
       "      <td>1</td>\n",
       "      <td>2018-04-14</td>\n",
       "      <td>19:02:00</td>\n",
       "      <td>Vitoria</td>\n",
       "      <td>Flamengo</td>\n",
       "      <td>V. Carmo Mancini</td>\n",
       "      <td>M. Nogueira Barbieri</td>\n",
       "      <td>-</td>\n",
       "      <td>Barradão</td>\n",
       "      <td>...</td>\n",
       "      <td>10</td>\n",
       "      <td>5</td>\n",
       "      <td>34%</td>\n",
       "      <td>286</td>\n",
       "      <td>72%</td>\n",
       "      <td>10</td>\n",
       "      <td>2</td>\n",
       "      <td>1</td>\n",
       "      <td>2</td>\n",
       "      <td>5</td>\n",
       "    </tr>\n",
       "    <tr>\n",
       "      <th>2</th>\n",
       "      <td>6128</td>\n",
       "      <td>1</td>\n",
       "      <td>2018-04-14</td>\n",
       "      <td>21:03:00</td>\n",
       "      <td>Santos</td>\n",
       "      <td>Ceara</td>\n",
       "      <td>J. Ribeiro Ventura</td>\n",
       "      <td>M. Oliveira Chamusca</td>\n",
       "      <td>Santos</td>\n",
       "      <td>Estádio Municipal Paulo Machado de Carvalho</td>\n",
       "      <td>...</td>\n",
       "      <td>10</td>\n",
       "      <td>2</td>\n",
       "      <td>46%</td>\n",
       "      <td>472</td>\n",
       "      <td>85%</td>\n",
       "      <td>5</td>\n",
       "      <td>1</td>\n",
       "      <td>0</td>\n",
       "      <td>0</td>\n",
       "      <td>2</td>\n",
       "    </tr>\n",
       "  </tbody>\n",
       "</table>\n",
       "<p>3 rows × 34 columns</p>\n",
       "</div>"
      ],
      "text/plain": [
       "   partida_id  rodata        data      hora  mandante visitante  \\\n",
       "0        6126       1  2018-04-14  16:00:00  Cruzeiro    Gremio   \n",
       "1        6127       1  2018-04-14  19:02:00   Vitoria  Flamengo   \n",
       "2        6128       1  2018-04-14  21:03:00    Santos     Ceara   \n",
       "\n",
       "       tecnico_mandante     tecnico_visitante vencedor  \\\n",
       "0  L. Venker de Menezes         Renato Gaúcho   Gremio   \n",
       "1      V. Carmo Mancini  M. Nogueira Barbieri        -   \n",
       "2    J. Ribeiro Ventura  M. Oliveira Chamusca   Santos   \n",
       "\n",
       "                                         arena  ...  visitante_chutes  \\\n",
       "0                                     Mineirão  ...                 6   \n",
       "1                                     Barradão  ...                10   \n",
       "2  Estádio Municipal Paulo Machado de Carvalho  ...                10   \n",
       "\n",
       "   visitante_chutes_no_alvo visitante_posse_de_bola visitante_passes  \\\n",
       "0                         2                     60%              649   \n",
       "1                         5                     34%              286   \n",
       "2                         2                     46%              472   \n",
       "\n",
       "   visitante_precisao_passes  visitante_faltas visitante_cartao_amarelo  \\\n",
       "0                        86%                15                        1   \n",
       "1                        72%                10                        2   \n",
       "2                        85%                 5                        1   \n",
       "\n",
       "   visitante_cartao_vermelho visitante_impedimentos  visitante_escanteios  \n",
       "0                          1                      3                     4  \n",
       "1                          1                      2                     5  \n",
       "2                          0                      0                     2  \n",
       "\n",
       "[3 rows x 34 columns]"
      ]
     },
     "execution_count": 167,
     "metadata": {},
     "output_type": "execute_result"
    }
   ],
   "source": [
    "# Carregando a tabela mestra que preparamos\n",
    "try:\n",
    "    df_analise = pd.read_csv('Brasileirao_Dataset/partidas_com_estatisticas_completas.csv')\n",
    "    print(\"Tabela mestra 'partidas_com_estatisticas_completas.csv' carregada com sucesso!\")\n",
    "    print(f\"A tabela contém {df_analise.shape[0]} partidas e {df_analise.shape[1]} colunas.\")\n",
    "except FileNotFoundError:\n",
    "    print(\"Erro: O arquivo 'partidas_com_estatisticas_completas.csv' não foi encontrado.\")\n",
    "    print(\"Por favor, certifique-se de que o notebook da Parte 1 e 2 foi executado com sucesso.\")\n",
    "# Verificando as primeiras linhas da tabela mestra\n",
    "df_analise.head(3)"
   ]
  },
  {
   "cell_type": "markdown",
   "id": "22cb5603",
   "metadata": {},
   "source": [
    "### Preparação para Análise: Coluna de Resultado\n",
    "\n",
    "Criamos a coluna **resultado** para classificar cada partida do ponto de vista do mandante:  \n",
    "**Vitória**, **Empate** ou **Derrota**."
   ]
  },
  {
   "cell_type": "code",
   "execution_count": 168,
   "id": "32d6df88",
   "metadata": {},
   "outputs": [
    {
     "name": "stdout",
     "output_type": "stream",
     "text": [
      "Coluna 'resultado' e função de perspectiva criadas com sucesso.\n",
      "\n",
      "Contagem de resultados do mandante:\n",
      "resultado\n",
      "Vitória    1049\n",
      "Derrota     553\n",
      "Empate      416\n",
      "Name: count, dtype: int64\n"
     ]
    }
   ],
   "source": [
    "# Limpando os nomes das colunas e dados de times\n",
    "df_analise.columns = df_analise.columns.str.lower().str.strip()\n",
    "for col in ['vencedor', 'mandante', 'visitante']:\n",
    "    df_analise[col] = df_analise[col].str.strip()\n",
    "\n",
    "# Criando a coluna 'resultado' para o time mandante\n",
    "conditions = [\n",
    "    df_analise['vencedor'] == df_analise['mandante'],\n",
    "    df_analise['vencedor'] == '-'\n",
    "]\n",
    "choices = ['Vitória', 'Empate']\n",
    "df_analise['resultado'] = np.select(conditions, choices, default='Derrota')\n",
    "\n",
    "# Função auxiliar para obter o resultado da perspectiva do time de interesse\n",
    "def get_resultado_perspectiva(row, time_analisado):\n",
    "    \"\"\"Interpreta o resultado da partida do ponto de vista do time especificado.\"\"\"\n",
    "    if row['mandante'] == time_analisado:\n",
    "        return row['resultado']\n",
    "    elif row['visitante'] == time_analisado:\n",
    "        if row['resultado'] == 'Vitória': return 'Derrota'\n",
    "        if row['resultado'] == 'Derrota': return 'Vitória'\n",
    "        return 'Empate'\n",
    "    return None\n",
    "\n",
    "print(\"Coluna 'resultado' e função de perspectiva criadas com sucesso.\")\n",
    "print(\"\\nContagem de resultados do mandante:\")\n",
    "print(df_analise['resultado'].value_counts())\n"
   ]
  },
  {
   "cell_type": "code",
   "execution_count": 169,
   "id": "4e475877",
   "metadata": {},
   "outputs": [
    {
     "data": {
      "text/plain": [
       "2018"
      ]
     },
     "execution_count": 169,
     "metadata": {},
     "output_type": "execute_result"
    }
   ],
   "source": [
    "total_partidas = 1049 + 553 + 416\n",
    "total_partidas"
   ]
  },
  {
   "cell_type": "code",
   "execution_count": 170,
   "id": "9bfc10c9",
   "metadata": {},
   "outputs": [
    {
     "data": {
      "text/html": [
       "<div>\n",
       "<style scoped>\n",
       "    .dataframe tbody tr th:only-of-type {\n",
       "        vertical-align: middle;\n",
       "    }\n",
       "\n",
       "    .dataframe tbody tr th {\n",
       "        vertical-align: top;\n",
       "    }\n",
       "\n",
       "    .dataframe thead th {\n",
       "        text-align: right;\n",
       "    }\n",
       "</style>\n",
       "<table border=\"1\" class=\"dataframe\">\n",
       "  <thead>\n",
       "    <tr style=\"text-align: right;\">\n",
       "      <th></th>\n",
       "      <th>partida_id</th>\n",
       "      <th>rodata</th>\n",
       "      <th>data</th>\n",
       "      <th>hora</th>\n",
       "      <th>mandante</th>\n",
       "      <th>visitante</th>\n",
       "      <th>tecnico_mandante</th>\n",
       "      <th>tecnico_visitante</th>\n",
       "      <th>vencedor</th>\n",
       "      <th>arena</th>\n",
       "      <th>...</th>\n",
       "      <th>visitante_chutes_no_alvo</th>\n",
       "      <th>visitante_posse_de_bola</th>\n",
       "      <th>visitante_passes</th>\n",
       "      <th>visitante_precisao_passes</th>\n",
       "      <th>visitante_faltas</th>\n",
       "      <th>visitante_cartao_amarelo</th>\n",
       "      <th>visitante_cartao_vermelho</th>\n",
       "      <th>visitante_impedimentos</th>\n",
       "      <th>visitante_escanteios</th>\n",
       "      <th>resultado</th>\n",
       "    </tr>\n",
       "  </thead>\n",
       "  <tbody>\n",
       "    <tr>\n",
       "      <th>0</th>\n",
       "      <td>6126</td>\n",
       "      <td>1</td>\n",
       "      <td>2018-04-14</td>\n",
       "      <td>16:00:00</td>\n",
       "      <td>Cruzeiro</td>\n",
       "      <td>Gremio</td>\n",
       "      <td>L. Venker de Menezes</td>\n",
       "      <td>Renato Gaúcho</td>\n",
       "      <td>Gremio</td>\n",
       "      <td>Mineirão</td>\n",
       "      <td>...</td>\n",
       "      <td>2</td>\n",
       "      <td>60%</td>\n",
       "      <td>649</td>\n",
       "      <td>86%</td>\n",
       "      <td>15</td>\n",
       "      <td>1</td>\n",
       "      <td>1</td>\n",
       "      <td>3</td>\n",
       "      <td>4</td>\n",
       "      <td>Derrota</td>\n",
       "    </tr>\n",
       "    <tr>\n",
       "      <th>1</th>\n",
       "      <td>6127</td>\n",
       "      <td>1</td>\n",
       "      <td>2018-04-14</td>\n",
       "      <td>19:02:00</td>\n",
       "      <td>Vitoria</td>\n",
       "      <td>Flamengo</td>\n",
       "      <td>V. Carmo Mancini</td>\n",
       "      <td>M. Nogueira Barbieri</td>\n",
       "      <td>-</td>\n",
       "      <td>Barradão</td>\n",
       "      <td>...</td>\n",
       "      <td>5</td>\n",
       "      <td>34%</td>\n",
       "      <td>286</td>\n",
       "      <td>72%</td>\n",
       "      <td>10</td>\n",
       "      <td>2</td>\n",
       "      <td>1</td>\n",
       "      <td>2</td>\n",
       "      <td>5</td>\n",
       "      <td>Empate</td>\n",
       "    </tr>\n",
       "    <tr>\n",
       "      <th>2</th>\n",
       "      <td>6128</td>\n",
       "      <td>1</td>\n",
       "      <td>2018-04-14</td>\n",
       "      <td>21:03:00</td>\n",
       "      <td>Santos</td>\n",
       "      <td>Ceara</td>\n",
       "      <td>J. Ribeiro Ventura</td>\n",
       "      <td>M. Oliveira Chamusca</td>\n",
       "      <td>Santos</td>\n",
       "      <td>Estádio Municipal Paulo Machado de Carvalho</td>\n",
       "      <td>...</td>\n",
       "      <td>2</td>\n",
       "      <td>46%</td>\n",
       "      <td>472</td>\n",
       "      <td>85%</td>\n",
       "      <td>5</td>\n",
       "      <td>1</td>\n",
       "      <td>0</td>\n",
       "      <td>0</td>\n",
       "      <td>2</td>\n",
       "      <td>Vitória</td>\n",
       "    </tr>\n",
       "  </tbody>\n",
       "</table>\n",
       "<p>3 rows × 35 columns</p>\n",
       "</div>"
      ],
      "text/plain": [
       "   partida_id  rodata        data      hora  mandante visitante  \\\n",
       "0        6126       1  2018-04-14  16:00:00  Cruzeiro    Gremio   \n",
       "1        6127       1  2018-04-14  19:02:00   Vitoria  Flamengo   \n",
       "2        6128       1  2018-04-14  21:03:00    Santos     Ceara   \n",
       "\n",
       "       tecnico_mandante     tecnico_visitante vencedor  \\\n",
       "0  L. Venker de Menezes         Renato Gaúcho   Gremio   \n",
       "1      V. Carmo Mancini  M. Nogueira Barbieri        -   \n",
       "2    J. Ribeiro Ventura  M. Oliveira Chamusca   Santos   \n",
       "\n",
       "                                         arena  ...  visitante_chutes_no_alvo  \\\n",
       "0                                     Mineirão  ...                         2   \n",
       "1                                     Barradão  ...                         5   \n",
       "2  Estádio Municipal Paulo Machado de Carvalho  ...                         2   \n",
       "\n",
       "   visitante_posse_de_bola visitante_passes visitante_precisao_passes  \\\n",
       "0                      60%              649                       86%   \n",
       "1                      34%              286                       72%   \n",
       "2                      46%              472                       85%   \n",
       "\n",
       "   visitante_faltas  visitante_cartao_amarelo visitante_cartao_vermelho  \\\n",
       "0                15                         1                         1   \n",
       "1                10                         2                         1   \n",
       "2                 5                         1                         0   \n",
       "\n",
       "   visitante_impedimentos visitante_escanteios  resultado  \n",
       "0                       3                    4    Derrota  \n",
       "1                       2                    5     Empate  \n",
       "2                       0                    2    Vitória  \n",
       "\n",
       "[3 rows x 35 columns]"
      ]
     },
     "metadata": {},
     "output_type": "display_data"
    }
   ],
   "source": [
    "display(df_analise.head(3))\n"
   ]
  },
  {
   "cell_type": "markdown",
   "id": "f88ba4a0",
   "metadata": {},
   "source": [
    "## ⚽ Posse de Bola: Quem Domina, Ganha?\n",
    "\n",
    "A posse de bola é um dos indicadores mais tradicionais do futebol moderno. Mas será que ter mais a bola realmente aumenta as chances de vitória no Brasileirão?\n",
    "\n",
    "Nesta seção, analisamos:\n",
    "\n",
    "- **Como a posse de bola está distribuída entre mandantes e visitantes.**\n",
    "- **A relação entre posse de bola e resultado final da partida.**\n",
    "- **Percentual de vitórias, empates e derrotas para o time com maior posse.**\n",
    "\n",
    "Visualizamos e interpretamos os dados para responder à pergunta:  \n",
    "> **Ter mais posse de bola é sinônimo de sucesso? Ou o contra-ataque ainda é rei no futebol brasileiro?**\n",
    "\n",
    "Acompanhe os gráficos e insights a seguir!"
   ]
  },
  {
   "cell_type": "code",
   "execution_count": 171,
   "id": "35b9ddd9",
   "metadata": {},
   "outputs": [
    {
     "name": "stdout",
     "output_type": "stream",
     "text": [
      "--- Resultado para o time com MAIOR posse de bola ---\n"
     ]
    },
    {
     "data": {
      "text/html": [
       "<div>\n",
       "<style scoped>\n",
       "    .dataframe tbody tr th:only-of-type {\n",
       "        vertical-align: middle;\n",
       "    }\n",
       "\n",
       "    .dataframe tbody tr th {\n",
       "        vertical-align: top;\n",
       "    }\n",
       "\n",
       "    .dataframe thead th {\n",
       "        text-align: right;\n",
       "    }\n",
       "</style>\n",
       "<table border=\"1\" class=\"dataframe\">\n",
       "  <thead>\n",
       "    <tr style=\"text-align: right;\">\n",
       "      <th></th>\n",
       "      <th>resultado</th>\n",
       "      <th>percentual</th>\n",
       "    </tr>\n",
       "  </thead>\n",
       "  <tbody>\n",
       "    <tr>\n",
       "      <th>0</th>\n",
       "      <td>Derrota</td>\n",
       "      <td>42.65</td>\n",
       "    </tr>\n",
       "    <tr>\n",
       "      <th>1</th>\n",
       "      <td>Vitória</td>\n",
       "      <td>36.74</td>\n",
       "    </tr>\n",
       "    <tr>\n",
       "      <th>2</th>\n",
       "      <td>Empate</td>\n",
       "      <td>20.61</td>\n",
       "    </tr>\n",
       "  </tbody>\n",
       "</table>\n",
       "</div>"
      ],
      "text/plain": [
       "  resultado  percentual\n",
       "0   Derrota       42.65\n",
       "1   Vitória       36.74\n",
       "2    Empate       20.61"
      ]
     },
     "metadata": {},
     "output_type": "display_data"
    },
    {
     "data": {
      "application/vnd.plotly.v1+json": {
       "config": {
        "plotlyServerURL": "https://plot.ly"
       },
       "data": [
        {
         "customdata": [
          [
           "Derrota"
          ],
          [
           "Vitória"
          ],
          [
           "Empate"
          ]
         ],
         "domain": {
          "x": [
           0,
           1
          ],
          "y": [
           0,
           1
          ]
         },
         "hole": 0.3,
         "hovertemplate": "resultado=%{customdata[0]}<br>percentual=%{value}<extra></extra>",
         "labels": [
          "Derrota",
          "Vitória",
          "Empate"
         ],
         "legendgroup": "",
         "marker": {
          "colors": [
           "red",
           "green",
           "yellow"
          ]
         },
         "name": "",
         "showlegend": true,
         "textinfo": "percent+label",
         "textposition": "inside",
         "type": "pie",
         "values": {
          "bdata": "dQwhYmJTRUC4wVoVFF9CQKdjCBETmzRA",
          "dtype": "f8"
         }
        }
       ],
       "layout": {
        "legend": {
         "tracegroupgap": 0
        },
        "template": {
         "data": {
          "bar": [
           {
            "error_x": {
             "color": "#2a3f5f"
            },
            "error_y": {
             "color": "#2a3f5f"
            },
            "marker": {
             "line": {
              "color": "white",
              "width": 0.5
             },
             "pattern": {
              "fillmode": "overlay",
              "size": 10,
              "solidity": 0.2
             }
            },
            "type": "bar"
           }
          ],
          "barpolar": [
           {
            "marker": {
             "line": {
              "color": "white",
              "width": 0.5
             },
             "pattern": {
              "fillmode": "overlay",
              "size": 10,
              "solidity": 0.2
             }
            },
            "type": "barpolar"
           }
          ],
          "carpet": [
           {
            "aaxis": {
             "endlinecolor": "#2a3f5f",
             "gridcolor": "#C8D4E3",
             "linecolor": "#C8D4E3",
             "minorgridcolor": "#C8D4E3",
             "startlinecolor": "#2a3f5f"
            },
            "baxis": {
             "endlinecolor": "#2a3f5f",
             "gridcolor": "#C8D4E3",
             "linecolor": "#C8D4E3",
             "minorgridcolor": "#C8D4E3",
             "startlinecolor": "#2a3f5f"
            },
            "type": "carpet"
           }
          ],
          "choropleth": [
           {
            "colorbar": {
             "outlinewidth": 0,
             "ticks": ""
            },
            "type": "choropleth"
           }
          ],
          "contour": [
           {
            "colorbar": {
             "outlinewidth": 0,
             "ticks": ""
            },
            "colorscale": [
             [
              0,
              "#0d0887"
             ],
             [
              0.1111111111111111,
              "#46039f"
             ],
             [
              0.2222222222222222,
              "#7201a8"
             ],
             [
              0.3333333333333333,
              "#9c179e"
             ],
             [
              0.4444444444444444,
              "#bd3786"
             ],
             [
              0.5555555555555556,
              "#d8576b"
             ],
             [
              0.6666666666666666,
              "#ed7953"
             ],
             [
              0.7777777777777778,
              "#fb9f3a"
             ],
             [
              0.8888888888888888,
              "#fdca26"
             ],
             [
              1,
              "#f0f921"
             ]
            ],
            "type": "contour"
           }
          ],
          "contourcarpet": [
           {
            "colorbar": {
             "outlinewidth": 0,
             "ticks": ""
            },
            "type": "contourcarpet"
           }
          ],
          "heatmap": [
           {
            "colorbar": {
             "outlinewidth": 0,
             "ticks": ""
            },
            "colorscale": [
             [
              0,
              "#0d0887"
             ],
             [
              0.1111111111111111,
              "#46039f"
             ],
             [
              0.2222222222222222,
              "#7201a8"
             ],
             [
              0.3333333333333333,
              "#9c179e"
             ],
             [
              0.4444444444444444,
              "#bd3786"
             ],
             [
              0.5555555555555556,
              "#d8576b"
             ],
             [
              0.6666666666666666,
              "#ed7953"
             ],
             [
              0.7777777777777778,
              "#fb9f3a"
             ],
             [
              0.8888888888888888,
              "#fdca26"
             ],
             [
              1,
              "#f0f921"
             ]
            ],
            "type": "heatmap"
           }
          ],
          "histogram": [
           {
            "marker": {
             "pattern": {
              "fillmode": "overlay",
              "size": 10,
              "solidity": 0.2
             }
            },
            "type": "histogram"
           }
          ],
          "histogram2d": [
           {
            "colorbar": {
             "outlinewidth": 0,
             "ticks": ""
            },
            "colorscale": [
             [
              0,
              "#0d0887"
             ],
             [
              0.1111111111111111,
              "#46039f"
             ],
             [
              0.2222222222222222,
              "#7201a8"
             ],
             [
              0.3333333333333333,
              "#9c179e"
             ],
             [
              0.4444444444444444,
              "#bd3786"
             ],
             [
              0.5555555555555556,
              "#d8576b"
             ],
             [
              0.6666666666666666,
              "#ed7953"
             ],
             [
              0.7777777777777778,
              "#fb9f3a"
             ],
             [
              0.8888888888888888,
              "#fdca26"
             ],
             [
              1,
              "#f0f921"
             ]
            ],
            "type": "histogram2d"
           }
          ],
          "histogram2dcontour": [
           {
            "colorbar": {
             "outlinewidth": 0,
             "ticks": ""
            },
            "colorscale": [
             [
              0,
              "#0d0887"
             ],
             [
              0.1111111111111111,
              "#46039f"
             ],
             [
              0.2222222222222222,
              "#7201a8"
             ],
             [
              0.3333333333333333,
              "#9c179e"
             ],
             [
              0.4444444444444444,
              "#bd3786"
             ],
             [
              0.5555555555555556,
              "#d8576b"
             ],
             [
              0.6666666666666666,
              "#ed7953"
             ],
             [
              0.7777777777777778,
              "#fb9f3a"
             ],
             [
              0.8888888888888888,
              "#fdca26"
             ],
             [
              1,
              "#f0f921"
             ]
            ],
            "type": "histogram2dcontour"
           }
          ],
          "mesh3d": [
           {
            "colorbar": {
             "outlinewidth": 0,
             "ticks": ""
            },
            "type": "mesh3d"
           }
          ],
          "parcoords": [
           {
            "line": {
             "colorbar": {
              "outlinewidth": 0,
              "ticks": ""
             }
            },
            "type": "parcoords"
           }
          ],
          "pie": [
           {
            "automargin": true,
            "type": "pie"
           }
          ],
          "scatter": [
           {
            "fillpattern": {
             "fillmode": "overlay",
             "size": 10,
             "solidity": 0.2
            },
            "type": "scatter"
           }
          ],
          "scatter3d": [
           {
            "line": {
             "colorbar": {
              "outlinewidth": 0,
              "ticks": ""
             }
            },
            "marker": {
             "colorbar": {
              "outlinewidth": 0,
              "ticks": ""
             }
            },
            "type": "scatter3d"
           }
          ],
          "scattercarpet": [
           {
            "marker": {
             "colorbar": {
              "outlinewidth": 0,
              "ticks": ""
             }
            },
            "type": "scattercarpet"
           }
          ],
          "scattergeo": [
           {
            "marker": {
             "colorbar": {
              "outlinewidth": 0,
              "ticks": ""
             }
            },
            "type": "scattergeo"
           }
          ],
          "scattergl": [
           {
            "marker": {
             "colorbar": {
              "outlinewidth": 0,
              "ticks": ""
             }
            },
            "type": "scattergl"
           }
          ],
          "scattermap": [
           {
            "marker": {
             "colorbar": {
              "outlinewidth": 0,
              "ticks": ""
             }
            },
            "type": "scattermap"
           }
          ],
          "scattermapbox": [
           {
            "marker": {
             "colorbar": {
              "outlinewidth": 0,
              "ticks": ""
             }
            },
            "type": "scattermapbox"
           }
          ],
          "scatterpolar": [
           {
            "marker": {
             "colorbar": {
              "outlinewidth": 0,
              "ticks": ""
             }
            },
            "type": "scatterpolar"
           }
          ],
          "scatterpolargl": [
           {
            "marker": {
             "colorbar": {
              "outlinewidth": 0,
              "ticks": ""
             }
            },
            "type": "scatterpolargl"
           }
          ],
          "scatterternary": [
           {
            "marker": {
             "colorbar": {
              "outlinewidth": 0,
              "ticks": ""
             }
            },
            "type": "scatterternary"
           }
          ],
          "surface": [
           {
            "colorbar": {
             "outlinewidth": 0,
             "ticks": ""
            },
            "colorscale": [
             [
              0,
              "#0d0887"
             ],
             [
              0.1111111111111111,
              "#46039f"
             ],
             [
              0.2222222222222222,
              "#7201a8"
             ],
             [
              0.3333333333333333,
              "#9c179e"
             ],
             [
              0.4444444444444444,
              "#bd3786"
             ],
             [
              0.5555555555555556,
              "#d8576b"
             ],
             [
              0.6666666666666666,
              "#ed7953"
             ],
             [
              0.7777777777777778,
              "#fb9f3a"
             ],
             [
              0.8888888888888888,
              "#fdca26"
             ],
             [
              1,
              "#f0f921"
             ]
            ],
            "type": "surface"
           }
          ],
          "table": [
           {
            "cells": {
             "fill": {
              "color": "#EBF0F8"
             },
             "line": {
              "color": "white"
             }
            },
            "header": {
             "fill": {
              "color": "#C8D4E3"
             },
             "line": {
              "color": "white"
             }
            },
            "type": "table"
           }
          ]
         },
         "layout": {
          "annotationdefaults": {
           "arrowcolor": "#2a3f5f",
           "arrowhead": 0,
           "arrowwidth": 1
          },
          "autotypenumbers": "strict",
          "coloraxis": {
           "colorbar": {
            "outlinewidth": 0,
            "ticks": ""
           }
          },
          "colorscale": {
           "diverging": [
            [
             0,
             "#8e0152"
            ],
            [
             0.1,
             "#c51b7d"
            ],
            [
             0.2,
             "#de77ae"
            ],
            [
             0.3,
             "#f1b6da"
            ],
            [
             0.4,
             "#fde0ef"
            ],
            [
             0.5,
             "#f7f7f7"
            ],
            [
             0.6,
             "#e6f5d0"
            ],
            [
             0.7,
             "#b8e186"
            ],
            [
             0.8,
             "#7fbc41"
            ],
            [
             0.9,
             "#4d9221"
            ],
            [
             1,
             "#276419"
            ]
           ],
           "sequential": [
            [
             0,
             "#0d0887"
            ],
            [
             0.1111111111111111,
             "#46039f"
            ],
            [
             0.2222222222222222,
             "#7201a8"
            ],
            [
             0.3333333333333333,
             "#9c179e"
            ],
            [
             0.4444444444444444,
             "#bd3786"
            ],
            [
             0.5555555555555556,
             "#d8576b"
            ],
            [
             0.6666666666666666,
             "#ed7953"
            ],
            [
             0.7777777777777778,
             "#fb9f3a"
            ],
            [
             0.8888888888888888,
             "#fdca26"
            ],
            [
             1,
             "#f0f921"
            ]
           ],
           "sequentialminus": [
            [
             0,
             "#0d0887"
            ],
            [
             0.1111111111111111,
             "#46039f"
            ],
            [
             0.2222222222222222,
             "#7201a8"
            ],
            [
             0.3333333333333333,
             "#9c179e"
            ],
            [
             0.4444444444444444,
             "#bd3786"
            ],
            [
             0.5555555555555556,
             "#d8576b"
            ],
            [
             0.6666666666666666,
             "#ed7953"
            ],
            [
             0.7777777777777778,
             "#fb9f3a"
            ],
            [
             0.8888888888888888,
             "#fdca26"
            ],
            [
             1,
             "#f0f921"
            ]
           ]
          },
          "colorway": [
           "#636efa",
           "#EF553B",
           "#00cc96",
           "#ab63fa",
           "#FFA15A",
           "#19d3f3",
           "#FF6692",
           "#B6E880",
           "#FF97FF",
           "#FECB52"
          ],
          "font": {
           "color": "#2a3f5f"
          },
          "geo": {
           "bgcolor": "white",
           "lakecolor": "white",
           "landcolor": "white",
           "showlakes": true,
           "showland": true,
           "subunitcolor": "#C8D4E3"
          },
          "hoverlabel": {
           "align": "left"
          },
          "hovermode": "closest",
          "mapbox": {
           "style": "light"
          },
          "paper_bgcolor": "white",
          "plot_bgcolor": "white",
          "polar": {
           "angularaxis": {
            "gridcolor": "#EBF0F8",
            "linecolor": "#EBF0F8",
            "ticks": ""
           },
           "bgcolor": "white",
           "radialaxis": {
            "gridcolor": "#EBF0F8",
            "linecolor": "#EBF0F8",
            "ticks": ""
           }
          },
          "scene": {
           "xaxis": {
            "backgroundcolor": "white",
            "gridcolor": "#DFE8F3",
            "gridwidth": 2,
            "linecolor": "#EBF0F8",
            "showbackground": true,
            "ticks": "",
            "zerolinecolor": "#EBF0F8"
           },
           "yaxis": {
            "backgroundcolor": "white",
            "gridcolor": "#DFE8F3",
            "gridwidth": 2,
            "linecolor": "#EBF0F8",
            "showbackground": true,
            "ticks": "",
            "zerolinecolor": "#EBF0F8"
           },
           "zaxis": {
            "backgroundcolor": "white",
            "gridcolor": "#DFE8F3",
            "gridwidth": 2,
            "linecolor": "#EBF0F8",
            "showbackground": true,
            "ticks": "",
            "zerolinecolor": "#EBF0F8"
           }
          },
          "shapedefaults": {
           "line": {
            "color": "#2a3f5f"
           }
          },
          "ternary": {
           "aaxis": {
            "gridcolor": "#DFE8F3",
            "linecolor": "#A2B1C6",
            "ticks": ""
           },
           "baxis": {
            "gridcolor": "#DFE8F3",
            "linecolor": "#A2B1C6",
            "ticks": ""
           },
           "bgcolor": "white",
           "caxis": {
            "gridcolor": "#DFE8F3",
            "linecolor": "#A2B1C6",
            "ticks": ""
           }
          },
          "title": {
           "x": 0.05
          },
          "xaxis": {
           "automargin": true,
           "gridcolor": "#EBF0F8",
           "linecolor": "#EBF0F8",
           "ticks": "",
           "title": {
            "standoff": 15
           },
           "zerolinecolor": "#EBF0F8",
           "zerolinewidth": 2
          },
          "yaxis": {
           "automargin": true,
           "gridcolor": "#EBF0F8",
           "linecolor": "#EBF0F8",
           "ticks": "",
           "title": {
            "standoff": 15
           },
           "zerolinecolor": "#EBF0F8",
           "zerolinewidth": 2
          }
         }
        },
        "title": {
         "text": "Resultados de quem teve MAIOR posse de bola (%)"
        }
       }
      }
     },
     "metadata": {},
     "output_type": "display_data"
    }
   ],
   "source": [
    "df_posse = df_analise.copy()\n",
    "\n",
    "# Converte colunas de posse para numérico, tratando erros\n",
    "for col in ['mandante_posse_de_bola', 'visitante_posse_de_bola']:\n",
    "    df_posse[col] = pd.to_numeric(df_posse[col].astype(str).str.replace('%', ''), errors='coerce')\n",
    "\n",
    "# Remove linhas sem dados de posse\n",
    "df_posse.dropna(subset=['mandante_posse_de_bola', 'visitante_posse_de_bola'], inplace=True)\n",
    "\n",
    "# Identifica o time com mais posse (None se for empate)\n",
    "df_posse['time_maior_posse'] = np.select(\n",
    "    [\n",
    "        df_posse['mandante_posse_de_bola'] > df_posse['visitante_posse_de_bola'],\n",
    "        df_posse['visitante_posse_de_bola'] > df_posse['mandante_posse_de_bola']\n",
    "    ],\n",
    "    [\n",
    "        df_posse['mandante'],\n",
    "        df_posse['visitante']\n",
    "    ],\n",
    "    default=None\n",
    ")\n",
    "\n",
    "# Filtra apenas jogos onde um time teve mais posse que o outro\n",
    "df_posse_final = df_posse.dropna(subset=['time_maior_posse']).copy()\n",
    "df_posse_final['resultado_final'] = df_posse_final.apply(lambda row: get_resultado_perspectiva(row, row['time_maior_posse']), axis=1)\n",
    "\n",
    "# Calcula o resumo\n",
    "resumo_posse = df_posse_final['resultado_final'].value_counts(normalize=True).mul(100).reset_index()\n",
    "resumo_posse.columns = ['resultado', 'percentual']\n",
    "\n",
    "print(\"--- Resultado para o time com MAIOR posse de bola ---\")\n",
    "display(resumo_posse.round(2))\n",
    "\n",
    "# Plota o gráfico\n",
    "fig = px.pie(resumo_posse, names='resultado', values='percentual', title='Resultados de quem teve MAIOR posse de bola (%)',\n",
    "             color='resultado', color_discrete_map=COLOR_RESULTADO, hole=.3)\n",
    "fig.update_traces(textposition='inside', textinfo='percent+label')\n",
    "fig.show()\n",
    "\n"
   ]
  },
  {
   "cell_type": "markdown",
   "id": "5afa2789",
   "metadata": {},
   "source": [
    "**Resultados para quem teve MAIOR posse de bola:**\n",
    "\n",
    "- 🟥 **Derrota:** 42,7%\n",
    "- 🟩 **Vitória:** 36,7%\n",
    "- 🟨 **Empate:** 20,6%\n",
    "\n",
    "> Ter mais posse de bola não garante a vitória — em mais de 4 a cada 10 jogos, o time com maior posse saiu derrotado!"
   ]
  },
  {
   "cell_type": "markdown",
   "id": "dd5ec115",
   "metadata": {},
   "source": [
    "### A vantagem de jogar em casa é real? 🏠\n",
    "\n",
    "Jogar em casa sempre foi considerado um fator importante no futebol. Mas será que os dados do Brasileirão confirmam essa crença?  \n",
    "Abaixo, analisamos a proporção de vitórias, empates e derrotas dos times mandantes ao longo dos anos.\n"
   ]
  },
  {
   "cell_type": "code",
   "execution_count": 172,
   "id": "2b3c1a39",
   "metadata": {},
   "outputs": [
    {
     "name": "stdout",
     "output_type": "stream",
     "text": [
      "--- Resultados Gerais do Mandante ---\n"
     ]
    },
    {
     "data": {
      "text/html": [
       "<div>\n",
       "<style scoped>\n",
       "    .dataframe tbody tr th:only-of-type {\n",
       "        vertical-align: middle;\n",
       "    }\n",
       "\n",
       "    .dataframe tbody tr th {\n",
       "        vertical-align: top;\n",
       "    }\n",
       "\n",
       "    .dataframe thead th {\n",
       "        text-align: right;\n",
       "    }\n",
       "</style>\n",
       "<table border=\"1\" class=\"dataframe\">\n",
       "  <thead>\n",
       "    <tr style=\"text-align: right;\">\n",
       "      <th></th>\n",
       "      <th>resultado</th>\n",
       "      <th>percentual</th>\n",
       "    </tr>\n",
       "  </thead>\n",
       "  <tbody>\n",
       "    <tr>\n",
       "      <th>0</th>\n",
       "      <td>Vitória</td>\n",
       "      <td>51.98</td>\n",
       "    </tr>\n",
       "    <tr>\n",
       "      <th>1</th>\n",
       "      <td>Derrota</td>\n",
       "      <td>27.40</td>\n",
       "    </tr>\n",
       "    <tr>\n",
       "      <th>2</th>\n",
       "      <td>Empate</td>\n",
       "      <td>20.61</td>\n",
       "    </tr>\n",
       "  </tbody>\n",
       "</table>\n",
       "</div>"
      ],
      "text/plain": [
       "  resultado  percentual\n",
       "0   Vitória       51.98\n",
       "1   Derrota       27.40\n",
       "2    Empate       20.61"
      ]
     },
     "metadata": {},
     "output_type": "display_data"
    },
    {
     "data": {
      "application/vnd.plotly.v1+json": {
       "config": {
        "plotlyServerURL": "https://plot.ly"
       },
       "data": [
        {
         "customdata": [
          [
           "Vitória"
          ],
          [
           "Derrota"
          ],
          [
           "Empate"
          ]
         ],
         "domain": {
          "x": [
           0,
           1
          ],
          "y": [
           0,
           1
          ]
         },
         "hole": 0.3,
         "hovertemplate": "resultado=%{customdata[0]}<br>percentual=%{value}<extra></extra>",
         "labels": [
          "Vitória",
          "Derrota",
          "Empate"
         ],
         "legendgroup": "",
         "marker": {
          "colors": [
           "green",
           "red",
           "yellow"
          ]
         },
         "name": "",
         "showlegend": true,
         "textinfo": "percent+label",
         "textposition": "inside",
         "type": "pie",
         "values": {
          "bdata": "cJXjb7f9SUCWfSE8Q2c7QIhXF+RNnTRA",
          "dtype": "f8"
         }
        }
       ],
       "layout": {
        "legend": {
         "tracegroupgap": 0
        },
        "template": {
         "data": {
          "bar": [
           {
            "error_x": {
             "color": "#2a3f5f"
            },
            "error_y": {
             "color": "#2a3f5f"
            },
            "marker": {
             "line": {
              "color": "white",
              "width": 0.5
             },
             "pattern": {
              "fillmode": "overlay",
              "size": 10,
              "solidity": 0.2
             }
            },
            "type": "bar"
           }
          ],
          "barpolar": [
           {
            "marker": {
             "line": {
              "color": "white",
              "width": 0.5
             },
             "pattern": {
              "fillmode": "overlay",
              "size": 10,
              "solidity": 0.2
             }
            },
            "type": "barpolar"
           }
          ],
          "carpet": [
           {
            "aaxis": {
             "endlinecolor": "#2a3f5f",
             "gridcolor": "#C8D4E3",
             "linecolor": "#C8D4E3",
             "minorgridcolor": "#C8D4E3",
             "startlinecolor": "#2a3f5f"
            },
            "baxis": {
             "endlinecolor": "#2a3f5f",
             "gridcolor": "#C8D4E3",
             "linecolor": "#C8D4E3",
             "minorgridcolor": "#C8D4E3",
             "startlinecolor": "#2a3f5f"
            },
            "type": "carpet"
           }
          ],
          "choropleth": [
           {
            "colorbar": {
             "outlinewidth": 0,
             "ticks": ""
            },
            "type": "choropleth"
           }
          ],
          "contour": [
           {
            "colorbar": {
             "outlinewidth": 0,
             "ticks": ""
            },
            "colorscale": [
             [
              0,
              "#0d0887"
             ],
             [
              0.1111111111111111,
              "#46039f"
             ],
             [
              0.2222222222222222,
              "#7201a8"
             ],
             [
              0.3333333333333333,
              "#9c179e"
             ],
             [
              0.4444444444444444,
              "#bd3786"
             ],
             [
              0.5555555555555556,
              "#d8576b"
             ],
             [
              0.6666666666666666,
              "#ed7953"
             ],
             [
              0.7777777777777778,
              "#fb9f3a"
             ],
             [
              0.8888888888888888,
              "#fdca26"
             ],
             [
              1,
              "#f0f921"
             ]
            ],
            "type": "contour"
           }
          ],
          "contourcarpet": [
           {
            "colorbar": {
             "outlinewidth": 0,
             "ticks": ""
            },
            "type": "contourcarpet"
           }
          ],
          "heatmap": [
           {
            "colorbar": {
             "outlinewidth": 0,
             "ticks": ""
            },
            "colorscale": [
             [
              0,
              "#0d0887"
             ],
             [
              0.1111111111111111,
              "#46039f"
             ],
             [
              0.2222222222222222,
              "#7201a8"
             ],
             [
              0.3333333333333333,
              "#9c179e"
             ],
             [
              0.4444444444444444,
              "#bd3786"
             ],
             [
              0.5555555555555556,
              "#d8576b"
             ],
             [
              0.6666666666666666,
              "#ed7953"
             ],
             [
              0.7777777777777778,
              "#fb9f3a"
             ],
             [
              0.8888888888888888,
              "#fdca26"
             ],
             [
              1,
              "#f0f921"
             ]
            ],
            "type": "heatmap"
           }
          ],
          "histogram": [
           {
            "marker": {
             "pattern": {
              "fillmode": "overlay",
              "size": 10,
              "solidity": 0.2
             }
            },
            "type": "histogram"
           }
          ],
          "histogram2d": [
           {
            "colorbar": {
             "outlinewidth": 0,
             "ticks": ""
            },
            "colorscale": [
             [
              0,
              "#0d0887"
             ],
             [
              0.1111111111111111,
              "#46039f"
             ],
             [
              0.2222222222222222,
              "#7201a8"
             ],
             [
              0.3333333333333333,
              "#9c179e"
             ],
             [
              0.4444444444444444,
              "#bd3786"
             ],
             [
              0.5555555555555556,
              "#d8576b"
             ],
             [
              0.6666666666666666,
              "#ed7953"
             ],
             [
              0.7777777777777778,
              "#fb9f3a"
             ],
             [
              0.8888888888888888,
              "#fdca26"
             ],
             [
              1,
              "#f0f921"
             ]
            ],
            "type": "histogram2d"
           }
          ],
          "histogram2dcontour": [
           {
            "colorbar": {
             "outlinewidth": 0,
             "ticks": ""
            },
            "colorscale": [
             [
              0,
              "#0d0887"
             ],
             [
              0.1111111111111111,
              "#46039f"
             ],
             [
              0.2222222222222222,
              "#7201a8"
             ],
             [
              0.3333333333333333,
              "#9c179e"
             ],
             [
              0.4444444444444444,
              "#bd3786"
             ],
             [
              0.5555555555555556,
              "#d8576b"
             ],
             [
              0.6666666666666666,
              "#ed7953"
             ],
             [
              0.7777777777777778,
              "#fb9f3a"
             ],
             [
              0.8888888888888888,
              "#fdca26"
             ],
             [
              1,
              "#f0f921"
             ]
            ],
            "type": "histogram2dcontour"
           }
          ],
          "mesh3d": [
           {
            "colorbar": {
             "outlinewidth": 0,
             "ticks": ""
            },
            "type": "mesh3d"
           }
          ],
          "parcoords": [
           {
            "line": {
             "colorbar": {
              "outlinewidth": 0,
              "ticks": ""
             }
            },
            "type": "parcoords"
           }
          ],
          "pie": [
           {
            "automargin": true,
            "type": "pie"
           }
          ],
          "scatter": [
           {
            "fillpattern": {
             "fillmode": "overlay",
             "size": 10,
             "solidity": 0.2
            },
            "type": "scatter"
           }
          ],
          "scatter3d": [
           {
            "line": {
             "colorbar": {
              "outlinewidth": 0,
              "ticks": ""
             }
            },
            "marker": {
             "colorbar": {
              "outlinewidth": 0,
              "ticks": ""
             }
            },
            "type": "scatter3d"
           }
          ],
          "scattercarpet": [
           {
            "marker": {
             "colorbar": {
              "outlinewidth": 0,
              "ticks": ""
             }
            },
            "type": "scattercarpet"
           }
          ],
          "scattergeo": [
           {
            "marker": {
             "colorbar": {
              "outlinewidth": 0,
              "ticks": ""
             }
            },
            "type": "scattergeo"
           }
          ],
          "scattergl": [
           {
            "marker": {
             "colorbar": {
              "outlinewidth": 0,
              "ticks": ""
             }
            },
            "type": "scattergl"
           }
          ],
          "scattermap": [
           {
            "marker": {
             "colorbar": {
              "outlinewidth": 0,
              "ticks": ""
             }
            },
            "type": "scattermap"
           }
          ],
          "scattermapbox": [
           {
            "marker": {
             "colorbar": {
              "outlinewidth": 0,
              "ticks": ""
             }
            },
            "type": "scattermapbox"
           }
          ],
          "scatterpolar": [
           {
            "marker": {
             "colorbar": {
              "outlinewidth": 0,
              "ticks": ""
             }
            },
            "type": "scatterpolar"
           }
          ],
          "scatterpolargl": [
           {
            "marker": {
             "colorbar": {
              "outlinewidth": 0,
              "ticks": ""
             }
            },
            "type": "scatterpolargl"
           }
          ],
          "scatterternary": [
           {
            "marker": {
             "colorbar": {
              "outlinewidth": 0,
              "ticks": ""
             }
            },
            "type": "scatterternary"
           }
          ],
          "surface": [
           {
            "colorbar": {
             "outlinewidth": 0,
             "ticks": ""
            },
            "colorscale": [
             [
              0,
              "#0d0887"
             ],
             [
              0.1111111111111111,
              "#46039f"
             ],
             [
              0.2222222222222222,
              "#7201a8"
             ],
             [
              0.3333333333333333,
              "#9c179e"
             ],
             [
              0.4444444444444444,
              "#bd3786"
             ],
             [
              0.5555555555555556,
              "#d8576b"
             ],
             [
              0.6666666666666666,
              "#ed7953"
             ],
             [
              0.7777777777777778,
              "#fb9f3a"
             ],
             [
              0.8888888888888888,
              "#fdca26"
             ],
             [
              1,
              "#f0f921"
             ]
            ],
            "type": "surface"
           }
          ],
          "table": [
           {
            "cells": {
             "fill": {
              "color": "#EBF0F8"
             },
             "line": {
              "color": "white"
             }
            },
            "header": {
             "fill": {
              "color": "#C8D4E3"
             },
             "line": {
              "color": "white"
             }
            },
            "type": "table"
           }
          ]
         },
         "layout": {
          "annotationdefaults": {
           "arrowcolor": "#2a3f5f",
           "arrowhead": 0,
           "arrowwidth": 1
          },
          "autotypenumbers": "strict",
          "coloraxis": {
           "colorbar": {
            "outlinewidth": 0,
            "ticks": ""
           }
          },
          "colorscale": {
           "diverging": [
            [
             0,
             "#8e0152"
            ],
            [
             0.1,
             "#c51b7d"
            ],
            [
             0.2,
             "#de77ae"
            ],
            [
             0.3,
             "#f1b6da"
            ],
            [
             0.4,
             "#fde0ef"
            ],
            [
             0.5,
             "#f7f7f7"
            ],
            [
             0.6,
             "#e6f5d0"
            ],
            [
             0.7,
             "#b8e186"
            ],
            [
             0.8,
             "#7fbc41"
            ],
            [
             0.9,
             "#4d9221"
            ],
            [
             1,
             "#276419"
            ]
           ],
           "sequential": [
            [
             0,
             "#0d0887"
            ],
            [
             0.1111111111111111,
             "#46039f"
            ],
            [
             0.2222222222222222,
             "#7201a8"
            ],
            [
             0.3333333333333333,
             "#9c179e"
            ],
            [
             0.4444444444444444,
             "#bd3786"
            ],
            [
             0.5555555555555556,
             "#d8576b"
            ],
            [
             0.6666666666666666,
             "#ed7953"
            ],
            [
             0.7777777777777778,
             "#fb9f3a"
            ],
            [
             0.8888888888888888,
             "#fdca26"
            ],
            [
             1,
             "#f0f921"
            ]
           ],
           "sequentialminus": [
            [
             0,
             "#0d0887"
            ],
            [
             0.1111111111111111,
             "#46039f"
            ],
            [
             0.2222222222222222,
             "#7201a8"
            ],
            [
             0.3333333333333333,
             "#9c179e"
            ],
            [
             0.4444444444444444,
             "#bd3786"
            ],
            [
             0.5555555555555556,
             "#d8576b"
            ],
            [
             0.6666666666666666,
             "#ed7953"
            ],
            [
             0.7777777777777778,
             "#fb9f3a"
            ],
            [
             0.8888888888888888,
             "#fdca26"
            ],
            [
             1,
             "#f0f921"
            ]
           ]
          },
          "colorway": [
           "#636efa",
           "#EF553B",
           "#00cc96",
           "#ab63fa",
           "#FFA15A",
           "#19d3f3",
           "#FF6692",
           "#B6E880",
           "#FF97FF",
           "#FECB52"
          ],
          "font": {
           "color": "#2a3f5f"
          },
          "geo": {
           "bgcolor": "white",
           "lakecolor": "white",
           "landcolor": "white",
           "showlakes": true,
           "showland": true,
           "subunitcolor": "#C8D4E3"
          },
          "hoverlabel": {
           "align": "left"
          },
          "hovermode": "closest",
          "mapbox": {
           "style": "light"
          },
          "paper_bgcolor": "white",
          "plot_bgcolor": "white",
          "polar": {
           "angularaxis": {
            "gridcolor": "#EBF0F8",
            "linecolor": "#EBF0F8",
            "ticks": ""
           },
           "bgcolor": "white",
           "radialaxis": {
            "gridcolor": "#EBF0F8",
            "linecolor": "#EBF0F8",
            "ticks": ""
           }
          },
          "scene": {
           "xaxis": {
            "backgroundcolor": "white",
            "gridcolor": "#DFE8F3",
            "gridwidth": 2,
            "linecolor": "#EBF0F8",
            "showbackground": true,
            "ticks": "",
            "zerolinecolor": "#EBF0F8"
           },
           "yaxis": {
            "backgroundcolor": "white",
            "gridcolor": "#DFE8F3",
            "gridwidth": 2,
            "linecolor": "#EBF0F8",
            "showbackground": true,
            "ticks": "",
            "zerolinecolor": "#EBF0F8"
           },
           "zaxis": {
            "backgroundcolor": "white",
            "gridcolor": "#DFE8F3",
            "gridwidth": 2,
            "linecolor": "#EBF0F8",
            "showbackground": true,
            "ticks": "",
            "zerolinecolor": "#EBF0F8"
           }
          },
          "shapedefaults": {
           "line": {
            "color": "#2a3f5f"
           }
          },
          "ternary": {
           "aaxis": {
            "gridcolor": "#DFE8F3",
            "linecolor": "#A2B1C6",
            "ticks": ""
           },
           "baxis": {
            "gridcolor": "#DFE8F3",
            "linecolor": "#A2B1C6",
            "ticks": ""
           },
           "bgcolor": "white",
           "caxis": {
            "gridcolor": "#DFE8F3",
            "linecolor": "#A2B1C6",
            "ticks": ""
           }
          },
          "title": {
           "x": 0.05
          },
          "xaxis": {
           "automargin": true,
           "gridcolor": "#EBF0F8",
           "linecolor": "#EBF0F8",
           "ticks": "",
           "title": {
            "standoff": 15
           },
           "zerolinecolor": "#EBF0F8",
           "zerolinewidth": 2
          },
          "yaxis": {
           "automargin": true,
           "gridcolor": "#EBF0F8",
           "linecolor": "#EBF0F8",
           "ticks": "",
           "title": {
            "standoff": 15
           },
           "zerolinecolor": "#EBF0F8",
           "zerolinewidth": 2
          }
         }
        },
        "title": {
         "text": "Resultados do Mandante (%)"
        }
       }
      }
     },
     "metadata": {},
     "output_type": "display_data"
    }
   ],
   "source": [
    "resumo_mandante = df_analise['resultado'].value_counts(normalize=True).mul(100).reset_index()\n",
    "resumo_mandante.columns = ['resultado', 'percentual']\n",
    "\n",
    "print(\"--- Resultados Gerais do Mandante ---\")\n",
    "display(resumo_mandante.round(2))\n",
    "\n",
    "fig = px.pie(resumo_mandante, names='resultado', values='percentual', title='Resultados do Mandante (%)',\n",
    "             color='resultado', color_discrete_map=COLOR_RESULTADO, hole=.3)\n",
    "fig.update_traces(textposition='inside', textinfo='percent+label')\n",
    "fig.show()\n"
   ]
  },
  {
   "cell_type": "markdown",
   "id": "010e2e23",
   "metadata": {},
   "source": [
    "#### 🏠 **Resultados dos Mandantes**\n",
    "\n",
    "\n",
    "- 🟥 **Derrota:** 27,4%\n",
    "- 🟩 **Vitória:** 52,0%\n",
    "- 🟨 **Empate:** 20,6%\n",
    "\n",
    "> **Conclusão:**  \n",
    "> Os times mandantes realmente levam vantagem, vencendo mais da metade dos jogos.  \n",
    "> Fatores como torcida, familiaridade com o estádio e menor desgaste de viagem podem explicar esse fenômeno.\n",
    "\n",
    "---"
   ]
  },
  {
   "cell_type": "markdown",
   "id": "972205fd",
   "metadata": {},
   "source": [
    "## Quem deu mais chutes, venceu mais?\n",
    "\n",
    "Será que o time que mais finaliza realmente conquista mais vitórias?  \n",
    "Abaixo, analisamos todas as partidas do Brasileirão para responder essa pergunta:\n",
    "\n",
    "- **Comparamos o número total de chutes de cada equipe em cada jogo.**\n",
    "- **Identificamos quem chutou mais (mandante, visitante ou empate).**\n",
    "- **Calculamos o percentual de vitórias, empates e derrotas para o time que mais finalizou.**\n",
    "\n"
   ]
  },
  {
   "cell_type": "code",
   "execution_count": 173,
   "id": "8df997da",
   "metadata": {},
   "outputs": [
    {
     "name": "stdout",
     "output_type": "stream",
     "text": [
      "--- Resultado para o time que CHUTOU MAIS ---\n"
     ]
    },
    {
     "data": {
      "text/html": [
       "<div>\n",
       "<style scoped>\n",
       "    .dataframe tbody tr th:only-of-type {\n",
       "        vertical-align: middle;\n",
       "    }\n",
       "\n",
       "    .dataframe tbody tr th {\n",
       "        vertical-align: top;\n",
       "    }\n",
       "\n",
       "    .dataframe thead th {\n",
       "        text-align: right;\n",
       "    }\n",
       "</style>\n",
       "<table border=\"1\" class=\"dataframe\">\n",
       "  <thead>\n",
       "    <tr style=\"text-align: right;\">\n",
       "      <th></th>\n",
       "      <th>resultado</th>\n",
       "      <th>percentual</th>\n",
       "    </tr>\n",
       "  </thead>\n",
       "  <tbody>\n",
       "    <tr>\n",
       "      <th>0</th>\n",
       "      <td>Vitória</td>\n",
       "      <td>46.02</td>\n",
       "    </tr>\n",
       "    <tr>\n",
       "      <th>1</th>\n",
       "      <td>Derrota</td>\n",
       "      <td>33.08</td>\n",
       "    </tr>\n",
       "    <tr>\n",
       "      <th>2</th>\n",
       "      <td>Empate</td>\n",
       "      <td>20.90</td>\n",
       "    </tr>\n",
       "  </tbody>\n",
       "</table>\n",
       "</div>"
      ],
      "text/plain": [
       "  resultado  percentual\n",
       "0   Vitória       46.02\n",
       "1   Derrota       33.08\n",
       "2    Empate       20.90"
      ]
     },
     "metadata": {},
     "output_type": "display_data"
    },
    {
     "data": {
      "application/vnd.plotly.v1+json": {
       "config": {
        "plotlyServerURL": "https://plot.ly"
       },
       "data": [
        {
         "customdata": [
          [
           "Vitória"
          ],
          [
           "Derrota"
          ],
          [
           "Empate"
          ]
         ],
         "domain": {
          "x": [
           0,
           1
          ],
          "y": [
           0,
           1
          ]
         },
         "hole": 0.3,
         "hovertemplate": "resultado=%{customdata[0]}<br>percentual=%{value}<extra></extra>",
         "labels": [
          "Vitória",
          "Derrota",
          "Empate"
         ],
         "legendgroup": "",
         "marker": {
          "colors": [
           "green",
           "red",
           "yellow"
          ]
         },
         "name": "",
         "showlegend": true,
         "textinfo": "percent+label",
         "textposition": "inside",
         "type": "pie",
         "values": {
          "bdata": "MqYwin8CR0B091Kry4lAQLPE+JRp5zRA",
          "dtype": "f8"
         }
        }
       ],
       "layout": {
        "legend": {
         "tracegroupgap": 0
        },
        "template": {
         "data": {
          "bar": [
           {
            "error_x": {
             "color": "#2a3f5f"
            },
            "error_y": {
             "color": "#2a3f5f"
            },
            "marker": {
             "line": {
              "color": "white",
              "width": 0.5
             },
             "pattern": {
              "fillmode": "overlay",
              "size": 10,
              "solidity": 0.2
             }
            },
            "type": "bar"
           }
          ],
          "barpolar": [
           {
            "marker": {
             "line": {
              "color": "white",
              "width": 0.5
             },
             "pattern": {
              "fillmode": "overlay",
              "size": 10,
              "solidity": 0.2
             }
            },
            "type": "barpolar"
           }
          ],
          "carpet": [
           {
            "aaxis": {
             "endlinecolor": "#2a3f5f",
             "gridcolor": "#C8D4E3",
             "linecolor": "#C8D4E3",
             "minorgridcolor": "#C8D4E3",
             "startlinecolor": "#2a3f5f"
            },
            "baxis": {
             "endlinecolor": "#2a3f5f",
             "gridcolor": "#C8D4E3",
             "linecolor": "#C8D4E3",
             "minorgridcolor": "#C8D4E3",
             "startlinecolor": "#2a3f5f"
            },
            "type": "carpet"
           }
          ],
          "choropleth": [
           {
            "colorbar": {
             "outlinewidth": 0,
             "ticks": ""
            },
            "type": "choropleth"
           }
          ],
          "contour": [
           {
            "colorbar": {
             "outlinewidth": 0,
             "ticks": ""
            },
            "colorscale": [
             [
              0,
              "#0d0887"
             ],
             [
              0.1111111111111111,
              "#46039f"
             ],
             [
              0.2222222222222222,
              "#7201a8"
             ],
             [
              0.3333333333333333,
              "#9c179e"
             ],
             [
              0.4444444444444444,
              "#bd3786"
             ],
             [
              0.5555555555555556,
              "#d8576b"
             ],
             [
              0.6666666666666666,
              "#ed7953"
             ],
             [
              0.7777777777777778,
              "#fb9f3a"
             ],
             [
              0.8888888888888888,
              "#fdca26"
             ],
             [
              1,
              "#f0f921"
             ]
            ],
            "type": "contour"
           }
          ],
          "contourcarpet": [
           {
            "colorbar": {
             "outlinewidth": 0,
             "ticks": ""
            },
            "type": "contourcarpet"
           }
          ],
          "heatmap": [
           {
            "colorbar": {
             "outlinewidth": 0,
             "ticks": ""
            },
            "colorscale": [
             [
              0,
              "#0d0887"
             ],
             [
              0.1111111111111111,
              "#46039f"
             ],
             [
              0.2222222222222222,
              "#7201a8"
             ],
             [
              0.3333333333333333,
              "#9c179e"
             ],
             [
              0.4444444444444444,
              "#bd3786"
             ],
             [
              0.5555555555555556,
              "#d8576b"
             ],
             [
              0.6666666666666666,
              "#ed7953"
             ],
             [
              0.7777777777777778,
              "#fb9f3a"
             ],
             [
              0.8888888888888888,
              "#fdca26"
             ],
             [
              1,
              "#f0f921"
             ]
            ],
            "type": "heatmap"
           }
          ],
          "histogram": [
           {
            "marker": {
             "pattern": {
              "fillmode": "overlay",
              "size": 10,
              "solidity": 0.2
             }
            },
            "type": "histogram"
           }
          ],
          "histogram2d": [
           {
            "colorbar": {
             "outlinewidth": 0,
             "ticks": ""
            },
            "colorscale": [
             [
              0,
              "#0d0887"
             ],
             [
              0.1111111111111111,
              "#46039f"
             ],
             [
              0.2222222222222222,
              "#7201a8"
             ],
             [
              0.3333333333333333,
              "#9c179e"
             ],
             [
              0.4444444444444444,
              "#bd3786"
             ],
             [
              0.5555555555555556,
              "#d8576b"
             ],
             [
              0.6666666666666666,
              "#ed7953"
             ],
             [
              0.7777777777777778,
              "#fb9f3a"
             ],
             [
              0.8888888888888888,
              "#fdca26"
             ],
             [
              1,
              "#f0f921"
             ]
            ],
            "type": "histogram2d"
           }
          ],
          "histogram2dcontour": [
           {
            "colorbar": {
             "outlinewidth": 0,
             "ticks": ""
            },
            "colorscale": [
             [
              0,
              "#0d0887"
             ],
             [
              0.1111111111111111,
              "#46039f"
             ],
             [
              0.2222222222222222,
              "#7201a8"
             ],
             [
              0.3333333333333333,
              "#9c179e"
             ],
             [
              0.4444444444444444,
              "#bd3786"
             ],
             [
              0.5555555555555556,
              "#d8576b"
             ],
             [
              0.6666666666666666,
              "#ed7953"
             ],
             [
              0.7777777777777778,
              "#fb9f3a"
             ],
             [
              0.8888888888888888,
              "#fdca26"
             ],
             [
              1,
              "#f0f921"
             ]
            ],
            "type": "histogram2dcontour"
           }
          ],
          "mesh3d": [
           {
            "colorbar": {
             "outlinewidth": 0,
             "ticks": ""
            },
            "type": "mesh3d"
           }
          ],
          "parcoords": [
           {
            "line": {
             "colorbar": {
              "outlinewidth": 0,
              "ticks": ""
             }
            },
            "type": "parcoords"
           }
          ],
          "pie": [
           {
            "automargin": true,
            "type": "pie"
           }
          ],
          "scatter": [
           {
            "fillpattern": {
             "fillmode": "overlay",
             "size": 10,
             "solidity": 0.2
            },
            "type": "scatter"
           }
          ],
          "scatter3d": [
           {
            "line": {
             "colorbar": {
              "outlinewidth": 0,
              "ticks": ""
             }
            },
            "marker": {
             "colorbar": {
              "outlinewidth": 0,
              "ticks": ""
             }
            },
            "type": "scatter3d"
           }
          ],
          "scattercarpet": [
           {
            "marker": {
             "colorbar": {
              "outlinewidth": 0,
              "ticks": ""
             }
            },
            "type": "scattercarpet"
           }
          ],
          "scattergeo": [
           {
            "marker": {
             "colorbar": {
              "outlinewidth": 0,
              "ticks": ""
             }
            },
            "type": "scattergeo"
           }
          ],
          "scattergl": [
           {
            "marker": {
             "colorbar": {
              "outlinewidth": 0,
              "ticks": ""
             }
            },
            "type": "scattergl"
           }
          ],
          "scattermap": [
           {
            "marker": {
             "colorbar": {
              "outlinewidth": 0,
              "ticks": ""
             }
            },
            "type": "scattermap"
           }
          ],
          "scattermapbox": [
           {
            "marker": {
             "colorbar": {
              "outlinewidth": 0,
              "ticks": ""
             }
            },
            "type": "scattermapbox"
           }
          ],
          "scatterpolar": [
           {
            "marker": {
             "colorbar": {
              "outlinewidth": 0,
              "ticks": ""
             }
            },
            "type": "scatterpolar"
           }
          ],
          "scatterpolargl": [
           {
            "marker": {
             "colorbar": {
              "outlinewidth": 0,
              "ticks": ""
             }
            },
            "type": "scatterpolargl"
           }
          ],
          "scatterternary": [
           {
            "marker": {
             "colorbar": {
              "outlinewidth": 0,
              "ticks": ""
             }
            },
            "type": "scatterternary"
           }
          ],
          "surface": [
           {
            "colorbar": {
             "outlinewidth": 0,
             "ticks": ""
            },
            "colorscale": [
             [
              0,
              "#0d0887"
             ],
             [
              0.1111111111111111,
              "#46039f"
             ],
             [
              0.2222222222222222,
              "#7201a8"
             ],
             [
              0.3333333333333333,
              "#9c179e"
             ],
             [
              0.4444444444444444,
              "#bd3786"
             ],
             [
              0.5555555555555556,
              "#d8576b"
             ],
             [
              0.6666666666666666,
              "#ed7953"
             ],
             [
              0.7777777777777778,
              "#fb9f3a"
             ],
             [
              0.8888888888888888,
              "#fdca26"
             ],
             [
              1,
              "#f0f921"
             ]
            ],
            "type": "surface"
           }
          ],
          "table": [
           {
            "cells": {
             "fill": {
              "color": "#EBF0F8"
             },
             "line": {
              "color": "white"
             }
            },
            "header": {
             "fill": {
              "color": "#C8D4E3"
             },
             "line": {
              "color": "white"
             }
            },
            "type": "table"
           }
          ]
         },
         "layout": {
          "annotationdefaults": {
           "arrowcolor": "#2a3f5f",
           "arrowhead": 0,
           "arrowwidth": 1
          },
          "autotypenumbers": "strict",
          "coloraxis": {
           "colorbar": {
            "outlinewidth": 0,
            "ticks": ""
           }
          },
          "colorscale": {
           "diverging": [
            [
             0,
             "#8e0152"
            ],
            [
             0.1,
             "#c51b7d"
            ],
            [
             0.2,
             "#de77ae"
            ],
            [
             0.3,
             "#f1b6da"
            ],
            [
             0.4,
             "#fde0ef"
            ],
            [
             0.5,
             "#f7f7f7"
            ],
            [
             0.6,
             "#e6f5d0"
            ],
            [
             0.7,
             "#b8e186"
            ],
            [
             0.8,
             "#7fbc41"
            ],
            [
             0.9,
             "#4d9221"
            ],
            [
             1,
             "#276419"
            ]
           ],
           "sequential": [
            [
             0,
             "#0d0887"
            ],
            [
             0.1111111111111111,
             "#46039f"
            ],
            [
             0.2222222222222222,
             "#7201a8"
            ],
            [
             0.3333333333333333,
             "#9c179e"
            ],
            [
             0.4444444444444444,
             "#bd3786"
            ],
            [
             0.5555555555555556,
             "#d8576b"
            ],
            [
             0.6666666666666666,
             "#ed7953"
            ],
            [
             0.7777777777777778,
             "#fb9f3a"
            ],
            [
             0.8888888888888888,
             "#fdca26"
            ],
            [
             1,
             "#f0f921"
            ]
           ],
           "sequentialminus": [
            [
             0,
             "#0d0887"
            ],
            [
             0.1111111111111111,
             "#46039f"
            ],
            [
             0.2222222222222222,
             "#7201a8"
            ],
            [
             0.3333333333333333,
             "#9c179e"
            ],
            [
             0.4444444444444444,
             "#bd3786"
            ],
            [
             0.5555555555555556,
             "#d8576b"
            ],
            [
             0.6666666666666666,
             "#ed7953"
            ],
            [
             0.7777777777777778,
             "#fb9f3a"
            ],
            [
             0.8888888888888888,
             "#fdca26"
            ],
            [
             1,
             "#f0f921"
            ]
           ]
          },
          "colorway": [
           "#636efa",
           "#EF553B",
           "#00cc96",
           "#ab63fa",
           "#FFA15A",
           "#19d3f3",
           "#FF6692",
           "#B6E880",
           "#FF97FF",
           "#FECB52"
          ],
          "font": {
           "color": "#2a3f5f"
          },
          "geo": {
           "bgcolor": "white",
           "lakecolor": "white",
           "landcolor": "white",
           "showlakes": true,
           "showland": true,
           "subunitcolor": "#C8D4E3"
          },
          "hoverlabel": {
           "align": "left"
          },
          "hovermode": "closest",
          "mapbox": {
           "style": "light"
          },
          "paper_bgcolor": "white",
          "plot_bgcolor": "white",
          "polar": {
           "angularaxis": {
            "gridcolor": "#EBF0F8",
            "linecolor": "#EBF0F8",
            "ticks": ""
           },
           "bgcolor": "white",
           "radialaxis": {
            "gridcolor": "#EBF0F8",
            "linecolor": "#EBF0F8",
            "ticks": ""
           }
          },
          "scene": {
           "xaxis": {
            "backgroundcolor": "white",
            "gridcolor": "#DFE8F3",
            "gridwidth": 2,
            "linecolor": "#EBF0F8",
            "showbackground": true,
            "ticks": "",
            "zerolinecolor": "#EBF0F8"
           },
           "yaxis": {
            "backgroundcolor": "white",
            "gridcolor": "#DFE8F3",
            "gridwidth": 2,
            "linecolor": "#EBF0F8",
            "showbackground": true,
            "ticks": "",
            "zerolinecolor": "#EBF0F8"
           },
           "zaxis": {
            "backgroundcolor": "white",
            "gridcolor": "#DFE8F3",
            "gridwidth": 2,
            "linecolor": "#EBF0F8",
            "showbackground": true,
            "ticks": "",
            "zerolinecolor": "#EBF0F8"
           }
          },
          "shapedefaults": {
           "line": {
            "color": "#2a3f5f"
           }
          },
          "ternary": {
           "aaxis": {
            "gridcolor": "#DFE8F3",
            "linecolor": "#A2B1C6",
            "ticks": ""
           },
           "baxis": {
            "gridcolor": "#DFE8F3",
            "linecolor": "#A2B1C6",
            "ticks": ""
           },
           "bgcolor": "white",
           "caxis": {
            "gridcolor": "#DFE8F3",
            "linecolor": "#A2B1C6",
            "ticks": ""
           }
          },
          "title": {
           "x": 0.05
          },
          "xaxis": {
           "automargin": true,
           "gridcolor": "#EBF0F8",
           "linecolor": "#EBF0F8",
           "ticks": "",
           "title": {
            "standoff": 15
           },
           "zerolinecolor": "#EBF0F8",
           "zerolinewidth": 2
          },
          "yaxis": {
           "automargin": true,
           "gridcolor": "#EBF0F8",
           "linecolor": "#EBF0F8",
           "ticks": "",
           "title": {
            "standoff": 15
           },
           "zerolinecolor": "#EBF0F8",
           "zerolinewidth": 2
          }
         }
        },
        "title": {
         "text": "Resultados de quem chutou MAIS (%)"
        }
       }
      }
     },
     "metadata": {},
     "output_type": "display_data"
    }
   ],
   "source": [
    "df_chutes = df_analise.copy()\n",
    "\n",
    "# Identifica o time com mais chutes (None se for empate)\n",
    "df_chutes['time_mais_chutes'] = np.select(\n",
    "    [\n",
    "        df_chutes['mandante_chutes'] > df_chutes['visitante_chutes'],\n",
    "        df_chutes['visitante_chutes'] > df_chutes['mandante_chutes']\n",
    "    ],\n",
    "    [\n",
    "        df_chutes['mandante'],\n",
    "        df_chutes['visitante']\n",
    "    ],\n",
    "    default=None\n",
    ")\n",
    "\n",
    "# Filtra jogos com contagem de chutes diferente\n",
    "df_chutes_final = df_chutes.dropna(subset=['time_mais_chutes']).copy()\n",
    "df_chutes_final['resultado_final'] = df_chutes_final.apply(lambda row: get_resultado_perspectiva(row, row['time_mais_chutes']), axis=1)\n",
    "\n",
    "# Calcula o resumo\n",
    "resumo_chutes = df_chutes_final['resultado_final'].value_counts(normalize=True).mul(100).reset_index()\n",
    "resumo_chutes.columns = ['resultado', 'percentual']\n",
    "\n",
    "print(\"--- Resultado para o time que CHUTOU MAIS ---\")\n",
    "display(resumo_chutes.round(2))\n",
    "\n",
    "fig = px.pie(resumo_chutes, names='resultado', values='percentual', title='Resultados de quem chutou MAIS (%)',\n",
    "             color='resultado', color_discrete_map=COLOR_RESULTADO, hole=.3)\n",
    "fig.update_traces(textposition='inside', textinfo='percent+label')\n",
    "fig.show()"
   ]
  },
  {
   "cell_type": "markdown",
   "id": "397fa118",
   "metadata": {},
   "source": [
    "**Resultados para quem CHUTOU mais:**\n",
    "\n",
    "- 🟥 **Derrota:** 33,1%\n",
    "- 🟩 **Vitória:** 46%\n",
    "- 🟨 **Empate:** 20,9%\n",
    "\n",
    "> **Conclusão:**  \n",
    "> Chutar mais aumenta as chances de vitória, mas não garante o resultado!  \n",
    "> Em cerca de 1 a cada 3 jogos, o time que mais finalizou acabou derrotado.  \n",
    "> Ou seja, qualidade das finalizações e eficiência ainda são fundamentais no futebol brasileiro."
   ]
  },
  {
   "cell_type": "markdown",
   "id": "cf61c79d",
   "metadata": {},
   "source": [
    "### Qualidade é mais importante que quantidade? (Chutes no Alvo)\n",
    "\n",
    "Será que acertar o alvo faz mais diferença do que simplesmente finalizar mais vezes?  \n",
    "Aqui, analisamos todas as partidas para responder:\n",
    "\n",
    "- **Comparamos o número de chutes no alvo de cada equipe em cada jogo.**\n",
    "- **Identificamos quem acertou mais o gol (mandante, visitante ou empate).**\n",
    "- **Calculamos o percentual de vitórias, empates e derrotas para o time que mais acertou o alvo.**\n",
    "\n"
   ]
  },
  {
   "cell_type": "code",
   "execution_count": 174,
   "id": "c1dc472d",
   "metadata": {},
   "outputs": [
    {
     "name": "stdout",
     "output_type": "stream",
     "text": [
      "--- Resultado para o time com MAIS CHUTES NO ALVO ---\n"
     ]
    },
    {
     "data": {
      "text/html": [
       "<div>\n",
       "<style scoped>\n",
       "    .dataframe tbody tr th:only-of-type {\n",
       "        vertical-align: middle;\n",
       "    }\n",
       "\n",
       "    .dataframe tbody tr th {\n",
       "        vertical-align: top;\n",
       "    }\n",
       "\n",
       "    .dataframe thead th {\n",
       "        text-align: right;\n",
       "    }\n",
       "</style>\n",
       "<table border=\"1\" class=\"dataframe\">\n",
       "  <thead>\n",
       "    <tr style=\"text-align: right;\">\n",
       "      <th></th>\n",
       "      <th>resultado</th>\n",
       "      <th>percentual</th>\n",
       "    </tr>\n",
       "  </thead>\n",
       "  <tbody>\n",
       "    <tr>\n",
       "      <th>0</th>\n",
       "      <td>Vitória</td>\n",
       "      <td>59.17</td>\n",
       "    </tr>\n",
       "    <tr>\n",
       "      <th>1</th>\n",
       "      <td>Empate</td>\n",
       "      <td>20.64</td>\n",
       "    </tr>\n",
       "    <tr>\n",
       "      <th>2</th>\n",
       "      <td>Derrota</td>\n",
       "      <td>20.19</td>\n",
       "    </tr>\n",
       "  </tbody>\n",
       "</table>\n",
       "</div>"
      ],
      "text/plain": [
       "  resultado  percentual\n",
       "0   Vitória       59.17\n",
       "1    Empate       20.64\n",
       "2   Derrota       20.19"
      ]
     },
     "metadata": {},
     "output_type": "display_data"
    },
    {
     "data": {
      "application/vnd.plotly.v1+json": {
       "config": {
        "plotlyServerURL": "https://plot.ly"
       },
       "data": [
        {
         "customdata": [
          [
           "Vitória"
          ],
          [
           "Empate"
          ],
          [
           "Derrota"
          ]
         ],
         "domain": {
          "x": [
           0,
           1
          ],
          "y": [
           0,
           1
          ]
         },
         "hole": 0.3,
         "hovertemplate": "resultado=%{customdata[0]}<br>percentual=%{value}<extra></extra>",
         "labels": [
          "Vitória",
          "Empate",
          "Derrota"
         ],
         "legendgroup": "",
         "marker": {
          "colors": [
           "green",
           "yellow",
           "red"
          ]
         },
         "name": "",
         "showlegend": true,
         "textinfo": "percent+label",
         "textposition": "inside",
         "type": "pie",
         "values": {
          "bdata": "MqOJPFiWTUBFIB4txKI0QFiZzlmLMDRA",
          "dtype": "f8"
         }
        }
       ],
       "layout": {
        "legend": {
         "tracegroupgap": 0
        },
        "template": {
         "data": {
          "bar": [
           {
            "error_x": {
             "color": "#2a3f5f"
            },
            "error_y": {
             "color": "#2a3f5f"
            },
            "marker": {
             "line": {
              "color": "white",
              "width": 0.5
             },
             "pattern": {
              "fillmode": "overlay",
              "size": 10,
              "solidity": 0.2
             }
            },
            "type": "bar"
           }
          ],
          "barpolar": [
           {
            "marker": {
             "line": {
              "color": "white",
              "width": 0.5
             },
             "pattern": {
              "fillmode": "overlay",
              "size": 10,
              "solidity": 0.2
             }
            },
            "type": "barpolar"
           }
          ],
          "carpet": [
           {
            "aaxis": {
             "endlinecolor": "#2a3f5f",
             "gridcolor": "#C8D4E3",
             "linecolor": "#C8D4E3",
             "minorgridcolor": "#C8D4E3",
             "startlinecolor": "#2a3f5f"
            },
            "baxis": {
             "endlinecolor": "#2a3f5f",
             "gridcolor": "#C8D4E3",
             "linecolor": "#C8D4E3",
             "minorgridcolor": "#C8D4E3",
             "startlinecolor": "#2a3f5f"
            },
            "type": "carpet"
           }
          ],
          "choropleth": [
           {
            "colorbar": {
             "outlinewidth": 0,
             "ticks": ""
            },
            "type": "choropleth"
           }
          ],
          "contour": [
           {
            "colorbar": {
             "outlinewidth": 0,
             "ticks": ""
            },
            "colorscale": [
             [
              0,
              "#0d0887"
             ],
             [
              0.1111111111111111,
              "#46039f"
             ],
             [
              0.2222222222222222,
              "#7201a8"
             ],
             [
              0.3333333333333333,
              "#9c179e"
             ],
             [
              0.4444444444444444,
              "#bd3786"
             ],
             [
              0.5555555555555556,
              "#d8576b"
             ],
             [
              0.6666666666666666,
              "#ed7953"
             ],
             [
              0.7777777777777778,
              "#fb9f3a"
             ],
             [
              0.8888888888888888,
              "#fdca26"
             ],
             [
              1,
              "#f0f921"
             ]
            ],
            "type": "contour"
           }
          ],
          "contourcarpet": [
           {
            "colorbar": {
             "outlinewidth": 0,
             "ticks": ""
            },
            "type": "contourcarpet"
           }
          ],
          "heatmap": [
           {
            "colorbar": {
             "outlinewidth": 0,
             "ticks": ""
            },
            "colorscale": [
             [
              0,
              "#0d0887"
             ],
             [
              0.1111111111111111,
              "#46039f"
             ],
             [
              0.2222222222222222,
              "#7201a8"
             ],
             [
              0.3333333333333333,
              "#9c179e"
             ],
             [
              0.4444444444444444,
              "#bd3786"
             ],
             [
              0.5555555555555556,
              "#d8576b"
             ],
             [
              0.6666666666666666,
              "#ed7953"
             ],
             [
              0.7777777777777778,
              "#fb9f3a"
             ],
             [
              0.8888888888888888,
              "#fdca26"
             ],
             [
              1,
              "#f0f921"
             ]
            ],
            "type": "heatmap"
           }
          ],
          "histogram": [
           {
            "marker": {
             "pattern": {
              "fillmode": "overlay",
              "size": 10,
              "solidity": 0.2
             }
            },
            "type": "histogram"
           }
          ],
          "histogram2d": [
           {
            "colorbar": {
             "outlinewidth": 0,
             "ticks": ""
            },
            "colorscale": [
             [
              0,
              "#0d0887"
             ],
             [
              0.1111111111111111,
              "#46039f"
             ],
             [
              0.2222222222222222,
              "#7201a8"
             ],
             [
              0.3333333333333333,
              "#9c179e"
             ],
             [
              0.4444444444444444,
              "#bd3786"
             ],
             [
              0.5555555555555556,
              "#d8576b"
             ],
             [
              0.6666666666666666,
              "#ed7953"
             ],
             [
              0.7777777777777778,
              "#fb9f3a"
             ],
             [
              0.8888888888888888,
              "#fdca26"
             ],
             [
              1,
              "#f0f921"
             ]
            ],
            "type": "histogram2d"
           }
          ],
          "histogram2dcontour": [
           {
            "colorbar": {
             "outlinewidth": 0,
             "ticks": ""
            },
            "colorscale": [
             [
              0,
              "#0d0887"
             ],
             [
              0.1111111111111111,
              "#46039f"
             ],
             [
              0.2222222222222222,
              "#7201a8"
             ],
             [
              0.3333333333333333,
              "#9c179e"
             ],
             [
              0.4444444444444444,
              "#bd3786"
             ],
             [
              0.5555555555555556,
              "#d8576b"
             ],
             [
              0.6666666666666666,
              "#ed7953"
             ],
             [
              0.7777777777777778,
              "#fb9f3a"
             ],
             [
              0.8888888888888888,
              "#fdca26"
             ],
             [
              1,
              "#f0f921"
             ]
            ],
            "type": "histogram2dcontour"
           }
          ],
          "mesh3d": [
           {
            "colorbar": {
             "outlinewidth": 0,
             "ticks": ""
            },
            "type": "mesh3d"
           }
          ],
          "parcoords": [
           {
            "line": {
             "colorbar": {
              "outlinewidth": 0,
              "ticks": ""
             }
            },
            "type": "parcoords"
           }
          ],
          "pie": [
           {
            "automargin": true,
            "type": "pie"
           }
          ],
          "scatter": [
           {
            "fillpattern": {
             "fillmode": "overlay",
             "size": 10,
             "solidity": 0.2
            },
            "type": "scatter"
           }
          ],
          "scatter3d": [
           {
            "line": {
             "colorbar": {
              "outlinewidth": 0,
              "ticks": ""
             }
            },
            "marker": {
             "colorbar": {
              "outlinewidth": 0,
              "ticks": ""
             }
            },
            "type": "scatter3d"
           }
          ],
          "scattercarpet": [
           {
            "marker": {
             "colorbar": {
              "outlinewidth": 0,
              "ticks": ""
             }
            },
            "type": "scattercarpet"
           }
          ],
          "scattergeo": [
           {
            "marker": {
             "colorbar": {
              "outlinewidth": 0,
              "ticks": ""
             }
            },
            "type": "scattergeo"
           }
          ],
          "scattergl": [
           {
            "marker": {
             "colorbar": {
              "outlinewidth": 0,
              "ticks": ""
             }
            },
            "type": "scattergl"
           }
          ],
          "scattermap": [
           {
            "marker": {
             "colorbar": {
              "outlinewidth": 0,
              "ticks": ""
             }
            },
            "type": "scattermap"
           }
          ],
          "scattermapbox": [
           {
            "marker": {
             "colorbar": {
              "outlinewidth": 0,
              "ticks": ""
             }
            },
            "type": "scattermapbox"
           }
          ],
          "scatterpolar": [
           {
            "marker": {
             "colorbar": {
              "outlinewidth": 0,
              "ticks": ""
             }
            },
            "type": "scatterpolar"
           }
          ],
          "scatterpolargl": [
           {
            "marker": {
             "colorbar": {
              "outlinewidth": 0,
              "ticks": ""
             }
            },
            "type": "scatterpolargl"
           }
          ],
          "scatterternary": [
           {
            "marker": {
             "colorbar": {
              "outlinewidth": 0,
              "ticks": ""
             }
            },
            "type": "scatterternary"
           }
          ],
          "surface": [
           {
            "colorbar": {
             "outlinewidth": 0,
             "ticks": ""
            },
            "colorscale": [
             [
              0,
              "#0d0887"
             ],
             [
              0.1111111111111111,
              "#46039f"
             ],
             [
              0.2222222222222222,
              "#7201a8"
             ],
             [
              0.3333333333333333,
              "#9c179e"
             ],
             [
              0.4444444444444444,
              "#bd3786"
             ],
             [
              0.5555555555555556,
              "#d8576b"
             ],
             [
              0.6666666666666666,
              "#ed7953"
             ],
             [
              0.7777777777777778,
              "#fb9f3a"
             ],
             [
              0.8888888888888888,
              "#fdca26"
             ],
             [
              1,
              "#f0f921"
             ]
            ],
            "type": "surface"
           }
          ],
          "table": [
           {
            "cells": {
             "fill": {
              "color": "#EBF0F8"
             },
             "line": {
              "color": "white"
             }
            },
            "header": {
             "fill": {
              "color": "#C8D4E3"
             },
             "line": {
              "color": "white"
             }
            },
            "type": "table"
           }
          ]
         },
         "layout": {
          "annotationdefaults": {
           "arrowcolor": "#2a3f5f",
           "arrowhead": 0,
           "arrowwidth": 1
          },
          "autotypenumbers": "strict",
          "coloraxis": {
           "colorbar": {
            "outlinewidth": 0,
            "ticks": ""
           }
          },
          "colorscale": {
           "diverging": [
            [
             0,
             "#8e0152"
            ],
            [
             0.1,
             "#c51b7d"
            ],
            [
             0.2,
             "#de77ae"
            ],
            [
             0.3,
             "#f1b6da"
            ],
            [
             0.4,
             "#fde0ef"
            ],
            [
             0.5,
             "#f7f7f7"
            ],
            [
             0.6,
             "#e6f5d0"
            ],
            [
             0.7,
             "#b8e186"
            ],
            [
             0.8,
             "#7fbc41"
            ],
            [
             0.9,
             "#4d9221"
            ],
            [
             1,
             "#276419"
            ]
           ],
           "sequential": [
            [
             0,
             "#0d0887"
            ],
            [
             0.1111111111111111,
             "#46039f"
            ],
            [
             0.2222222222222222,
             "#7201a8"
            ],
            [
             0.3333333333333333,
             "#9c179e"
            ],
            [
             0.4444444444444444,
             "#bd3786"
            ],
            [
             0.5555555555555556,
             "#d8576b"
            ],
            [
             0.6666666666666666,
             "#ed7953"
            ],
            [
             0.7777777777777778,
             "#fb9f3a"
            ],
            [
             0.8888888888888888,
             "#fdca26"
            ],
            [
             1,
             "#f0f921"
            ]
           ],
           "sequentialminus": [
            [
             0,
             "#0d0887"
            ],
            [
             0.1111111111111111,
             "#46039f"
            ],
            [
             0.2222222222222222,
             "#7201a8"
            ],
            [
             0.3333333333333333,
             "#9c179e"
            ],
            [
             0.4444444444444444,
             "#bd3786"
            ],
            [
             0.5555555555555556,
             "#d8576b"
            ],
            [
             0.6666666666666666,
             "#ed7953"
            ],
            [
             0.7777777777777778,
             "#fb9f3a"
            ],
            [
             0.8888888888888888,
             "#fdca26"
            ],
            [
             1,
             "#f0f921"
            ]
           ]
          },
          "colorway": [
           "#636efa",
           "#EF553B",
           "#00cc96",
           "#ab63fa",
           "#FFA15A",
           "#19d3f3",
           "#FF6692",
           "#B6E880",
           "#FF97FF",
           "#FECB52"
          ],
          "font": {
           "color": "#2a3f5f"
          },
          "geo": {
           "bgcolor": "white",
           "lakecolor": "white",
           "landcolor": "white",
           "showlakes": true,
           "showland": true,
           "subunitcolor": "#C8D4E3"
          },
          "hoverlabel": {
           "align": "left"
          },
          "hovermode": "closest",
          "mapbox": {
           "style": "light"
          },
          "paper_bgcolor": "white",
          "plot_bgcolor": "white",
          "polar": {
           "angularaxis": {
            "gridcolor": "#EBF0F8",
            "linecolor": "#EBF0F8",
            "ticks": ""
           },
           "bgcolor": "white",
           "radialaxis": {
            "gridcolor": "#EBF0F8",
            "linecolor": "#EBF0F8",
            "ticks": ""
           }
          },
          "scene": {
           "xaxis": {
            "backgroundcolor": "white",
            "gridcolor": "#DFE8F3",
            "gridwidth": 2,
            "linecolor": "#EBF0F8",
            "showbackground": true,
            "ticks": "",
            "zerolinecolor": "#EBF0F8"
           },
           "yaxis": {
            "backgroundcolor": "white",
            "gridcolor": "#DFE8F3",
            "gridwidth": 2,
            "linecolor": "#EBF0F8",
            "showbackground": true,
            "ticks": "",
            "zerolinecolor": "#EBF0F8"
           },
           "zaxis": {
            "backgroundcolor": "white",
            "gridcolor": "#DFE8F3",
            "gridwidth": 2,
            "linecolor": "#EBF0F8",
            "showbackground": true,
            "ticks": "",
            "zerolinecolor": "#EBF0F8"
           }
          },
          "shapedefaults": {
           "line": {
            "color": "#2a3f5f"
           }
          },
          "ternary": {
           "aaxis": {
            "gridcolor": "#DFE8F3",
            "linecolor": "#A2B1C6",
            "ticks": ""
           },
           "baxis": {
            "gridcolor": "#DFE8F3",
            "linecolor": "#A2B1C6",
            "ticks": ""
           },
           "bgcolor": "white",
           "caxis": {
            "gridcolor": "#DFE8F3",
            "linecolor": "#A2B1C6",
            "ticks": ""
           }
          },
          "title": {
           "x": 0.05
          },
          "xaxis": {
           "automargin": true,
           "gridcolor": "#EBF0F8",
           "linecolor": "#EBF0F8",
           "ticks": "",
           "title": {
            "standoff": 15
           },
           "zerolinecolor": "#EBF0F8",
           "zerolinewidth": 2
          },
          "yaxis": {
           "automargin": true,
           "gridcolor": "#EBF0F8",
           "linecolor": "#EBF0F8",
           "ticks": "",
           "title": {
            "standoff": 15
           },
           "zerolinecolor": "#EBF0F8",
           "zerolinewidth": 2
          }
         }
        },
        "title": {
         "text": "Resultados de quem teve MAIS CHUTES NO ALVO (%)"
        }
       }
      }
     },
     "metadata": {},
     "output_type": "display_data"
    }
   ],
   "source": [
    "df_chutes_alvo = df_analise.copy()\n",
    "\n",
    "# Identifica o time com mais chutes no alvo (None se for empate)\n",
    "df_chutes_alvo['time_mais_chutes_alvo'] = np.select(\n",
    "    [\n",
    "        df_chutes_alvo['mandante_chutes_no_alvo'] > df_chutes_alvo['visitante_chutes_no_alvo'],\n",
    "        df_chutes_alvo['visitante_chutes_no_alvo'] > df_chutes_alvo['mandante_chutes_no_alvo']\n",
    "    ],\n",
    "    [\n",
    "        df_chutes_alvo['mandante'],\n",
    "        df_chutes_alvo['visitante']\n",
    "    ],\n",
    "    default=None\n",
    ")\n",
    "\n",
    "# Filtra jogos com contagem diferente\n",
    "df_chutes_alvo_final = df_chutes_alvo.dropna(subset=['time_mais_chutes_alvo']).copy()\n",
    "df_chutes_alvo_final['resultado_final'] = df_chutes_alvo_final.apply(lambda row: get_resultado_perspectiva(row, row['time_mais_chutes_alvo']), axis=1)\n",
    "\n",
    "# Calcula o resumo\n",
    "resumo_chutes_alvo = df_chutes_alvo_final['resultado_final'].value_counts(normalize=True).mul(100).reset_index()\n",
    "resumo_chutes_alvo.columns = ['resultado', 'percentual']\n",
    "\n",
    "print(\"--- Resultado para o time com MAIS CHUTES NO ALVO ---\")\n",
    "display(resumo_chutes_alvo.round(2))\n",
    "\n",
    "fig = px.pie(resumo_chutes_alvo, names='resultado', values='percentual', title='Resultados de quem teve MAIS CHUTES NO ALVO (%)',\n",
    "             color='resultado', color_discrete_map=COLOR_RESULTADO, hole=.3)\n",
    "fig.update_traces(textposition='inside', textinfo='percent+label')\n",
    "fig.show()"
   ]
  },
  {
   "cell_type": "markdown",
   "id": "b1e4086a",
   "metadata": {},
   "source": [
    "**Resultados para quem teve MAIS CHUTES no ALVO:**\n",
    "\n",
    "- 🟥 **Derrota:** 20,2%\n",
    "- 🟩 **Vitória:** 59,2%\n",
    "- 🟨 **Empate:** 20,6%\n",
    "> **Conclusão:**  \n",
    "> Acertar mais o alvo aumenta significativamente as chances de vitória, mas não garante o resultado.  \n",
    "> Em quase metade dos jogos, o time que mais acertou o gol não saiu vencedor, mostrando que eficiência é fundamental, mas o futebol ainda reserva surpresas!"
   ]
  },
  {
   "cell_type": "markdown",
   "id": "a4bcaaae",
   "metadata": {},
   "source": [
    "## ⚡ Contra-Ataque: A Estratégia dos Menos Possuidores\n",
    "\n",
    "O contra-ataque é uma das táticas mais clássicas do futebol: ceder a posse de bola ao adversário e apostar em transições rápidas para finalizar mais vezes. Mas será que essa estratégia realmente traz resultados no Brasileirão?\n",
    "\n",
    "### Como analisamos:\n",
    "\n",
    "- **Critério:** Selecionamos partidas em que um time teve MENOS posse de bola, mas FINALIZOU MAIS vezes que o adversário.\n",
    "- **Resultado:** Calculamos o percentual de vitórias, empates e derrotas para o time que adotou esse perfil de jogo.\n"
   ]
  },
  {
   "cell_type": "markdown",
   "id": "47fe86ac",
   "metadata": {},
   "source": []
  },
  {
   "cell_type": "code",
   "execution_count": 175,
   "id": "7bc49d3c",
   "metadata": {},
   "outputs": [
    {
     "name": "stdout",
     "output_type": "stream",
     "text": [
      "--- Análise (via SQL): Eficácia do Perfil de Contra-Ataque ---\n",
      "\n",
      "Resultado para o time que teve MENOS posse de bola e MAIS chutes:\n"
     ]
    },
    {
     "data": {
      "text/html": [
       "<div>\n",
       "<style scoped>\n",
       "    .dataframe tbody tr th:only-of-type {\n",
       "        vertical-align: middle;\n",
       "    }\n",
       "\n",
       "    .dataframe tbody tr th {\n",
       "        vertical-align: top;\n",
       "    }\n",
       "\n",
       "    .dataframe thead th {\n",
       "        text-align: right;\n",
       "    }\n",
       "</style>\n",
       "<table border=\"1\" class=\"dataframe\">\n",
       "  <thead>\n",
       "    <tr style=\"text-align: right;\">\n",
       "      <th></th>\n",
       "      <th>resultado</th>\n",
       "      <th>percentual</th>\n",
       "    </tr>\n",
       "  </thead>\n",
       "  <tbody>\n",
       "    <tr>\n",
       "      <th>0</th>\n",
       "      <td>Vitória</td>\n",
       "      <td>54.17</td>\n",
       "    </tr>\n",
       "    <tr>\n",
       "      <th>1</th>\n",
       "      <td>Derrota</td>\n",
       "      <td>23.85</td>\n",
       "    </tr>\n",
       "    <tr>\n",
       "      <th>2</th>\n",
       "      <td>Empate</td>\n",
       "      <td>21.98</td>\n",
       "    </tr>\n",
       "  </tbody>\n",
       "</table>\n",
       "</div>"
      ],
      "text/plain": [
       "  resultado  percentual\n",
       "0   Vitória       54.17\n",
       "1   Derrota       23.85\n",
       "2    Empate       21.98"
      ]
     },
     "metadata": {},
     "output_type": "display_data"
    },
    {
     "data": {
      "application/vnd.plotly.v1+json": {
       "config": {
        "plotlyServerURL": "https://plot.ly"
       },
       "data": [
        {
         "customdata": [
          [
           "Vitória"
          ],
          [
           "Derrota"
          ],
          [
           "Empate"
          ]
         ],
         "domain": {
          "x": [
           0,
           1
          ],
          "y": [
           0,
           1
          ]
         },
         "hovertemplate": "resultado=%{customdata[0]}<br>percentual=%{value}<extra></extra>",
         "labels": [
          "Vitória",
          "Derrota",
          "Empate"
         ],
         "legendgroup": "",
         "marker": {
          "colors": [
           "green",
           "red",
           "yellow"
          ]
         },
         "name": "",
         "showlegend": true,
         "type": "pie",
         "values": {
          "bdata": "6OGu7T0WS0DOFaoun9k3QGEm+PXk+TVA",
          "dtype": "f8"
         }
        }
       ],
       "layout": {
        "legend": {
         "tracegroupgap": 0
        },
        "template": {
         "data": {
          "bar": [
           {
            "error_x": {
             "color": "#2a3f5f"
            },
            "error_y": {
             "color": "#2a3f5f"
            },
            "marker": {
             "line": {
              "color": "white",
              "width": 0.5
             },
             "pattern": {
              "fillmode": "overlay",
              "size": 10,
              "solidity": 0.2
             }
            },
            "type": "bar"
           }
          ],
          "barpolar": [
           {
            "marker": {
             "line": {
              "color": "white",
              "width": 0.5
             },
             "pattern": {
              "fillmode": "overlay",
              "size": 10,
              "solidity": 0.2
             }
            },
            "type": "barpolar"
           }
          ],
          "carpet": [
           {
            "aaxis": {
             "endlinecolor": "#2a3f5f",
             "gridcolor": "#C8D4E3",
             "linecolor": "#C8D4E3",
             "minorgridcolor": "#C8D4E3",
             "startlinecolor": "#2a3f5f"
            },
            "baxis": {
             "endlinecolor": "#2a3f5f",
             "gridcolor": "#C8D4E3",
             "linecolor": "#C8D4E3",
             "minorgridcolor": "#C8D4E3",
             "startlinecolor": "#2a3f5f"
            },
            "type": "carpet"
           }
          ],
          "choropleth": [
           {
            "colorbar": {
             "outlinewidth": 0,
             "ticks": ""
            },
            "type": "choropleth"
           }
          ],
          "contour": [
           {
            "colorbar": {
             "outlinewidth": 0,
             "ticks": ""
            },
            "colorscale": [
             [
              0,
              "#0d0887"
             ],
             [
              0.1111111111111111,
              "#46039f"
             ],
             [
              0.2222222222222222,
              "#7201a8"
             ],
             [
              0.3333333333333333,
              "#9c179e"
             ],
             [
              0.4444444444444444,
              "#bd3786"
             ],
             [
              0.5555555555555556,
              "#d8576b"
             ],
             [
              0.6666666666666666,
              "#ed7953"
             ],
             [
              0.7777777777777778,
              "#fb9f3a"
             ],
             [
              0.8888888888888888,
              "#fdca26"
             ],
             [
              1,
              "#f0f921"
             ]
            ],
            "type": "contour"
           }
          ],
          "contourcarpet": [
           {
            "colorbar": {
             "outlinewidth": 0,
             "ticks": ""
            },
            "type": "contourcarpet"
           }
          ],
          "heatmap": [
           {
            "colorbar": {
             "outlinewidth": 0,
             "ticks": ""
            },
            "colorscale": [
             [
              0,
              "#0d0887"
             ],
             [
              0.1111111111111111,
              "#46039f"
             ],
             [
              0.2222222222222222,
              "#7201a8"
             ],
             [
              0.3333333333333333,
              "#9c179e"
             ],
             [
              0.4444444444444444,
              "#bd3786"
             ],
             [
              0.5555555555555556,
              "#d8576b"
             ],
             [
              0.6666666666666666,
              "#ed7953"
             ],
             [
              0.7777777777777778,
              "#fb9f3a"
             ],
             [
              0.8888888888888888,
              "#fdca26"
             ],
             [
              1,
              "#f0f921"
             ]
            ],
            "type": "heatmap"
           }
          ],
          "histogram": [
           {
            "marker": {
             "pattern": {
              "fillmode": "overlay",
              "size": 10,
              "solidity": 0.2
             }
            },
            "type": "histogram"
           }
          ],
          "histogram2d": [
           {
            "colorbar": {
             "outlinewidth": 0,
             "ticks": ""
            },
            "colorscale": [
             [
              0,
              "#0d0887"
             ],
             [
              0.1111111111111111,
              "#46039f"
             ],
             [
              0.2222222222222222,
              "#7201a8"
             ],
             [
              0.3333333333333333,
              "#9c179e"
             ],
             [
              0.4444444444444444,
              "#bd3786"
             ],
             [
              0.5555555555555556,
              "#d8576b"
             ],
             [
              0.6666666666666666,
              "#ed7953"
             ],
             [
              0.7777777777777778,
              "#fb9f3a"
             ],
             [
              0.8888888888888888,
              "#fdca26"
             ],
             [
              1,
              "#f0f921"
             ]
            ],
            "type": "histogram2d"
           }
          ],
          "histogram2dcontour": [
           {
            "colorbar": {
             "outlinewidth": 0,
             "ticks": ""
            },
            "colorscale": [
             [
              0,
              "#0d0887"
             ],
             [
              0.1111111111111111,
              "#46039f"
             ],
             [
              0.2222222222222222,
              "#7201a8"
             ],
             [
              0.3333333333333333,
              "#9c179e"
             ],
             [
              0.4444444444444444,
              "#bd3786"
             ],
             [
              0.5555555555555556,
              "#d8576b"
             ],
             [
              0.6666666666666666,
              "#ed7953"
             ],
             [
              0.7777777777777778,
              "#fb9f3a"
             ],
             [
              0.8888888888888888,
              "#fdca26"
             ],
             [
              1,
              "#f0f921"
             ]
            ],
            "type": "histogram2dcontour"
           }
          ],
          "mesh3d": [
           {
            "colorbar": {
             "outlinewidth": 0,
             "ticks": ""
            },
            "type": "mesh3d"
           }
          ],
          "parcoords": [
           {
            "line": {
             "colorbar": {
              "outlinewidth": 0,
              "ticks": ""
             }
            },
            "type": "parcoords"
           }
          ],
          "pie": [
           {
            "automargin": true,
            "type": "pie"
           }
          ],
          "scatter": [
           {
            "fillpattern": {
             "fillmode": "overlay",
             "size": 10,
             "solidity": 0.2
            },
            "type": "scatter"
           }
          ],
          "scatter3d": [
           {
            "line": {
             "colorbar": {
              "outlinewidth": 0,
              "ticks": ""
             }
            },
            "marker": {
             "colorbar": {
              "outlinewidth": 0,
              "ticks": ""
             }
            },
            "type": "scatter3d"
           }
          ],
          "scattercarpet": [
           {
            "marker": {
             "colorbar": {
              "outlinewidth": 0,
              "ticks": ""
             }
            },
            "type": "scattercarpet"
           }
          ],
          "scattergeo": [
           {
            "marker": {
             "colorbar": {
              "outlinewidth": 0,
              "ticks": ""
             }
            },
            "type": "scattergeo"
           }
          ],
          "scattergl": [
           {
            "marker": {
             "colorbar": {
              "outlinewidth": 0,
              "ticks": ""
             }
            },
            "type": "scattergl"
           }
          ],
          "scattermap": [
           {
            "marker": {
             "colorbar": {
              "outlinewidth": 0,
              "ticks": ""
             }
            },
            "type": "scattermap"
           }
          ],
          "scattermapbox": [
           {
            "marker": {
             "colorbar": {
              "outlinewidth": 0,
              "ticks": ""
             }
            },
            "type": "scattermapbox"
           }
          ],
          "scatterpolar": [
           {
            "marker": {
             "colorbar": {
              "outlinewidth": 0,
              "ticks": ""
             }
            },
            "type": "scatterpolar"
           }
          ],
          "scatterpolargl": [
           {
            "marker": {
             "colorbar": {
              "outlinewidth": 0,
              "ticks": ""
             }
            },
            "type": "scatterpolargl"
           }
          ],
          "scatterternary": [
           {
            "marker": {
             "colorbar": {
              "outlinewidth": 0,
              "ticks": ""
             }
            },
            "type": "scatterternary"
           }
          ],
          "surface": [
           {
            "colorbar": {
             "outlinewidth": 0,
             "ticks": ""
            },
            "colorscale": [
             [
              0,
              "#0d0887"
             ],
             [
              0.1111111111111111,
              "#46039f"
             ],
             [
              0.2222222222222222,
              "#7201a8"
             ],
             [
              0.3333333333333333,
              "#9c179e"
             ],
             [
              0.4444444444444444,
              "#bd3786"
             ],
             [
              0.5555555555555556,
              "#d8576b"
             ],
             [
              0.6666666666666666,
              "#ed7953"
             ],
             [
              0.7777777777777778,
              "#fb9f3a"
             ],
             [
              0.8888888888888888,
              "#fdca26"
             ],
             [
              1,
              "#f0f921"
             ]
            ],
            "type": "surface"
           }
          ],
          "table": [
           {
            "cells": {
             "fill": {
              "color": "#EBF0F8"
             },
             "line": {
              "color": "white"
             }
            },
            "header": {
             "fill": {
              "color": "#C8D4E3"
             },
             "line": {
              "color": "white"
             }
            },
            "type": "table"
           }
          ]
         },
         "layout": {
          "annotationdefaults": {
           "arrowcolor": "#2a3f5f",
           "arrowhead": 0,
           "arrowwidth": 1
          },
          "autotypenumbers": "strict",
          "coloraxis": {
           "colorbar": {
            "outlinewidth": 0,
            "ticks": ""
           }
          },
          "colorscale": {
           "diverging": [
            [
             0,
             "#8e0152"
            ],
            [
             0.1,
             "#c51b7d"
            ],
            [
             0.2,
             "#de77ae"
            ],
            [
             0.3,
             "#f1b6da"
            ],
            [
             0.4,
             "#fde0ef"
            ],
            [
             0.5,
             "#f7f7f7"
            ],
            [
             0.6,
             "#e6f5d0"
            ],
            [
             0.7,
             "#b8e186"
            ],
            [
             0.8,
             "#7fbc41"
            ],
            [
             0.9,
             "#4d9221"
            ],
            [
             1,
             "#276419"
            ]
           ],
           "sequential": [
            [
             0,
             "#0d0887"
            ],
            [
             0.1111111111111111,
             "#46039f"
            ],
            [
             0.2222222222222222,
             "#7201a8"
            ],
            [
             0.3333333333333333,
             "#9c179e"
            ],
            [
             0.4444444444444444,
             "#bd3786"
            ],
            [
             0.5555555555555556,
             "#d8576b"
            ],
            [
             0.6666666666666666,
             "#ed7953"
            ],
            [
             0.7777777777777778,
             "#fb9f3a"
            ],
            [
             0.8888888888888888,
             "#fdca26"
            ],
            [
             1,
             "#f0f921"
            ]
           ],
           "sequentialminus": [
            [
             0,
             "#0d0887"
            ],
            [
             0.1111111111111111,
             "#46039f"
            ],
            [
             0.2222222222222222,
             "#7201a8"
            ],
            [
             0.3333333333333333,
             "#9c179e"
            ],
            [
             0.4444444444444444,
             "#bd3786"
            ],
            [
             0.5555555555555556,
             "#d8576b"
            ],
            [
             0.6666666666666666,
             "#ed7953"
            ],
            [
             0.7777777777777778,
             "#fb9f3a"
            ],
            [
             0.8888888888888888,
             "#fdca26"
            ],
            [
             1,
             "#f0f921"
            ]
           ]
          },
          "colorway": [
           "#636efa",
           "#EF553B",
           "#00cc96",
           "#ab63fa",
           "#FFA15A",
           "#19d3f3",
           "#FF6692",
           "#B6E880",
           "#FF97FF",
           "#FECB52"
          ],
          "font": {
           "color": "#2a3f5f"
          },
          "geo": {
           "bgcolor": "white",
           "lakecolor": "white",
           "landcolor": "white",
           "showlakes": true,
           "showland": true,
           "subunitcolor": "#C8D4E3"
          },
          "hoverlabel": {
           "align": "left"
          },
          "hovermode": "closest",
          "mapbox": {
           "style": "light"
          },
          "paper_bgcolor": "white",
          "plot_bgcolor": "white",
          "polar": {
           "angularaxis": {
            "gridcolor": "#EBF0F8",
            "linecolor": "#EBF0F8",
            "ticks": ""
           },
           "bgcolor": "white",
           "radialaxis": {
            "gridcolor": "#EBF0F8",
            "linecolor": "#EBF0F8",
            "ticks": ""
           }
          },
          "scene": {
           "xaxis": {
            "backgroundcolor": "white",
            "gridcolor": "#DFE8F3",
            "gridwidth": 2,
            "linecolor": "#EBF0F8",
            "showbackground": true,
            "ticks": "",
            "zerolinecolor": "#EBF0F8"
           },
           "yaxis": {
            "backgroundcolor": "white",
            "gridcolor": "#DFE8F3",
            "gridwidth": 2,
            "linecolor": "#EBF0F8",
            "showbackground": true,
            "ticks": "",
            "zerolinecolor": "#EBF0F8"
           },
           "zaxis": {
            "backgroundcolor": "white",
            "gridcolor": "#DFE8F3",
            "gridwidth": 2,
            "linecolor": "#EBF0F8",
            "showbackground": true,
            "ticks": "",
            "zerolinecolor": "#EBF0F8"
           }
          },
          "shapedefaults": {
           "line": {
            "color": "#2a3f5f"
           }
          },
          "ternary": {
           "aaxis": {
            "gridcolor": "#DFE8F3",
            "linecolor": "#A2B1C6",
            "ticks": ""
           },
           "baxis": {
            "gridcolor": "#DFE8F3",
            "linecolor": "#A2B1C6",
            "ticks": ""
           },
           "bgcolor": "white",
           "caxis": {
            "gridcolor": "#DFE8F3",
            "linecolor": "#A2B1C6",
            "ticks": ""
           }
          },
          "title": {
           "x": 0.05
          },
          "xaxis": {
           "automargin": true,
           "gridcolor": "#EBF0F8",
           "linecolor": "#EBF0F8",
           "ticks": "",
           "title": {
            "standoff": 15
           },
           "zerolinecolor": "#EBF0F8",
           "zerolinewidth": 2
          },
          "yaxis": {
           "automargin": true,
           "gridcolor": "#EBF0F8",
           "linecolor": "#EBF0F8",
           "ticks": "",
           "title": {
            "standoff": 15
           },
           "zerolinecolor": "#EBF0F8",
           "zerolinewidth": 2
          }
         }
        },
        "title": {
         "text": "Eficácia do Perfil de Contra-Ataque (%) - Gerado com SQL"
        }
       }
      }
     },
     "metadata": {},
     "output_type": "display_data"
    }
   ],
   "source": [
    "import duckdb\n",
    "\n",
    "query_contra_ataque = \"\"\"\n",
    "-- Usamos uma Common Table Expression (CTE) para clareza\n",
    "WITH JOGOS_CONTRA_ATAQUE AS (\n",
    "    SELECT\n",
    "        -- Determinamos o resultado do ponto de vista do time que contra-atacou\n",
    "        CASE\n",
    "            -- Caso 1: O MANDANTE contra-atacou (menos posse, mais chutes)\n",
    "            WHEN \n",
    "                mandante_posse_de_bola < visitante_posse_de_bola AND \n",
    "                mandante_chutes > visitante_chutes\n",
    "            THEN resultado -- O resultado da partida já é o do mandante\n",
    "\n",
    "            -- Caso 2: O VISITANTE contra-atacou (menos posse, mais chutes)\n",
    "            WHEN \n",
    "                visitante_posse_de_bola < mandante_posse_de_bola AND \n",
    "                visitante_chutes > mandante_chutes\n",
    "            -- Precisamos inverter o resultado da partida (que é a visão do mandante)\n",
    "            THEN CASE \n",
    "                WHEN resultado = 'Vitória' THEN 'Derrota'\n",
    "                WHEN resultado = 'Derrota' THEN 'Vitória'\n",
    "                ELSE 'Empate'\n",
    "            END\n",
    "        END AS resultado_final_contra_ataque\n",
    "    FROM \n",
    "        df_analise -- Aqui referenciamos o DataFrame diretamente!\n",
    "    WHERE\n",
    "        -- Filtramos apenas as partidas que se encaixam no perfil de contra-ataque\n",
    "        (mandante_posse_de_bola < visitante_posse_de_bola AND mandante_chutes > visitante_chutes) OR\n",
    "        (visitante_posse_de_bola < mandante_posse_de_bola AND visitante_chutes > mandante_chutes)\n",
    ")\n",
    "-- Agora, agregamos os resultados da CTE\n",
    "SELECT\n",
    "    resultado_final_contra_ataque AS resultado,\n",
    "    COUNT(*) * 100.0 / (SELECT COUNT(*) FROM JOGOS_CONTRA_ATAQUE) AS percentual\n",
    "FROM\n",
    "    JOGOS_CONTRA_ATAQUE\n",
    "GROUP BY\n",
    "    resultado_final_contra_ataque\n",
    "ORDER BY\n",
    "    percentual DESC;\n",
    "\"\"\"\n",
    "\n",
    "# Executa a consulta e converte o resultado de volta para um DataFrame do pandas\n",
    "resumo_contra_ataque_sql_df = duckdb.query(query_contra_ataque).to_df()\n",
    "\n",
    "print(\"--- Análise (via SQL): Eficácia do Perfil de Contra-Ataque ---\\n\")\n",
    "print(\"Resultado para o time que teve MENOS posse de bola e MAIS chutes:\")\n",
    "display(resumo_contra_ataque_sql_df.round(2))\n",
    "\n",
    "# Gráfico de pizza dos resultados de quem teve menos posse e mais chutes\n",
    "fig = px.pie(\n",
    "    resumo_contra_ataque_sql_df,\n",
    "    names='resultado',\n",
    "    values='percentual',\n",
    "    title='Eficácia do Perfil de Contra-Ataque (%) - Gerado com SQL',\n",
    "    color='resultado',               # usa o próprio rótulo\n",
    "    color_discrete_map=COLOR_RESULTADO\n",
    ")\n",
    "\n",
    "fig.show()\n",
    "\n"
   ]
  },
  {
   "cell_type": "markdown",
   "id": "c8812617",
   "metadata": {},
   "source": [
    "**Resultados para quem usou Contra-Ataque:**\n",
    "\n",
    "- 🟥 **Derrota:** 23,9%\n",
    "- 🟩 **Vitória:** 54,2%\n",
    "- 🟨 **Empate:** 22,0%\n",
    "> **Conclusão:**  \n",
    "> O contra-ataque é uma estratégia eficiente no Brasileirão!  \n",
    "> Mais da metade das vezes, o time que teve menos posse e mais chutes saiu vencedor.  \n",
    "> Isso mostra que, no futebol brasileiro, eficiência e velocidade podem superar o domínio da posse de bola.\n",
    "\n",
    "---\n",
    "\n",
    "**Curiosidade:**  \n",
    "Mesmo sem controlar o jogo, times que apostam em transições rápidas e finalizações conseguem ótimos resultados.  \n",
    "Aposte na objetividade!"
   ]
  }
 ],
 "metadata": {
  "kernelspec": {
   "display_name": "liven_env",
   "language": "python",
   "name": "python3"
  },
  "language_info": {
   "codemirror_mode": {
    "name": "ipython",
    "version": 3
   },
   "file_extension": ".py",
   "mimetype": "text/x-python",
   "name": "python",
   "nbconvert_exporter": "python",
   "pygments_lexer": "ipython3",
   "version": "3.13.5"
  }
 },
 "nbformat": 4,
 "nbformat_minor": 5
}
