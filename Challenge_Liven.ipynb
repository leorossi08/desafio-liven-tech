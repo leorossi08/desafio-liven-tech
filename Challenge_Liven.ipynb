{
 "cells": [
  {
   "cell_type": "markdown",
   "id": "241ab4b6-dedd-4388-930e-2b68db4ff8bd",
   "metadata": {},
   "source": [
    "## Parte 1: Carregamento e Limpeza de Dados\n",
    "\n",
    "Para começar, carregamos nossa principal ferramenta de trabalho, a biblioteca pandas, e em seguida, importamos as 4 planilhas de dados (partidas, estatísticas, cartões e gols)."
   ]
  },
  {
   "cell_type": "code",
   "execution_count": 146,
   "id": "6d8535bb-ac45-4d0c-82aa-d5800ea9a0eb",
   "metadata": {},
   "outputs": [],
   "source": [
    "import pandas as pd"
   ]
  },
  {
   "cell_type": "code",
   "execution_count": 147,
   "id": "f94b3793-25fb-408b-a6b1-4b849abafc96",
   "metadata": {},
   "outputs": [
    {
     "name": "stdout",
     "output_type": "stream",
     "text": [
      "Os 4 arquivos CSV foram carregados com sucesso!\n"
     ]
    }
   ],
   "source": [
    "try:\n",
    "    df_full = pd.read_csv('Brasileirao_Dataset/campeonato-brasileiro-full.csv')\n",
    "    df_stats = pd.read_csv('Brasileirao_Dataset/campeonato-brasileiro-estatisticas-full.csv')\n",
    "    df_cartoes = pd.read_csv('Brasileirao_Dataset/campeonato-brasileiro-cartoes.csv')\n",
    "    df_gols = pd.read_csv('Brasileirao_Dataset/campeonato-brasileiro-gols.csv')\n",
    "\n",
    "    print(\"Os 4 arquivos CSV foram carregados com sucesso!\")\n",
    "    \n",
    "except FileNotFoundError as e:\n",
    "    print(f\"Erro: O arquivo {e.filename} não foi encontrado.\")\n",
    "    print(\"Por favor, certifique-se de que os arquivos CSV estão no mesmo diretório que o seu notebook.\")"
   ]
  },
  {
   "cell_type": "code",
   "execution_count": 148,
   "id": "6fbc208c",
   "metadata": {},
   "outputs": [
    {
     "name": "stdout",
     "output_type": "stream",
     "text": [
      "Número de linhas em df_stats ANTES do filtro: 17570\n",
      "Número de linhas em df_stats DEPOIS do filtro: 6820\n",
      "\n",
      "Filtro de qualidade aplicado com sucesso! Apenas partidas com dados de estatísticas foram mantidas.\n"
     ]
    }
   ],
   "source": [
    "# Filtro de Qualidade em df_stats\n",
    "\n",
    "print(f\"Número de linhas em df_stats ANTES do filtro: {len(df_stats)}\")\n",
    "\n",
    "# Lista de colunas de estatísticas numéricas que indicam atividade em um jogo\n",
    "colunas_de_atividade = ['chutes', 'faltas', 'cartao_amarelo', 'cartao_vermelho', 'impedimentos', 'escanteios']\n",
    "\n",
    "# Calculamos a soma das estatísticas para cada linha. Se a soma for 0, significa que não há dados.\n",
    "soma_stats = df_stats[colunas_de_atividade].sum(axis=1)\n",
    "\n",
    "# Mantemos apenas as linhas onde a soma é maior que 0\n",
    "df_stats_com_dados = df_stats[soma_stats > 0].copy()\n",
    "\n",
    "print(f\"Número de linhas em df_stats DEPOIS do filtro: {len(df_stats_com_dados)}\")\n",
    "print(\"\\nFiltro de qualidade aplicado com sucesso! Apenas partidas com dados de estatísticas foram mantidas.\")"
   ]
  },
  {
   "cell_type": "markdown",
   "id": "f11e3972-74f5-4710-9815-d7d1c799b543",
   "metadata": {},
   "source": [
    "Ajuste de Data e Hora, além de renomear a coluna ID em df_full para 'partida_id', padronizando"
   ]
  },
  {
   "cell_type": "code",
   "execution_count": 149,
   "id": "d0efaddd-e748-4ed8-8c30-07858a71cdcc",
   "metadata": {},
   "outputs": [
    {
     "name": "stdout",
     "output_type": "stream",
     "text": [
      "Formatos de data/hora e coluna de ID ajustados com sucesso.\n"
     ]
    }
   ],
   "source": [
    "# Ajustando os tipos de dados de data e hora\n",
    "df_full['data'] = pd.to_datetime(df_full['data'], format='%d/%m/%Y', errors='coerce')\n",
    "df_full['hora'] = pd.to_datetime(df_full['hora'], format='%H:%M', errors='coerce').dt.time\n",
    "\n",
    "# Renomeando a coluna 'ID' para 'partida_id' para padronização\n",
    "df_full.rename(columns={'ID': 'partida_id'}, inplace=True)\n",
    "\n",
    "print(\"Formatos de data/hora e coluna de ID ajustados com sucesso.\")"
   ]
  },
  {
   "cell_type": "markdown",
   "id": "6767428d-af59-4da5-bc88-3889625070fd",
   "metadata": {},
   "source": [
    "#### Sincronizando as Tabelas, garantindo qualidade\n",
    "\n",
    "Para garantir a máxima confiabilidade, vamos trabalhar apenas com partidas que possuem registros completos em todas as quatro tabelas. Isso evita análises baseadas em dados incompletos."
   ]
  },
  {
   "cell_type": "code",
   "execution_count": 150,
   "id": "7ca99d36-d0a4-4cdd-b9e7-a3062e5bea73",
   "metadata": {},
   "outputs": [
    {
     "name": "stdout",
     "output_type": "stream",
     "text": [
      "Número de partidas em comum a todas as 4 bases: 3059\n"
     ]
    }
   ],
   "source": [
    "# Encontrando os IDs de partida comuns a todas as tabelas\n",
    "ids_full = set(df_full['partida_id'])\n",
    "ids_stats = set(df_stats_com_dados['partida_id'])\n",
    "ids_cartoes = set(df_cartoes['partida_id'])\n",
    "ids_gols = set(df_gols['partida_id'])\n",
    "\n",
    "# Encontra a interseção de IDs\n",
    "common_ids = set.intersection(ids_full, ids_stats, ids_cartoes, ids_gols)\n",
    "\n",
    "print(f\"Número de partidas em comum a todas as 4 bases: {len(common_ids)}\")"
   ]
  },
  {
   "cell_type": "markdown",
   "id": "9b0dc7b1-469c-43cc-a82e-e1ba2701f5a9",
   "metadata": {},
   "source": [
    "Agora, filtramos nossas tabelas para manter apenas essas partidas \"validadas\"."
   ]
  },
  {
   "cell_type": "code",
   "execution_count": 151,
   "id": "72245bef-dd67-42a3-bd63-3729837d7c9b",
   "metadata": {},
   "outputs": [
    {
     "name": "stdout",
     "output_type": "stream",
     "text": [
      "Filtro aplicado. Comparativo do número de linhas (Antes -> Depois):\n",
      "Partidas:      8785 -> 3059\n",
      "Estatísticas:  6820 -> 6118\n",
      "Cartões:       20953 -> 15659\n",
      "Gols:          9861 -> 7928\n"
     ]
    }
   ],
   "source": [
    "# Filtrando os DataFrames para manter apenas os dados completos\n",
    "common_ids_list = list(common_ids)\n",
    "\n",
    "df_full_cleaned = df_full[df_full['partida_id'].isin(common_ids_list)].copy()\n",
    "df_stats_cleaned = df_stats_com_dados[df_stats_com_dados['partida_id'].isin(common_ids_list)].copy()\n",
    "df_cartoes_cleaned = df_cartoes[df_cartoes['partida_id'].isin(common_ids_list)].copy()\n",
    "df_gols_cleaned = df_gols[df_gols['partida_id'].isin(common_ids_list)].copy()\n",
    "\n",
    "print(\"Filtro aplicado. Comparativo do número de linhas (Antes -> Depois):\")\n",
    "print(f\"Partidas:      {len(df_full)} -> {len(df_full_cleaned)}\")\n",
    "print(f\"Estatísticas:  {len(df_stats_com_dados)} -> {len(df_stats_cleaned)}\")\n",
    "print(f\"Cartões:       {len(df_cartoes)} -> {len(df_cartoes_cleaned)}\")\n",
    "print(f\"Gols:          {len(df_gols)} -> {len(df_gols_cleaned)}\")"
   ]
  },
  {
   "cell_type": "markdown",
   "id": "e5bb8aed-a4fe-4dae-ad58-267f1bc7d655",
   "metadata": {},
   "source": [
    "#### Tratando Campos Vazios\n",
    "\n",
    "O último passo da limpeza é preencher campos vazios (NaN) de forma inteligente para evitar erros e inconsistências. Aqui, não apagamos os dados NaN pois são grande parte do nosso banco de dados e dados como 'posse de bola', serão usados em análises futuras. Sobre as formações dos times, como são poucos dados e não pretendo usar, 'dropei' essas colunas."
   ]
  },
  {
   "cell_type": "code",
   "execution_count": 152,
   "id": "c574dc1b-f05d-469a-bcf7-5b327cbe88f5",
   "metadata": {},
   "outputs": [
    {
     "name": "stdout",
     "output_type": "stream",
     "text": [
      "Campos vazios tratados com sucesso.\n"
     ]
    }
   ],
   "source": [
    "# Removendo as colunas de formação do DataFrame df_full_cleaned\n",
    "df_full_cleaned = df_full_cleaned.drop(columns=['formacao_mandante', 'formacao_visitante'], errors='ignore')\n",
    "\n",
    "# Em df_stats, estatísticas ausentes viram 'Sem Info'\n",
    "df_stats_cleaned = df_stats_cleaned.copy()\n",
    "df_stats_cleaned['posse_de_bola'] = df_stats_cleaned['posse_de_bola'].fillna('Sem Info')\n",
    "df_stats_cleaned['precisao_passes'] = df_stats_cleaned['precisao_passes'].fillna('Sem Info')\n",
    "\n",
    "# Em df_cartoes, removemos a coluna 'num_camisa' e preenchemos 'posicao'\n",
    "df_cartoes_cleaned = df_cartoes_cleaned.drop(columns=['num_camisa'], errors='ignore')\n",
    "df_cartoes_cleaned = df_cartoes_cleaned.copy()\n",
    "df_cartoes_cleaned['posicao'] = df_cartoes_cleaned['posicao'].fillna('Sem Info')\n",
    "\n",
    "# Em df_gols, um gol sem tipo definido é assumido como 'Gol Normal'\n",
    "df_gols_cleaned = df_gols_cleaned.copy()\n",
    "df_gols_cleaned['tipo_de_gol'] = df_gols_cleaned['tipo_de_gol'].fillna('Gol Normal')\n",
    "\n",
    "print(\"Campos vazios tratados com sucesso.\")\n"
   ]
  },
  {
   "cell_type": "markdown",
   "id": "d920918f-48ac-4da9-b6a5-89adf49e1a20",
   "metadata": {},
   "source": [
    "## Parte 2: Construindo a Tabela Mestra  (EM MANUTENÇÃO)\n",
    "Com os dados limpos e sincronizados, o objetivo agora é criar uma única tabela onde cada linha representa uma partida e contém as estatísticas do time da casa e do visitante, lado a lado\n",
    "\n",
    "### Separando Estatísticas: Mandante vs. Visitante\n",
    "\n",
    "Primeiro, separamos os dados da tabela de estatísticas em duas novas tabelas: uma só para os times da casa (mandantes) e outra só para os visitantes."
   ]
  },
  {
   "cell_type": "code",
   "execution_count": 153,
   "id": "bca03643-baef-48f8-9415-ade0edeb4ce7",
   "metadata": {},
   "outputs": [
    {
     "name": "stdout",
     "output_type": "stream",
     "text": [
      "Estatísticas separadas para mandantes e visitantes.\n"
     ]
    }
   ],
   "source": [
    "# Separando as estatísticas\n",
    "stats_com_times = pd.merge(df_stats_cleaned, df_full_cleaned[['partida_id', 'mandante', 'visitante']], on='partida_id')\n",
    "mandante_stats = stats_com_times[stats_com_times['clube'] == stats_com_times['mandante']].copy()\n",
    "visitante_stats = stats_com_times[stats_com_times['clube'] == stats_com_times['visitante']].copy()\n",
    "\n",
    "print(\"Estatísticas separadas para mandantes e visitantes.\")"
   ]
  },
  {
   "cell_type": "code",
   "execution_count": 154,
   "id": "a6c674e9-7477-42c8-b9f3-b37c61eb1e57",
   "metadata": {},
   "outputs": [
    {
     "data": {
      "text/html": [
       "<div>\n",
       "<style scoped>\n",
       "    .dataframe tbody tr th:only-of-type {\n",
       "        vertical-align: middle;\n",
       "    }\n",
       "\n",
       "    .dataframe tbody tr th {\n",
       "        vertical-align: top;\n",
       "    }\n",
       "\n",
       "    .dataframe thead th {\n",
       "        text-align: right;\n",
       "    }\n",
       "</style>\n",
       "<table border=\"1\" class=\"dataframe\">\n",
       "  <thead>\n",
       "    <tr style=\"text-align: right;\">\n",
       "      <th></th>\n",
       "      <th>partida_id</th>\n",
       "      <th>rodata</th>\n",
       "      <th>clube</th>\n",
       "      <th>chutes</th>\n",
       "      <th>chutes_no_alvo</th>\n",
       "      <th>posse_de_bola</th>\n",
       "      <th>passes</th>\n",
       "      <th>precisao_passes</th>\n",
       "      <th>faltas</th>\n",
       "      <th>cartao_amarelo</th>\n",
       "      <th>cartao_vermelho</th>\n",
       "      <th>impedimentos</th>\n",
       "      <th>escanteios</th>\n",
       "      <th>mandante</th>\n",
       "      <th>visitante</th>\n",
       "    </tr>\n",
       "  </thead>\n",
       "  <tbody>\n",
       "    <tr>\n",
       "      <th>0</th>\n",
       "      <td>4741</td>\n",
       "      <td>13</td>\n",
       "      <td>Chapecoense</td>\n",
       "      <td>15</td>\n",
       "      <td>0</td>\n",
       "      <td>35%</td>\n",
       "      <td>280</td>\n",
       "      <td>Sem Info</td>\n",
       "      <td>19</td>\n",
       "      <td>4</td>\n",
       "      <td>0</td>\n",
       "      <td>0</td>\n",
       "      <td>8</td>\n",
       "      <td>Chapecoense</td>\n",
       "      <td>Flamengo</td>\n",
       "    </tr>\n",
       "    <tr>\n",
       "      <th>3</th>\n",
       "      <td>4808</td>\n",
       "      <td>20</td>\n",
       "      <td>Palmeiras</td>\n",
       "      <td>10</td>\n",
       "      <td>0</td>\n",
       "      <td>44%</td>\n",
       "      <td>384</td>\n",
       "      <td>Sem Info</td>\n",
       "      <td>18</td>\n",
       "      <td>4</td>\n",
       "      <td>0</td>\n",
       "      <td>1</td>\n",
       "      <td>5</td>\n",
       "      <td>Palmeiras</td>\n",
       "      <td>Criciuma</td>\n",
       "    </tr>\n",
       "    <tr>\n",
       "      <th>5</th>\n",
       "      <td>4833</td>\n",
       "      <td>22</td>\n",
       "      <td>Coritiba</td>\n",
       "      <td>9</td>\n",
       "      <td>0</td>\n",
       "      <td>43%</td>\n",
       "      <td>360</td>\n",
       "      <td>Sem Info</td>\n",
       "      <td>14</td>\n",
       "      <td>5</td>\n",
       "      <td>0</td>\n",
       "      <td>1</td>\n",
       "      <td>11</td>\n",
       "      <td>Coritiba</td>\n",
       "      <td>Sao Paulo</td>\n",
       "    </tr>\n",
       "  </tbody>\n",
       "</table>\n",
       "</div>"
      ],
      "text/plain": [
       "   partida_id  rodata        clube  chutes  chutes_no_alvo posse_de_bola  \\\n",
       "0        4741      13  Chapecoense      15               0           35%   \n",
       "3        4808      20    Palmeiras      10               0           44%   \n",
       "5        4833      22     Coritiba       9               0           43%   \n",
       "\n",
       "   passes precisao_passes  faltas  cartao_amarelo  cartao_vermelho  \\\n",
       "0     280        Sem Info      19               4                0   \n",
       "3     384        Sem Info      18               4                0   \n",
       "5     360        Sem Info      14               5                0   \n",
       "\n",
       "   impedimentos  escanteios     mandante  visitante  \n",
       "0             0           8  Chapecoense   Flamengo  \n",
       "3             1           5    Palmeiras   Criciuma  \n",
       "5             1          11     Coritiba  Sao Paulo  "
      ]
     },
     "execution_count": 154,
     "metadata": {},
     "output_type": "execute_result"
    }
   ],
   "source": [
    "mandante_stats.head(3)"
   ]
  },
  {
   "cell_type": "code",
   "execution_count": 155,
   "id": "a3483b2a-c588-4a39-8de1-922edb7bbe5a",
   "metadata": {},
   "outputs": [
    {
     "data": {
      "text/html": [
       "<div>\n",
       "<style scoped>\n",
       "    .dataframe tbody tr th:only-of-type {\n",
       "        vertical-align: middle;\n",
       "    }\n",
       "\n",
       "    .dataframe tbody tr th {\n",
       "        vertical-align: top;\n",
       "    }\n",
       "\n",
       "    .dataframe thead th {\n",
       "        text-align: right;\n",
       "    }\n",
       "</style>\n",
       "<table border=\"1\" class=\"dataframe\">\n",
       "  <thead>\n",
       "    <tr style=\"text-align: right;\">\n",
       "      <th></th>\n",
       "      <th>partida_id</th>\n",
       "      <th>rodata</th>\n",
       "      <th>clube</th>\n",
       "      <th>chutes</th>\n",
       "      <th>chutes_no_alvo</th>\n",
       "      <th>posse_de_bola</th>\n",
       "      <th>passes</th>\n",
       "      <th>precisao_passes</th>\n",
       "      <th>faltas</th>\n",
       "      <th>cartao_amarelo</th>\n",
       "      <th>cartao_vermelho</th>\n",
       "      <th>impedimentos</th>\n",
       "      <th>escanteios</th>\n",
       "      <th>mandante</th>\n",
       "      <th>visitante</th>\n",
       "    </tr>\n",
       "  </thead>\n",
       "  <tbody>\n",
       "    <tr>\n",
       "      <th>1</th>\n",
       "      <td>4741</td>\n",
       "      <td>13</td>\n",
       "      <td>Flamengo</td>\n",
       "      <td>9</td>\n",
       "      <td>0</td>\n",
       "      <td>65%</td>\n",
       "      <td>509</td>\n",
       "      <td>Sem Info</td>\n",
       "      <td>13</td>\n",
       "      <td>1</td>\n",
       "      <td>0</td>\n",
       "      <td>1</td>\n",
       "      <td>5</td>\n",
       "      <td>Chapecoense</td>\n",
       "      <td>Flamengo</td>\n",
       "    </tr>\n",
       "    <tr>\n",
       "      <th>2</th>\n",
       "      <td>4808</td>\n",
       "      <td>20</td>\n",
       "      <td>Criciuma</td>\n",
       "      <td>10</td>\n",
       "      <td>0</td>\n",
       "      <td>56%</td>\n",
       "      <td>471</td>\n",
       "      <td>Sem Info</td>\n",
       "      <td>17</td>\n",
       "      <td>3</td>\n",
       "      <td>0</td>\n",
       "      <td>1</td>\n",
       "      <td>6</td>\n",
       "      <td>Palmeiras</td>\n",
       "      <td>Criciuma</td>\n",
       "    </tr>\n",
       "    <tr>\n",
       "      <th>4</th>\n",
       "      <td>4833</td>\n",
       "      <td>22</td>\n",
       "      <td>Sao Paulo</td>\n",
       "      <td>5</td>\n",
       "      <td>0</td>\n",
       "      <td>57%</td>\n",
       "      <td>481</td>\n",
       "      <td>Sem Info</td>\n",
       "      <td>10</td>\n",
       "      <td>1</td>\n",
       "      <td>0</td>\n",
       "      <td>3</td>\n",
       "      <td>2</td>\n",
       "      <td>Coritiba</td>\n",
       "      <td>Sao Paulo</td>\n",
       "    </tr>\n",
       "  </tbody>\n",
       "</table>\n",
       "</div>"
      ],
      "text/plain": [
       "   partida_id  rodata      clube  chutes  chutes_no_alvo posse_de_bola  \\\n",
       "1        4741      13   Flamengo       9               0           65%   \n",
       "2        4808      20   Criciuma      10               0           56%   \n",
       "4        4833      22  Sao Paulo       5               0           57%   \n",
       "\n",
       "   passes precisao_passes  faltas  cartao_amarelo  cartao_vermelho  \\\n",
       "1     509        Sem Info      13               1                0   \n",
       "2     471        Sem Info      17               3                0   \n",
       "4     481        Sem Info      10               1                0   \n",
       "\n",
       "   impedimentos  escanteios     mandante  visitante  \n",
       "1             1           5  Chapecoense   Flamengo  \n",
       "2             1           6    Palmeiras   Criciuma  \n",
       "4             3           2     Coritiba  Sao Paulo  "
      ]
     },
     "execution_count": 155,
     "metadata": {},
     "output_type": "execute_result"
    }
   ],
   "source": [
    "visitante_stats.head(3)"
   ]
  },
  {
   "cell_type": "markdown",
   "id": "8da19da0-3f6b-4fbd-a771-22cdf71f0945",
   "metadata": {},
   "source": [
    "Para que na tabela final saibamos exatamente a qual time cada estatística pertence, adicionamos os prefixos mandante_ e visitante_ às colunas."
   ]
  },
  {
   "cell_type": "code",
   "execution_count": 156,
   "id": "62f157cf-662e-431d-8960-4fbfeceb1e47",
   "metadata": {},
   "outputs": [
    {
     "name": "stdout",
     "output_type": "stream",
     "text": [
      "Prefixos adicionados com sucesso!\n"
     ]
    },
    {
     "data": {
      "text/html": [
       "<div>\n",
       "<style scoped>\n",
       "    .dataframe tbody tr th:only-of-type {\n",
       "        vertical-align: middle;\n",
       "    }\n",
       "\n",
       "    .dataframe tbody tr th {\n",
       "        vertical-align: top;\n",
       "    }\n",
       "\n",
       "    .dataframe thead th {\n",
       "        text-align: right;\n",
       "    }\n",
       "</style>\n",
       "<table border=\"1\" class=\"dataframe\">\n",
       "  <thead>\n",
       "    <tr style=\"text-align: right;\">\n",
       "      <th></th>\n",
       "      <th>mandante_chutes</th>\n",
       "      <th>mandante_chutes_no_alvo</th>\n",
       "      <th>mandante_posse_de_bola</th>\n",
       "      <th>mandante_passes</th>\n",
       "      <th>mandante_precisao_passes</th>\n",
       "      <th>mandante_faltas</th>\n",
       "      <th>mandante_cartao_amarelo</th>\n",
       "      <th>mandante_cartao_vermelho</th>\n",
       "      <th>mandante_impedimentos</th>\n",
       "      <th>mandante_escanteios</th>\n",
       "      <th>partida_id</th>\n",
       "    </tr>\n",
       "  </thead>\n",
       "  <tbody>\n",
       "    <tr>\n",
       "      <th>0</th>\n",
       "      <td>15</td>\n",
       "      <td>0</td>\n",
       "      <td>35%</td>\n",
       "      <td>280</td>\n",
       "      <td>Sem Info</td>\n",
       "      <td>19</td>\n",
       "      <td>4</td>\n",
       "      <td>0</td>\n",
       "      <td>0</td>\n",
       "      <td>8</td>\n",
       "      <td>4741</td>\n",
       "    </tr>\n",
       "    <tr>\n",
       "      <th>3</th>\n",
       "      <td>10</td>\n",
       "      <td>0</td>\n",
       "      <td>44%</td>\n",
       "      <td>384</td>\n",
       "      <td>Sem Info</td>\n",
       "      <td>18</td>\n",
       "      <td>4</td>\n",
       "      <td>0</td>\n",
       "      <td>1</td>\n",
       "      <td>5</td>\n",
       "      <td>4808</td>\n",
       "    </tr>\n",
       "    <tr>\n",
       "      <th>5</th>\n",
       "      <td>9</td>\n",
       "      <td>0</td>\n",
       "      <td>43%</td>\n",
       "      <td>360</td>\n",
       "      <td>Sem Info</td>\n",
       "      <td>14</td>\n",
       "      <td>5</td>\n",
       "      <td>0</td>\n",
       "      <td>1</td>\n",
       "      <td>11</td>\n",
       "      <td>4833</td>\n",
       "    </tr>\n",
       "    <tr>\n",
       "      <th>7</th>\n",
       "      <td>15</td>\n",
       "      <td>0</td>\n",
       "      <td>42%</td>\n",
       "      <td>357</td>\n",
       "      <td>Sem Info</td>\n",
       "      <td>20</td>\n",
       "      <td>2</td>\n",
       "      <td>0</td>\n",
       "      <td>1</td>\n",
       "      <td>9</td>\n",
       "      <td>4846</td>\n",
       "    </tr>\n",
       "    <tr>\n",
       "      <th>8</th>\n",
       "      <td>15</td>\n",
       "      <td>0</td>\n",
       "      <td>52%</td>\n",
       "      <td>394</td>\n",
       "      <td>Sem Info</td>\n",
       "      <td>16</td>\n",
       "      <td>3</td>\n",
       "      <td>0</td>\n",
       "      <td>5</td>\n",
       "      <td>2</td>\n",
       "      <td>4856</td>\n",
       "    </tr>\n",
       "    <tr>\n",
       "      <th>...</th>\n",
       "      <td>...</td>\n",
       "      <td>...</td>\n",
       "      <td>...</td>\n",
       "      <td>...</td>\n",
       "      <td>...</td>\n",
       "      <td>...</td>\n",
       "      <td>...</td>\n",
       "      <td>...</td>\n",
       "      <td>...</td>\n",
       "      <td>...</td>\n",
       "      <td>...</td>\n",
       "    </tr>\n",
       "    <tr>\n",
       "      <th>590</th>\n",
       "      <td>17</td>\n",
       "      <td>0</td>\n",
       "      <td>44%</td>\n",
       "      <td>363</td>\n",
       "      <td>Sem Info</td>\n",
       "      <td>14</td>\n",
       "      <td>4</td>\n",
       "      <td>0</td>\n",
       "      <td>0</td>\n",
       "      <td>8</td>\n",
       "      <td>5305</td>\n",
       "    </tr>\n",
       "    <tr>\n",
       "      <th>592</th>\n",
       "      <td>17</td>\n",
       "      <td>0</td>\n",
       "      <td>59%</td>\n",
       "      <td>552</td>\n",
       "      <td>Sem Info</td>\n",
       "      <td>15</td>\n",
       "      <td>2</td>\n",
       "      <td>0</td>\n",
       "      <td>0</td>\n",
       "      <td>6</td>\n",
       "      <td>5306</td>\n",
       "    </tr>\n",
       "    <tr>\n",
       "      <th>595</th>\n",
       "      <td>16</td>\n",
       "      <td>0</td>\n",
       "      <td>57%</td>\n",
       "      <td>541</td>\n",
       "      <td>Sem Info</td>\n",
       "      <td>10</td>\n",
       "      <td>1</td>\n",
       "      <td>0</td>\n",
       "      <td>3</td>\n",
       "      <td>4</td>\n",
       "      <td>5307</td>\n",
       "    </tr>\n",
       "    <tr>\n",
       "      <th>596</th>\n",
       "      <td>10</td>\n",
       "      <td>0</td>\n",
       "      <td>51%</td>\n",
       "      <td>315</td>\n",
       "      <td>Sem Info</td>\n",
       "      <td>16</td>\n",
       "      <td>3</td>\n",
       "      <td>0</td>\n",
       "      <td>1</td>\n",
       "      <td>4</td>\n",
       "      <td>5308</td>\n",
       "    </tr>\n",
       "    <tr>\n",
       "      <th>598</th>\n",
       "      <td>2</td>\n",
       "      <td>0</td>\n",
       "      <td>51%</td>\n",
       "      <td>354</td>\n",
       "      <td>Sem Info</td>\n",
       "      <td>20</td>\n",
       "      <td>3</td>\n",
       "      <td>0</td>\n",
       "      <td>2</td>\n",
       "      <td>7</td>\n",
       "      <td>5309</td>\n",
       "    </tr>\n",
       "  </tbody>\n",
       "</table>\n",
       "<p>300 rows × 11 columns</p>\n",
       "</div>"
      ],
      "text/plain": [
       "     mandante_chutes  mandante_chutes_no_alvo mandante_posse_de_bola  \\\n",
       "0                 15                        0                    35%   \n",
       "3                 10                        0                    44%   \n",
       "5                  9                        0                    43%   \n",
       "7                 15                        0                    42%   \n",
       "8                 15                        0                    52%   \n",
       "..               ...                      ...                    ...   \n",
       "590               17                        0                    44%   \n",
       "592               17                        0                    59%   \n",
       "595               16                        0                    57%   \n",
       "596               10                        0                    51%   \n",
       "598                2                        0                    51%   \n",
       "\n",
       "     mandante_passes mandante_precisao_passes  mandante_faltas  \\\n",
       "0                280                 Sem Info               19   \n",
       "3                384                 Sem Info               18   \n",
       "5                360                 Sem Info               14   \n",
       "7                357                 Sem Info               20   \n",
       "8                394                 Sem Info               16   \n",
       "..               ...                      ...              ...   \n",
       "590              363                 Sem Info               14   \n",
       "592              552                 Sem Info               15   \n",
       "595              541                 Sem Info               10   \n",
       "596              315                 Sem Info               16   \n",
       "598              354                 Sem Info               20   \n",
       "\n",
       "     mandante_cartao_amarelo  mandante_cartao_vermelho  mandante_impedimentos  \\\n",
       "0                          4                         0                      0   \n",
       "3                          4                         0                      1   \n",
       "5                          5                         0                      1   \n",
       "7                          2                         0                      1   \n",
       "8                          3                         0                      5   \n",
       "..                       ...                       ...                    ...   \n",
       "590                        4                         0                      0   \n",
       "592                        2                         0                      0   \n",
       "595                        1                         0                      3   \n",
       "596                        3                         0                      1   \n",
       "598                        3                         0                      2   \n",
       "\n",
       "     mandante_escanteios  partida_id  \n",
       "0                      8        4741  \n",
       "3                      5        4808  \n",
       "5                     11        4833  \n",
       "7                      9        4846  \n",
       "8                      2        4856  \n",
       "..                   ...         ...  \n",
       "590                    8        5305  \n",
       "592                    6        5306  \n",
       "595                    4        5307  \n",
       "596                    4        5308  \n",
       "598                    7        5309  \n",
       "\n",
       "[300 rows x 11 columns]"
      ]
     },
     "metadata": {},
     "output_type": "display_data"
    }
   ],
   "source": [
    "# Adicionando prefixos\n",
    "colunas_stats = [\n",
    "    'chutes', 'chutes_no_alvo', 'posse_de_bola', 'passes', 'precisao_passes',\n",
    "    'faltas', 'cartao_amarelo', 'cartao_vermelho', 'impedimentos', 'escanteios'\n",
    "]\n",
    "\n",
    "# Prefixando e selecionando colunas para a tabela de mandantes\n",
    "mandante_stats_renamed = mandante_stats[colunas_stats].add_prefix('mandante_')\n",
    "mandante_stats_renamed['partida_id'] = mandante_stats['partida_id']\n",
    "\n",
    "# Prefixando e selecionando colunas para a tabela de visitantes\n",
    "visitante_stats_renamed = visitante_stats[colunas_stats].add_prefix('visitante_')\n",
    "visitante_stats_renamed['partida_id'] = visitante_stats['partida_id']\n",
    "\n",
    "print(\"Prefixos adicionados com sucesso!\")\n",
    "display(mandante_stats_renamed.head(300))"
   ]
  },
  {
   "cell_type": "code",
   "execution_count": 157,
   "id": "9fd7f9cf-2203-4729-bcb7-12ee91bb1487",
   "metadata": {},
   "outputs": [
    {
     "name": "stdout",
     "output_type": "stream",
     "text": [
      "Tabela Mestra final criada com sucesso!\n",
      "Dimensões da tabela final: (3059, 34)\n"
     ]
    }
   ],
   "source": [
    "df_stats_unificado = pd.merge(mandante_stats_renamed, visitante_stats_renamed, on='partida_id')\n",
    "\n",
    "# Célula 11: Junção final com a tabela principal\n",
    "df_final_partidas = pd.merge(df_full_cleaned, df_stats_unificado, on='partida_id')\n",
    "\n",
    "print(\"Tabela Mestra final criada com sucesso!\")\n",
    "print(f\"Dimensões da tabela final: {df_final_partidas.shape}\")"
   ]
  },
  {
   "cell_type": "code",
   "execution_count": 158,
   "id": "fbe63aa8-121b-4327-871e-c1446a736611",
   "metadata": {},
   "outputs": [
    {
     "data": {
      "text/html": [
       "<div>\n",
       "<style scoped>\n",
       "    .dataframe tbody tr th:only-of-type {\n",
       "        vertical-align: middle;\n",
       "    }\n",
       "\n",
       "    .dataframe tbody tr th {\n",
       "        vertical-align: top;\n",
       "    }\n",
       "\n",
       "    .dataframe thead th {\n",
       "        text-align: right;\n",
       "    }\n",
       "</style>\n",
       "<table border=\"1\" class=\"dataframe\">\n",
       "  <thead>\n",
       "    <tr style=\"text-align: right;\">\n",
       "      <th></th>\n",
       "      <th>partida_id</th>\n",
       "      <th>rodata</th>\n",
       "      <th>data</th>\n",
       "      <th>hora</th>\n",
       "      <th>mandante</th>\n",
       "      <th>visitante</th>\n",
       "      <th>tecnico_mandante</th>\n",
       "      <th>tecnico_visitante</th>\n",
       "      <th>vencedor</th>\n",
       "      <th>arena</th>\n",
       "      <th>...</th>\n",
       "      <th>visitante_chutes</th>\n",
       "      <th>visitante_chutes_no_alvo</th>\n",
       "      <th>visitante_posse_de_bola</th>\n",
       "      <th>visitante_passes</th>\n",
       "      <th>visitante_precisao_passes</th>\n",
       "      <th>visitante_faltas</th>\n",
       "      <th>visitante_cartao_amarelo</th>\n",
       "      <th>visitante_cartao_vermelho</th>\n",
       "      <th>visitante_impedimentos</th>\n",
       "      <th>visitante_escanteios</th>\n",
       "    </tr>\n",
       "  </thead>\n",
       "  <tbody>\n",
       "    <tr>\n",
       "      <th>0</th>\n",
       "      <td>4741</td>\n",
       "      <td>13</td>\n",
       "      <td>2014-08-03</td>\n",
       "      <td>16:00:00</td>\n",
       "      <td>Chapecoense</td>\n",
       "      <td>Flamengo</td>\n",
       "      <td>C. Rodrigues</td>\n",
       "      <td>V. Luxemburgo da Silva</td>\n",
       "      <td>Chapecoense</td>\n",
       "      <td>Arena Condá</td>\n",
       "      <td>...</td>\n",
       "      <td>9</td>\n",
       "      <td>0</td>\n",
       "      <td>65%</td>\n",
       "      <td>509</td>\n",
       "      <td>Sem Info</td>\n",
       "      <td>13</td>\n",
       "      <td>1</td>\n",
       "      <td>0</td>\n",
       "      <td>1</td>\n",
       "      <td>5</td>\n",
       "    </tr>\n",
       "    <tr>\n",
       "      <th>1</th>\n",
       "      <td>4808</td>\n",
       "      <td>20</td>\n",
       "      <td>2014-09-10</td>\n",
       "      <td>19:30:00</td>\n",
       "      <td>Palmeiras</td>\n",
       "      <td>Criciuma</td>\n",
       "      <td>D. Silvestre Júnior</td>\n",
       "      <td>G. Dal Pozzo</td>\n",
       "      <td>Palmeiras</td>\n",
       "      <td>Estádio Municipal Paulo Machado de Carvalho</td>\n",
       "      <td>...</td>\n",
       "      <td>10</td>\n",
       "      <td>0</td>\n",
       "      <td>56%</td>\n",
       "      <td>471</td>\n",
       "      <td>Sem Info</td>\n",
       "      <td>17</td>\n",
       "      <td>3</td>\n",
       "      <td>0</td>\n",
       "      <td>1</td>\n",
       "      <td>6</td>\n",
       "    </tr>\n",
       "    <tr>\n",
       "      <th>2</th>\n",
       "      <td>4833</td>\n",
       "      <td>22</td>\n",
       "      <td>2014-09-17</td>\n",
       "      <td>22:00:00</td>\n",
       "      <td>Coritiba</td>\n",
       "      <td>Sao Paulo</td>\n",
       "      <td>M. dos Santos Gonçalves</td>\n",
       "      <td>M. Ramalho</td>\n",
       "      <td>Coritiba</td>\n",
       "      <td>Couto Pereira</td>\n",
       "      <td>...</td>\n",
       "      <td>5</td>\n",
       "      <td>0</td>\n",
       "      <td>57%</td>\n",
       "      <td>481</td>\n",
       "      <td>Sem Info</td>\n",
       "      <td>10</td>\n",
       "      <td>1</td>\n",
       "      <td>0</td>\n",
       "      <td>3</td>\n",
       "      <td>2</td>\n",
       "    </tr>\n",
       "    <tr>\n",
       "      <th>3</th>\n",
       "      <td>4846</td>\n",
       "      <td>23</td>\n",
       "      <td>2014-09-21</td>\n",
       "      <td>18:30:00</td>\n",
       "      <td>Gremio</td>\n",
       "      <td>Chapecoense</td>\n",
       "      <td>L. Scolari</td>\n",
       "      <td>J. da Silva</td>\n",
       "      <td>Gremio</td>\n",
       "      <td>Arena do Grêmio</td>\n",
       "      <td>...</td>\n",
       "      <td>14</td>\n",
       "      <td>0</td>\n",
       "      <td>58%</td>\n",
       "      <td>477</td>\n",
       "      <td>Sem Info</td>\n",
       "      <td>14</td>\n",
       "      <td>4</td>\n",
       "      <td>0</td>\n",
       "      <td>2</td>\n",
       "      <td>4</td>\n",
       "    </tr>\n",
       "    <tr>\n",
       "      <th>4</th>\n",
       "      <td>4856</td>\n",
       "      <td>24</td>\n",
       "      <td>2014-09-25</td>\n",
       "      <td>20:29:00</td>\n",
       "      <td>Atletico-MG</td>\n",
       "      <td>Santos</td>\n",
       "      <td>L. Culpi</td>\n",
       "      <td>E. Alves Moreira</td>\n",
       "      <td>Atletico-MG</td>\n",
       "      <td>Estádio Raimundo Sampaio</td>\n",
       "      <td>...</td>\n",
       "      <td>13</td>\n",
       "      <td>0</td>\n",
       "      <td>48%</td>\n",
       "      <td>355</td>\n",
       "      <td>Sem Info</td>\n",
       "      <td>18</td>\n",
       "      <td>3</td>\n",
       "      <td>0</td>\n",
       "      <td>6</td>\n",
       "      <td>10</td>\n",
       "    </tr>\n",
       "  </tbody>\n",
       "</table>\n",
       "<p>5 rows × 34 columns</p>\n",
       "</div>"
      ],
      "text/plain": [
       "   partida_id  rodata       data      hora     mandante    visitante  \\\n",
       "0        4741      13 2014-08-03  16:00:00  Chapecoense     Flamengo   \n",
       "1        4808      20 2014-09-10  19:30:00    Palmeiras     Criciuma   \n",
       "2        4833      22 2014-09-17  22:00:00     Coritiba    Sao Paulo   \n",
       "3        4846      23 2014-09-21  18:30:00       Gremio  Chapecoense   \n",
       "4        4856      24 2014-09-25  20:29:00  Atletico-MG       Santos   \n",
       "\n",
       "          tecnico_mandante       tecnico_visitante     vencedor  \\\n",
       "0             C. Rodrigues  V. Luxemburgo da Silva  Chapecoense   \n",
       "1      D. Silvestre Júnior            G. Dal Pozzo    Palmeiras   \n",
       "2  M. dos Santos Gonçalves              M. Ramalho     Coritiba   \n",
       "3               L. Scolari             J. da Silva       Gremio   \n",
       "4                 L. Culpi        E. Alves Moreira  Atletico-MG   \n",
       "\n",
       "                                         arena  ...  visitante_chutes  \\\n",
       "0                                  Arena Condá  ...                 9   \n",
       "1  Estádio Municipal Paulo Machado de Carvalho  ...                10   \n",
       "2                                Couto Pereira  ...                 5   \n",
       "3                              Arena do Grêmio  ...                14   \n",
       "4                     Estádio Raimundo Sampaio  ...                13   \n",
       "\n",
       "   visitante_chutes_no_alvo visitante_posse_de_bola visitante_passes  \\\n",
       "0                         0                     65%              509   \n",
       "1                         0                     56%              471   \n",
       "2                         0                     57%              481   \n",
       "3                         0                     58%              477   \n",
       "4                         0                     48%              355   \n",
       "\n",
       "   visitante_precisao_passes  visitante_faltas visitante_cartao_amarelo  \\\n",
       "0                   Sem Info                13                        1   \n",
       "1                   Sem Info                17                        3   \n",
       "2                   Sem Info                10                        1   \n",
       "3                   Sem Info                14                        4   \n",
       "4                   Sem Info                18                        3   \n",
       "\n",
       "   visitante_cartao_vermelho visitante_impedimentos  visitante_escanteios  \n",
       "0                          0                      1                     5  \n",
       "1                          0                      1                     6  \n",
       "2                          0                      3                     2  \n",
       "3                          0                      2                     4  \n",
       "4                          0                      6                    10  \n",
       "\n",
       "[5 rows x 34 columns]"
      ]
     },
     "metadata": {},
     "output_type": "display_data"
    }
   ],
   "source": [
    "display(df_final_partidas.head())"
   ]
  },
  {
   "cell_type": "markdown",
   "id": "395f5d1e",
   "metadata": {},
   "source": [
    "### Salvando Tabela Mestra"
   ]
  },
  {
   "cell_type": "code",
   "execution_count": 159,
   "id": "c3029cbf",
   "metadata": {},
   "outputs": [
    {
     "name": "stdout",
     "output_type": "stream",
     "text": [
      "Arquivo 'partidas_com_estatisticas_completas.csv' salvo com sucesso!\n"
     ]
    }
   ],
   "source": [
    "# Salvando a tabela final em um novo arquivo\n",
    "df_final_partidas.to_csv('Brasileirao_Dataset/partidas_com_estatisticas_completas.csv', index=False)\n",
    "\n",
    "print(\"Arquivo 'partidas_com_estatisticas_completas.csv' salvo com sucesso!\")"
   ]
  },
  {
   "cell_type": "markdown",
   "id": "897b6ee3",
   "metadata": {},
   "source": [
    "## Parte 3: Análise de Fatores de Sucesso no Jogo\n",
    "\n",
    "Objetivo: Utilizar a base de dados unificada para entender quais fatores de performance estão mais correlacionados com os resultados das partidas, respondendo a perguntas específicas da equipe técnica e buscando novos insights."
   ]
  },
  {
   "cell_type": "code",
   "execution_count": 160,
   "id": "d20b5b79",
   "metadata": {},
   "outputs": [],
   "source": [
    "import numpy as np\n",
    "import plotly.express as px\n",
    "import plotly.io as pio\n",
    "\n",
    "# Definindo um tema padrão mais limpo para os gráficos Plotly\n",
    "pio.templates.default = \"plotly_white\""
   ]
  },
  {
   "cell_type": "code",
   "execution_count": 161,
   "id": "de14fb9d",
   "metadata": {},
   "outputs": [
    {
     "name": "stdout",
     "output_type": "stream",
     "text": [
      "Tabela mestra 'partidas_com_estatisticas_completas.csv' carregada com sucesso!\n",
      "A tabela contém 3059 partidas e 34 colunas.\n"
     ]
    },
    {
     "data": {
      "text/html": [
       "<div>\n",
       "<style scoped>\n",
       "    .dataframe tbody tr th:only-of-type {\n",
       "        vertical-align: middle;\n",
       "    }\n",
       "\n",
       "    .dataframe tbody tr th {\n",
       "        vertical-align: top;\n",
       "    }\n",
       "\n",
       "    .dataframe thead th {\n",
       "        text-align: right;\n",
       "    }\n",
       "</style>\n",
       "<table border=\"1\" class=\"dataframe\">\n",
       "  <thead>\n",
       "    <tr style=\"text-align: right;\">\n",
       "      <th></th>\n",
       "      <th>partida_id</th>\n",
       "      <th>rodata</th>\n",
       "      <th>data</th>\n",
       "      <th>hora</th>\n",
       "      <th>mandante</th>\n",
       "      <th>visitante</th>\n",
       "      <th>tecnico_mandante</th>\n",
       "      <th>tecnico_visitante</th>\n",
       "      <th>vencedor</th>\n",
       "      <th>arena</th>\n",
       "      <th>...</th>\n",
       "      <th>visitante_chutes</th>\n",
       "      <th>visitante_chutes_no_alvo</th>\n",
       "      <th>visitante_posse_de_bola</th>\n",
       "      <th>visitante_passes</th>\n",
       "      <th>visitante_precisao_passes</th>\n",
       "      <th>visitante_faltas</th>\n",
       "      <th>visitante_cartao_amarelo</th>\n",
       "      <th>visitante_cartao_vermelho</th>\n",
       "      <th>visitante_impedimentos</th>\n",
       "      <th>visitante_escanteios</th>\n",
       "    </tr>\n",
       "  </thead>\n",
       "  <tbody>\n",
       "    <tr>\n",
       "      <th>0</th>\n",
       "      <td>4741</td>\n",
       "      <td>13</td>\n",
       "      <td>2014-08-03</td>\n",
       "      <td>16:00:00</td>\n",
       "      <td>Chapecoense</td>\n",
       "      <td>Flamengo</td>\n",
       "      <td>C. Rodrigues</td>\n",
       "      <td>V. Luxemburgo da Silva</td>\n",
       "      <td>Chapecoense</td>\n",
       "      <td>Arena Condá</td>\n",
       "      <td>...</td>\n",
       "      <td>9</td>\n",
       "      <td>0</td>\n",
       "      <td>65%</td>\n",
       "      <td>509</td>\n",
       "      <td>Sem Info</td>\n",
       "      <td>13</td>\n",
       "      <td>1</td>\n",
       "      <td>0</td>\n",
       "      <td>1</td>\n",
       "      <td>5</td>\n",
       "    </tr>\n",
       "    <tr>\n",
       "      <th>1</th>\n",
       "      <td>4808</td>\n",
       "      <td>20</td>\n",
       "      <td>2014-09-10</td>\n",
       "      <td>19:30:00</td>\n",
       "      <td>Palmeiras</td>\n",
       "      <td>Criciuma</td>\n",
       "      <td>D. Silvestre Júnior</td>\n",
       "      <td>G. Dal Pozzo</td>\n",
       "      <td>Palmeiras</td>\n",
       "      <td>Estádio Municipal Paulo Machado de Carvalho</td>\n",
       "      <td>...</td>\n",
       "      <td>10</td>\n",
       "      <td>0</td>\n",
       "      <td>56%</td>\n",
       "      <td>471</td>\n",
       "      <td>Sem Info</td>\n",
       "      <td>17</td>\n",
       "      <td>3</td>\n",
       "      <td>0</td>\n",
       "      <td>1</td>\n",
       "      <td>6</td>\n",
       "    </tr>\n",
       "    <tr>\n",
       "      <th>2</th>\n",
       "      <td>4833</td>\n",
       "      <td>22</td>\n",
       "      <td>2014-09-17</td>\n",
       "      <td>22:00:00</td>\n",
       "      <td>Coritiba</td>\n",
       "      <td>Sao Paulo</td>\n",
       "      <td>M. dos Santos Gonçalves</td>\n",
       "      <td>M. Ramalho</td>\n",
       "      <td>Coritiba</td>\n",
       "      <td>Couto Pereira</td>\n",
       "      <td>...</td>\n",
       "      <td>5</td>\n",
       "      <td>0</td>\n",
       "      <td>57%</td>\n",
       "      <td>481</td>\n",
       "      <td>Sem Info</td>\n",
       "      <td>10</td>\n",
       "      <td>1</td>\n",
       "      <td>0</td>\n",
       "      <td>3</td>\n",
       "      <td>2</td>\n",
       "    </tr>\n",
       "  </tbody>\n",
       "</table>\n",
       "<p>3 rows × 34 columns</p>\n",
       "</div>"
      ],
      "text/plain": [
       "   partida_id  rodata        data      hora     mandante  visitante  \\\n",
       "0        4741      13  2014-08-03  16:00:00  Chapecoense   Flamengo   \n",
       "1        4808      20  2014-09-10  19:30:00    Palmeiras   Criciuma   \n",
       "2        4833      22  2014-09-17  22:00:00     Coritiba  Sao Paulo   \n",
       "\n",
       "          tecnico_mandante       tecnico_visitante     vencedor  \\\n",
       "0             C. Rodrigues  V. Luxemburgo da Silva  Chapecoense   \n",
       "1      D. Silvestre Júnior            G. Dal Pozzo    Palmeiras   \n",
       "2  M. dos Santos Gonçalves              M. Ramalho     Coritiba   \n",
       "\n",
       "                                         arena  ...  visitante_chutes  \\\n",
       "0                                  Arena Condá  ...                 9   \n",
       "1  Estádio Municipal Paulo Machado de Carvalho  ...                10   \n",
       "2                                Couto Pereira  ...                 5   \n",
       "\n",
       "   visitante_chutes_no_alvo visitante_posse_de_bola visitante_passes  \\\n",
       "0                         0                     65%              509   \n",
       "1                         0                     56%              471   \n",
       "2                         0                     57%              481   \n",
       "\n",
       "   visitante_precisao_passes  visitante_faltas visitante_cartao_amarelo  \\\n",
       "0                   Sem Info                13                        1   \n",
       "1                   Sem Info                17                        3   \n",
       "2                   Sem Info                10                        1   \n",
       "\n",
       "   visitante_cartao_vermelho visitante_impedimentos  visitante_escanteios  \n",
       "0                          0                      1                     5  \n",
       "1                          0                      1                     6  \n",
       "2                          0                      3                     2  \n",
       "\n",
       "[3 rows x 34 columns]"
      ]
     },
     "execution_count": 161,
     "metadata": {},
     "output_type": "execute_result"
    }
   ],
   "source": [
    "# Carregando a tabela mestra que preparamos\n",
    "try:\n",
    "    df_analise = pd.read_csv('Brasileirao_Dataset/partidas_com_estatisticas_completas.csv')\n",
    "    print(\"Tabela mestra 'partidas_com_estatisticas_completas.csv' carregada com sucesso!\")\n",
    "    print(f\"A tabela contém {df_analise.shape[0]} partidas e {df_analise.shape[1]} colunas.\")\n",
    "except FileNotFoundError:\n",
    "    print(\"Erro: O arquivo 'partidas_com_estatisticas_completas.csv' não foi encontrado.\")\n",
    "    print(\"Por favor, certifique-se de que o notebook da Parte 1 e 2 foi executado com sucesso.\")\n",
    "# Verificando as primeiras linhas da tabela mestra\n",
    "df_analise.head(3)"
   ]
  },
  {
   "cell_type": "markdown",
   "id": "22cb5603",
   "metadata": {},
   "source": [
    "### Preparação para Análise: Criando a Coluna de Resultado\n",
    "\n",
    "Para todas as nossas análises, é fundamental termos uma coluna que classifique o resultado da partida do ponto de vista do time da casa. Vamos criar a coluna resultado com os valores: 'Vitória', 'Empate' ou 'Derrota'."
   ]
  },
  {
   "cell_type": "code",
   "execution_count": 162,
   "id": "32d6df88",
   "metadata": {},
   "outputs": [
    {
     "name": "stdout",
     "output_type": "stream",
     "text": [
      "Coluna 'resultado' criada com sucesso.\n",
      "resultado\n",
      "Vitória    1618\n",
      "Derrota     833\n",
      "Empate      608\n",
      "Name: count, dtype: int64\n"
     ]
    }
   ],
   "source": [
    "# Passo 1: Limpando os nomes das colunas (boa prática para evitar erros)\n",
    "df_analise.columns = df_analise.columns.str.lower().str.strip()\n",
    "\n",
    "# Passo 2: Criar a coluna 'resultado' para o time mandante\n",
    "# Primeiro, garantimos que a coluna 'vencedor' não tenha espaços em branco extras\n",
    "df_analise['vencedor'] = df_analise['vencedor'].str.strip()\n",
    "df_analise['mandante'] = df_analise['mandante'].str.strip()\n",
    "\n",
    "# Criamos a coluna 'resultado' com base na coluna 'vencedor'\n",
    "conditions = [\n",
    "    df_analise['vencedor'] == df_analise['mandante'],\n",
    "    df_analise['vencedor'] == '-'\n",
    "]\n",
    "choices = ['Vitória', 'Empate']\n",
    "df_analise['resultado'] = np.select(conditions, choices, default='Derrota')\n",
    "\n",
    "print(\"Coluna 'resultado' criada com sucesso.\")\n",
    "print(df_analise['resultado'].value_counts())"
   ]
  },
  {
   "cell_type": "code",
   "execution_count": 163,
   "id": "4e475877",
   "metadata": {},
   "outputs": [
    {
     "data": {
      "text/plain": [
       "3059"
      ]
     },
     "execution_count": 163,
     "metadata": {},
     "output_type": "execute_result"
    }
   ],
   "source": [
    "total_partidas = 1618 + 833 + 608\n",
    "total_partidas"
   ]
  },
  {
   "cell_type": "code",
   "execution_count": 164,
   "id": "8f448ecc",
   "metadata": {},
   "outputs": [
    {
     "data": {
      "text/plain": [
       "partida_id                    int64\n",
       "rodata                        int64\n",
       "data                         object\n",
       "hora                         object\n",
       "mandante                     object\n",
       "visitante                    object\n",
       "tecnico_mandante             object\n",
       "tecnico_visitante            object\n",
       "vencedor                     object\n",
       "arena                        object\n",
       "mandante_placar               int64\n",
       "visitante_placar              int64\n",
       "mandante_estado              object\n",
       "visitante_estado             object\n",
       "mandante_chutes               int64\n",
       "mandante_chutes_no_alvo       int64\n",
       "mandante_posse_de_bola       object\n",
       "mandante_passes               int64\n",
       "mandante_precisao_passes     object\n",
       "mandante_faltas               int64\n",
       "mandante_cartao_amarelo       int64\n",
       "mandante_cartao_vermelho      int64\n",
       "mandante_impedimentos         int64\n",
       "mandante_escanteios           int64\n",
       "visitante_chutes              int64\n",
       "visitante_chutes_no_alvo      int64\n",
       "visitante_posse_de_bola      object\n",
       "visitante_passes              int64\n",
       "visitante_precisao_passes    object\n",
       "visitante_faltas              int64\n",
       "visitante_cartao_amarelo      int64\n",
       "visitante_cartao_vermelho     int64\n",
       "visitante_impedimentos        int64\n",
       "visitante_escanteios          int64\n",
       "resultado                    object\n",
       "dtype: object"
      ]
     },
     "execution_count": 164,
     "metadata": {},
     "output_type": "execute_result"
    }
   ],
   "source": [
    "df_analise.dtypes"
   ]
  },
  {
   "cell_type": "code",
   "execution_count": 165,
   "id": "9bfc10c9",
   "metadata": {},
   "outputs": [
    {
     "data": {
      "text/html": [
       "<div>\n",
       "<style scoped>\n",
       "    .dataframe tbody tr th:only-of-type {\n",
       "        vertical-align: middle;\n",
       "    }\n",
       "\n",
       "    .dataframe tbody tr th {\n",
       "        vertical-align: top;\n",
       "    }\n",
       "\n",
       "    .dataframe thead th {\n",
       "        text-align: right;\n",
       "    }\n",
       "</style>\n",
       "<table border=\"1\" class=\"dataframe\">\n",
       "  <thead>\n",
       "    <tr style=\"text-align: right;\">\n",
       "      <th></th>\n",
       "      <th>partida_id</th>\n",
       "      <th>rodata</th>\n",
       "      <th>data</th>\n",
       "      <th>hora</th>\n",
       "      <th>mandante</th>\n",
       "      <th>visitante</th>\n",
       "      <th>tecnico_mandante</th>\n",
       "      <th>tecnico_visitante</th>\n",
       "      <th>vencedor</th>\n",
       "      <th>arena</th>\n",
       "      <th>...</th>\n",
       "      <th>visitante_chutes_no_alvo</th>\n",
       "      <th>visitante_posse_de_bola</th>\n",
       "      <th>visitante_passes</th>\n",
       "      <th>visitante_precisao_passes</th>\n",
       "      <th>visitante_faltas</th>\n",
       "      <th>visitante_cartao_amarelo</th>\n",
       "      <th>visitante_cartao_vermelho</th>\n",
       "      <th>visitante_impedimentos</th>\n",
       "      <th>visitante_escanteios</th>\n",
       "      <th>resultado</th>\n",
       "    </tr>\n",
       "  </thead>\n",
       "  <tbody>\n",
       "    <tr>\n",
       "      <th>0</th>\n",
       "      <td>4741</td>\n",
       "      <td>13</td>\n",
       "      <td>2014-08-03</td>\n",
       "      <td>16:00:00</td>\n",
       "      <td>Chapecoense</td>\n",
       "      <td>Flamengo</td>\n",
       "      <td>C. Rodrigues</td>\n",
       "      <td>V. Luxemburgo da Silva</td>\n",
       "      <td>Chapecoense</td>\n",
       "      <td>Arena Condá</td>\n",
       "      <td>...</td>\n",
       "      <td>0</td>\n",
       "      <td>65%</td>\n",
       "      <td>509</td>\n",
       "      <td>Sem Info</td>\n",
       "      <td>13</td>\n",
       "      <td>1</td>\n",
       "      <td>0</td>\n",
       "      <td>1</td>\n",
       "      <td>5</td>\n",
       "      <td>Vitória</td>\n",
       "    </tr>\n",
       "    <tr>\n",
       "      <th>1</th>\n",
       "      <td>4808</td>\n",
       "      <td>20</td>\n",
       "      <td>2014-09-10</td>\n",
       "      <td>19:30:00</td>\n",
       "      <td>Palmeiras</td>\n",
       "      <td>Criciuma</td>\n",
       "      <td>D. Silvestre Júnior</td>\n",
       "      <td>G. Dal Pozzo</td>\n",
       "      <td>Palmeiras</td>\n",
       "      <td>Estádio Municipal Paulo Machado de Carvalho</td>\n",
       "      <td>...</td>\n",
       "      <td>0</td>\n",
       "      <td>56%</td>\n",
       "      <td>471</td>\n",
       "      <td>Sem Info</td>\n",
       "      <td>17</td>\n",
       "      <td>3</td>\n",
       "      <td>0</td>\n",
       "      <td>1</td>\n",
       "      <td>6</td>\n",
       "      <td>Vitória</td>\n",
       "    </tr>\n",
       "    <tr>\n",
       "      <th>2</th>\n",
       "      <td>4833</td>\n",
       "      <td>22</td>\n",
       "      <td>2014-09-17</td>\n",
       "      <td>22:00:00</td>\n",
       "      <td>Coritiba</td>\n",
       "      <td>Sao Paulo</td>\n",
       "      <td>M. dos Santos Gonçalves</td>\n",
       "      <td>M. Ramalho</td>\n",
       "      <td>Coritiba</td>\n",
       "      <td>Couto Pereira</td>\n",
       "      <td>...</td>\n",
       "      <td>0</td>\n",
       "      <td>57%</td>\n",
       "      <td>481</td>\n",
       "      <td>Sem Info</td>\n",
       "      <td>10</td>\n",
       "      <td>1</td>\n",
       "      <td>0</td>\n",
       "      <td>3</td>\n",
       "      <td>2</td>\n",
       "      <td>Vitória</td>\n",
       "    </tr>\n",
       "  </tbody>\n",
       "</table>\n",
       "<p>3 rows × 35 columns</p>\n",
       "</div>"
      ],
      "text/plain": [
       "   partida_id  rodata        data      hora     mandante  visitante  \\\n",
       "0        4741      13  2014-08-03  16:00:00  Chapecoense   Flamengo   \n",
       "1        4808      20  2014-09-10  19:30:00    Palmeiras   Criciuma   \n",
       "2        4833      22  2014-09-17  22:00:00     Coritiba  Sao Paulo   \n",
       "\n",
       "          tecnico_mandante       tecnico_visitante     vencedor  \\\n",
       "0             C. Rodrigues  V. Luxemburgo da Silva  Chapecoense   \n",
       "1      D. Silvestre Júnior            G. Dal Pozzo    Palmeiras   \n",
       "2  M. dos Santos Gonçalves              M. Ramalho     Coritiba   \n",
       "\n",
       "                                         arena  ...  visitante_chutes_no_alvo  \\\n",
       "0                                  Arena Condá  ...                         0   \n",
       "1  Estádio Municipal Paulo Machado de Carvalho  ...                         0   \n",
       "2                                Couto Pereira  ...                         0   \n",
       "\n",
       "   visitante_posse_de_bola visitante_passes visitante_precisao_passes  \\\n",
       "0                      65%              509                  Sem Info   \n",
       "1                      56%              471                  Sem Info   \n",
       "2                      57%              481                  Sem Info   \n",
       "\n",
       "   visitante_faltas  visitante_cartao_amarelo visitante_cartao_vermelho  \\\n",
       "0                13                         1                         0   \n",
       "1                17                         3                         0   \n",
       "2                10                         1                         0   \n",
       "\n",
       "   visitante_impedimentos visitante_escanteios  resultado  \n",
       "0                       1                    5    Vitória  \n",
       "1                       1                    6    Vitória  \n",
       "2                       3                    2    Vitória  \n",
       "\n",
       "[3 rows x 35 columns]"
      ]
     },
     "metadata": {},
     "output_type": "display_data"
    }
   ],
   "source": [
    "display(df_analise.head(3))\n"
   ]
  },
  {
   "cell_type": "code",
   "execution_count": 171,
   "id": "35b9ddd9",
   "metadata": {},
   "outputs": [
    {
     "name": "stdout",
     "output_type": "stream",
     "text": [
      "  resultado  percentual\n",
      "0   Derrota   44.458974\n",
      "1   Vitória   35.469108\n",
      "2    Empate   20.071919\n"
     ]
    }
   ],
   "source": [
    "# Cópia para não alterar o original\n",
    "df_posse = df_analise.copy()\n",
    "\n",
    "# Corrige e transforma as colunas de posse em números\n",
    "for col in ['mandante_posse_de_bola', 'visitante_posse_de_bola']:\n",
    "    df_posse[col] = pd.to_numeric(\n",
    "        df_posse[col].astype(str).str.replace('%', '', regex=False).replace('Sem Info', np.nan),\n",
    "        errors='coerce' \n",
    "    )\n",
    "\n",
    "# Remove partidas sem info de posse para ambos os times\n",
    "df_posse = df_posse.dropna(subset=['mandante_posse_de_bola', 'visitante_posse_de_bola'])\n",
    "\n",
    "# Descobre quem teve MAIS posse\n",
    "df_posse['time_maior_posse'] = df_posse.apply(\n",
    "    lambda row: 'mandante' if row['mandante_posse_de_bola'] > row['visitante_posse_de_bola']\n",
    "    else ('visitante' if row['mandante_posse_de_bola'] < row['visitante_posse_de_bola'] else 'empate'),\n",
    "    axis=1\n",
    ")\n",
    "\n",
    "# Resultado para o time com maior posse:\n",
    "def resultado_maior_posse(row):\n",
    "    if row['time_maior_posse'] == 'mandante':\n",
    "        return row['resultado']\n",
    "    elif row['time_maior_posse'] == 'visitante':\n",
    "        # Inverte o resultado para o visitante\n",
    "        if row['resultado'] == 'Vitória':\n",
    "            return 'Derrota'\n",
    "        elif row['resultado'] == 'Derrota':\n",
    "            return 'Vitória'\n",
    "        else:\n",
    "            return 'Empate'\n",
    "    else:\n",
    "        return 'Empate'\n",
    "\n",
    "df_posse['resultado_maior_posse'] = df_posse.apply(resultado_maior_posse, axis=1)\n",
    "\n",
    "# Conta quantas vezes quem teve mais posse venceu, empatou ou perdeu\n",
    "resumo = df_posse['resultado_maior_posse'].value_counts(normalize=True).reset_index()\n",
    "resumo.columns = ['resultado', 'percentual']\n",
    "resumo['percentual'] = 100 * resumo['percentual']\n",
    "print(resumo)\n"
   ]
  },
  {
   "cell_type": "markdown",
   "id": "dd5ec115",
   "metadata": {},
   "source": [
    "### A vantagem de jogar em casa é real?"
   ]
  },
  {
   "cell_type": "code",
   "execution_count": 167,
   "id": "2b3c1a39",
   "metadata": {},
   "outputs": [
    {
     "name": "stdout",
     "output_type": "stream",
     "text": [
      "  resultado  percentual\n",
      "0   Vitória   52.893102\n",
      "1   Derrota   27.231121\n",
      "2    Empate   19.875776\n"
     ]
    },
    {
     "data": {
      "application/vnd.plotly.v1+json": {
       "config": {
        "plotlyServerURL": "https://plot.ly"
       },
       "data": [
        {
         "domain": {
          "x": [
           0,
           1
          ],
          "y": [
           0,
           1
          ]
         },
         "hovertemplate": "resultado=%{label}<br>percentual=%{value}<extra></extra>",
         "labels": [
          "Vitória",
          "Derrota",
          "Empate"
         ],
         "legendgroup": "",
         "name": "",
         "showlegend": true,
         "type": "pie",
         "values": {
          "bdata": "lGFGLVFySkC+TKnDKjs7QBnwyeEy4DNA",
          "dtype": "f8"
         }
        }
       ],
       "layout": {
        "legend": {
         "tracegroupgap": 0
        },
        "template": {
         "data": {
          "bar": [
           {
            "error_x": {
             "color": "#2a3f5f"
            },
            "error_y": {
             "color": "#2a3f5f"
            },
            "marker": {
             "line": {
              "color": "white",
              "width": 0.5
             },
             "pattern": {
              "fillmode": "overlay",
              "size": 10,
              "solidity": 0.2
             }
            },
            "type": "bar"
           }
          ],
          "barpolar": [
           {
            "marker": {
             "line": {
              "color": "white",
              "width": 0.5
             },
             "pattern": {
              "fillmode": "overlay",
              "size": 10,
              "solidity": 0.2
             }
            },
            "type": "barpolar"
           }
          ],
          "carpet": [
           {
            "aaxis": {
             "endlinecolor": "#2a3f5f",
             "gridcolor": "#C8D4E3",
             "linecolor": "#C8D4E3",
             "minorgridcolor": "#C8D4E3",
             "startlinecolor": "#2a3f5f"
            },
            "baxis": {
             "endlinecolor": "#2a3f5f",
             "gridcolor": "#C8D4E3",
             "linecolor": "#C8D4E3",
             "minorgridcolor": "#C8D4E3",
             "startlinecolor": "#2a3f5f"
            },
            "type": "carpet"
           }
          ],
          "choropleth": [
           {
            "colorbar": {
             "outlinewidth": 0,
             "ticks": ""
            },
            "type": "choropleth"
           }
          ],
          "contour": [
           {
            "colorbar": {
             "outlinewidth": 0,
             "ticks": ""
            },
            "colorscale": [
             [
              0,
              "#0d0887"
             ],
             [
              0.1111111111111111,
              "#46039f"
             ],
             [
              0.2222222222222222,
              "#7201a8"
             ],
             [
              0.3333333333333333,
              "#9c179e"
             ],
             [
              0.4444444444444444,
              "#bd3786"
             ],
             [
              0.5555555555555556,
              "#d8576b"
             ],
             [
              0.6666666666666666,
              "#ed7953"
             ],
             [
              0.7777777777777778,
              "#fb9f3a"
             ],
             [
              0.8888888888888888,
              "#fdca26"
             ],
             [
              1,
              "#f0f921"
             ]
            ],
            "type": "contour"
           }
          ],
          "contourcarpet": [
           {
            "colorbar": {
             "outlinewidth": 0,
             "ticks": ""
            },
            "type": "contourcarpet"
           }
          ],
          "heatmap": [
           {
            "colorbar": {
             "outlinewidth": 0,
             "ticks": ""
            },
            "colorscale": [
             [
              0,
              "#0d0887"
             ],
             [
              0.1111111111111111,
              "#46039f"
             ],
             [
              0.2222222222222222,
              "#7201a8"
             ],
             [
              0.3333333333333333,
              "#9c179e"
             ],
             [
              0.4444444444444444,
              "#bd3786"
             ],
             [
              0.5555555555555556,
              "#d8576b"
             ],
             [
              0.6666666666666666,
              "#ed7953"
             ],
             [
              0.7777777777777778,
              "#fb9f3a"
             ],
             [
              0.8888888888888888,
              "#fdca26"
             ],
             [
              1,
              "#f0f921"
             ]
            ],
            "type": "heatmap"
           }
          ],
          "histogram": [
           {
            "marker": {
             "pattern": {
              "fillmode": "overlay",
              "size": 10,
              "solidity": 0.2
             }
            },
            "type": "histogram"
           }
          ],
          "histogram2d": [
           {
            "colorbar": {
             "outlinewidth": 0,
             "ticks": ""
            },
            "colorscale": [
             [
              0,
              "#0d0887"
             ],
             [
              0.1111111111111111,
              "#46039f"
             ],
             [
              0.2222222222222222,
              "#7201a8"
             ],
             [
              0.3333333333333333,
              "#9c179e"
             ],
             [
              0.4444444444444444,
              "#bd3786"
             ],
             [
              0.5555555555555556,
              "#d8576b"
             ],
             [
              0.6666666666666666,
              "#ed7953"
             ],
             [
              0.7777777777777778,
              "#fb9f3a"
             ],
             [
              0.8888888888888888,
              "#fdca26"
             ],
             [
              1,
              "#f0f921"
             ]
            ],
            "type": "histogram2d"
           }
          ],
          "histogram2dcontour": [
           {
            "colorbar": {
             "outlinewidth": 0,
             "ticks": ""
            },
            "colorscale": [
             [
              0,
              "#0d0887"
             ],
             [
              0.1111111111111111,
              "#46039f"
             ],
             [
              0.2222222222222222,
              "#7201a8"
             ],
             [
              0.3333333333333333,
              "#9c179e"
             ],
             [
              0.4444444444444444,
              "#bd3786"
             ],
             [
              0.5555555555555556,
              "#d8576b"
             ],
             [
              0.6666666666666666,
              "#ed7953"
             ],
             [
              0.7777777777777778,
              "#fb9f3a"
             ],
             [
              0.8888888888888888,
              "#fdca26"
             ],
             [
              1,
              "#f0f921"
             ]
            ],
            "type": "histogram2dcontour"
           }
          ],
          "mesh3d": [
           {
            "colorbar": {
             "outlinewidth": 0,
             "ticks": ""
            },
            "type": "mesh3d"
           }
          ],
          "parcoords": [
           {
            "line": {
             "colorbar": {
              "outlinewidth": 0,
              "ticks": ""
             }
            },
            "type": "parcoords"
           }
          ],
          "pie": [
           {
            "automargin": true,
            "type": "pie"
           }
          ],
          "scatter": [
           {
            "fillpattern": {
             "fillmode": "overlay",
             "size": 10,
             "solidity": 0.2
            },
            "type": "scatter"
           }
          ],
          "scatter3d": [
           {
            "line": {
             "colorbar": {
              "outlinewidth": 0,
              "ticks": ""
             }
            },
            "marker": {
             "colorbar": {
              "outlinewidth": 0,
              "ticks": ""
             }
            },
            "type": "scatter3d"
           }
          ],
          "scattercarpet": [
           {
            "marker": {
             "colorbar": {
              "outlinewidth": 0,
              "ticks": ""
             }
            },
            "type": "scattercarpet"
           }
          ],
          "scattergeo": [
           {
            "marker": {
             "colorbar": {
              "outlinewidth": 0,
              "ticks": ""
             }
            },
            "type": "scattergeo"
           }
          ],
          "scattergl": [
           {
            "marker": {
             "colorbar": {
              "outlinewidth": 0,
              "ticks": ""
             }
            },
            "type": "scattergl"
           }
          ],
          "scattermap": [
           {
            "marker": {
             "colorbar": {
              "outlinewidth": 0,
              "ticks": ""
             }
            },
            "type": "scattermap"
           }
          ],
          "scattermapbox": [
           {
            "marker": {
             "colorbar": {
              "outlinewidth": 0,
              "ticks": ""
             }
            },
            "type": "scattermapbox"
           }
          ],
          "scatterpolar": [
           {
            "marker": {
             "colorbar": {
              "outlinewidth": 0,
              "ticks": ""
             }
            },
            "type": "scatterpolar"
           }
          ],
          "scatterpolargl": [
           {
            "marker": {
             "colorbar": {
              "outlinewidth": 0,
              "ticks": ""
             }
            },
            "type": "scatterpolargl"
           }
          ],
          "scatterternary": [
           {
            "marker": {
             "colorbar": {
              "outlinewidth": 0,
              "ticks": ""
             }
            },
            "type": "scatterternary"
           }
          ],
          "surface": [
           {
            "colorbar": {
             "outlinewidth": 0,
             "ticks": ""
            },
            "colorscale": [
             [
              0,
              "#0d0887"
             ],
             [
              0.1111111111111111,
              "#46039f"
             ],
             [
              0.2222222222222222,
              "#7201a8"
             ],
             [
              0.3333333333333333,
              "#9c179e"
             ],
             [
              0.4444444444444444,
              "#bd3786"
             ],
             [
              0.5555555555555556,
              "#d8576b"
             ],
             [
              0.6666666666666666,
              "#ed7953"
             ],
             [
              0.7777777777777778,
              "#fb9f3a"
             ],
             [
              0.8888888888888888,
              "#fdca26"
             ],
             [
              1,
              "#f0f921"
             ]
            ],
            "type": "surface"
           }
          ],
          "table": [
           {
            "cells": {
             "fill": {
              "color": "#EBF0F8"
             },
             "line": {
              "color": "white"
             }
            },
            "header": {
             "fill": {
              "color": "#C8D4E3"
             },
             "line": {
              "color": "white"
             }
            },
            "type": "table"
           }
          ]
         },
         "layout": {
          "annotationdefaults": {
           "arrowcolor": "#2a3f5f",
           "arrowhead": 0,
           "arrowwidth": 1
          },
          "autotypenumbers": "strict",
          "coloraxis": {
           "colorbar": {
            "outlinewidth": 0,
            "ticks": ""
           }
          },
          "colorscale": {
           "diverging": [
            [
             0,
             "#8e0152"
            ],
            [
             0.1,
             "#c51b7d"
            ],
            [
             0.2,
             "#de77ae"
            ],
            [
             0.3,
             "#f1b6da"
            ],
            [
             0.4,
             "#fde0ef"
            ],
            [
             0.5,
             "#f7f7f7"
            ],
            [
             0.6,
             "#e6f5d0"
            ],
            [
             0.7,
             "#b8e186"
            ],
            [
             0.8,
             "#7fbc41"
            ],
            [
             0.9,
             "#4d9221"
            ],
            [
             1,
             "#276419"
            ]
           ],
           "sequential": [
            [
             0,
             "#0d0887"
            ],
            [
             0.1111111111111111,
             "#46039f"
            ],
            [
             0.2222222222222222,
             "#7201a8"
            ],
            [
             0.3333333333333333,
             "#9c179e"
            ],
            [
             0.4444444444444444,
             "#bd3786"
            ],
            [
             0.5555555555555556,
             "#d8576b"
            ],
            [
             0.6666666666666666,
             "#ed7953"
            ],
            [
             0.7777777777777778,
             "#fb9f3a"
            ],
            [
             0.8888888888888888,
             "#fdca26"
            ],
            [
             1,
             "#f0f921"
            ]
           ],
           "sequentialminus": [
            [
             0,
             "#0d0887"
            ],
            [
             0.1111111111111111,
             "#46039f"
            ],
            [
             0.2222222222222222,
             "#7201a8"
            ],
            [
             0.3333333333333333,
             "#9c179e"
            ],
            [
             0.4444444444444444,
             "#bd3786"
            ],
            [
             0.5555555555555556,
             "#d8576b"
            ],
            [
             0.6666666666666666,
             "#ed7953"
            ],
            [
             0.7777777777777778,
             "#fb9f3a"
            ],
            [
             0.8888888888888888,
             "#fdca26"
            ],
            [
             1,
             "#f0f921"
            ]
           ]
          },
          "colorway": [
           "#636efa",
           "#EF553B",
           "#00cc96",
           "#ab63fa",
           "#FFA15A",
           "#19d3f3",
           "#FF6692",
           "#B6E880",
           "#FF97FF",
           "#FECB52"
          ],
          "font": {
           "color": "#2a3f5f"
          },
          "geo": {
           "bgcolor": "white",
           "lakecolor": "white",
           "landcolor": "white",
           "showlakes": true,
           "showland": true,
           "subunitcolor": "#C8D4E3"
          },
          "hoverlabel": {
           "align": "left"
          },
          "hovermode": "closest",
          "mapbox": {
           "style": "light"
          },
          "paper_bgcolor": "white",
          "plot_bgcolor": "white",
          "polar": {
           "angularaxis": {
            "gridcolor": "#EBF0F8",
            "linecolor": "#EBF0F8",
            "ticks": ""
           },
           "bgcolor": "white",
           "radialaxis": {
            "gridcolor": "#EBF0F8",
            "linecolor": "#EBF0F8",
            "ticks": ""
           }
          },
          "scene": {
           "xaxis": {
            "backgroundcolor": "white",
            "gridcolor": "#DFE8F3",
            "gridwidth": 2,
            "linecolor": "#EBF0F8",
            "showbackground": true,
            "ticks": "",
            "zerolinecolor": "#EBF0F8"
           },
           "yaxis": {
            "backgroundcolor": "white",
            "gridcolor": "#DFE8F3",
            "gridwidth": 2,
            "linecolor": "#EBF0F8",
            "showbackground": true,
            "ticks": "",
            "zerolinecolor": "#EBF0F8"
           },
           "zaxis": {
            "backgroundcolor": "white",
            "gridcolor": "#DFE8F3",
            "gridwidth": 2,
            "linecolor": "#EBF0F8",
            "showbackground": true,
            "ticks": "",
            "zerolinecolor": "#EBF0F8"
           }
          },
          "shapedefaults": {
           "line": {
            "color": "#2a3f5f"
           }
          },
          "ternary": {
           "aaxis": {
            "gridcolor": "#DFE8F3",
            "linecolor": "#A2B1C6",
            "ticks": ""
           },
           "baxis": {
            "gridcolor": "#DFE8F3",
            "linecolor": "#A2B1C6",
            "ticks": ""
           },
           "bgcolor": "white",
           "caxis": {
            "gridcolor": "#DFE8F3",
            "linecolor": "#A2B1C6",
            "ticks": ""
           }
          },
          "title": {
           "x": 0.05
          },
          "xaxis": {
           "automargin": true,
           "gridcolor": "#EBF0F8",
           "linecolor": "#EBF0F8",
           "ticks": "",
           "title": {
            "standoff": 15
           },
           "zerolinecolor": "#EBF0F8",
           "zerolinewidth": 2
          },
          "yaxis": {
           "automargin": true,
           "gridcolor": "#EBF0F8",
           "linecolor": "#EBF0F8",
           "ticks": "",
           "title": {
            "standoff": 15
           },
           "zerolinecolor": "#EBF0F8",
           "zerolinewidth": 2
          }
         }
        },
        "title": {
         "text": "Resultados do Mandante (%)"
        }
       }
      }
     },
     "metadata": {},
     "output_type": "display_data"
    }
   ],
   "source": [
    "# Conta quantos jogos os mandantes venceram, empataram ou perderam\n",
    "resumo_mandante = df_analise['resultado'].value_counts(normalize=True).reset_index()\n",
    "resumo_mandante.columns = ['resultado', 'percentual']\n",
    "resumo_mandante['percentual'] = 100 * resumo_mandante['percentual']\n",
    "print(resumo_mandante)\n",
    "\n",
    "# Visualização rápida (opcional)\n",
    "import plotly.express as px\n",
    "fig = px.pie(resumo_mandante, names='resultado', values='percentual',\n",
    "             title='Resultados do Mandante (%)')\n",
    "fig.show()\n"
   ]
  },
  {
   "cell_type": "markdown",
   "id": "972205fd",
   "metadata": {},
   "source": [
    "Quem deu mais chute, venceu mais?"
   ]
  },
  {
   "cell_type": "code",
   "execution_count": 168,
   "id": "8df997da",
   "metadata": {},
   "outputs": [
    {
     "name": "stdout",
     "output_type": "stream",
     "text": [
      "  resultado  percentual\n",
      "0   Vitória   44.001308\n",
      "1   Derrota   32.625041\n",
      "2    Empate   23.373652\n"
     ]
    }
   ],
   "source": [
    "df_chutes = df_analise.copy()\n",
    "\n",
    "# Descobre quem chutou mais\n",
    "df_chutes['time_mais_chutes'] = df_chutes.apply(\n",
    "    lambda row: 'mandante' if row['mandante_chutes'] > row['visitante_chutes']\n",
    "    else ('visitante' if row['mandante_chutes'] < row['visitante_chutes'] else 'empate'),\n",
    "    axis=1\n",
    ")\n",
    "\n",
    "def resultado_mais_chutes(row):\n",
    "    if row['time_mais_chutes'] == 'mandante':\n",
    "        return row['resultado']\n",
    "    elif row['time_mais_chutes'] == 'visitante':\n",
    "        if row['resultado'] == 'Vitória':\n",
    "            return 'Derrota'\n",
    "        elif row['resultado'] == 'Derrota':\n",
    "            return 'Vitória'\n",
    "        else:\n",
    "            return 'Empate'\n",
    "    else:\n",
    "        return 'Empate'\n",
    "\n",
    "df_chutes['resultado_mais_chutes'] = df_chutes.apply(resultado_mais_chutes, axis=1)\n",
    "\n",
    "# Conta resultados para quem chutou mais\n",
    "resumo_chutes = df_chutes['resultado_mais_chutes'].value_counts(normalize=True).reset_index()\n",
    "resumo_chutes.columns = ['resultado', 'percentual']\n",
    "resumo_chutes['percentual'] = 100 * resumo_chutes['percentual']\n",
    "print(resumo_chutes)\n"
   ]
  },
  {
   "cell_type": "markdown",
   "id": "cf61c79d",
   "metadata": {},
   "source": [
    "### Qualidade é mais importante que quantidade? (Chutes no Alvo)"
   ]
  },
  {
   "cell_type": "code",
   "execution_count": 169,
   "id": "c1dc472d",
   "metadata": {},
   "outputs": [
    {
     "name": "stdout",
     "output_type": "stream",
     "text": [
      "--- Análise: Qualidade vs. Quantidade de Chutes ---\n",
      "\n",
      "Resultado para o time que teve MAIS CHUTES NO ALVO:\n"
     ]
    },
    {
     "data": {
      "text/html": [
       "<div>\n",
       "<style scoped>\n",
       "    .dataframe tbody tr th:only-of-type {\n",
       "        vertical-align: middle;\n",
       "    }\n",
       "\n",
       "    .dataframe tbody tr th {\n",
       "        vertical-align: top;\n",
       "    }\n",
       "\n",
       "    .dataframe thead th {\n",
       "        text-align: right;\n",
       "    }\n",
       "</style>\n",
       "<table border=\"1\" class=\"dataframe\">\n",
       "  <thead>\n",
       "    <tr style=\"text-align: right;\">\n",
       "      <th></th>\n",
       "      <th>Percentual (%)</th>\n",
       "    </tr>\n",
       "    <tr>\n",
       "      <th>resultado_final</th>\n",
       "      <th></th>\n",
       "    </tr>\n",
       "  </thead>\n",
       "  <tbody>\n",
       "    <tr>\n",
       "      <th>Empate</th>\n",
       "      <td>44.36</td>\n",
       "    </tr>\n",
       "    <tr>\n",
       "      <th>Vitória</th>\n",
       "      <td>41.26</td>\n",
       "    </tr>\n",
       "    <tr>\n",
       "      <th>Derrota</th>\n",
       "      <td>14.38</td>\n",
       "    </tr>\n",
       "  </tbody>\n",
       "</table>\n",
       "</div>"
      ],
      "text/plain": [
       "                 Percentual (%)\n",
       "resultado_final                \n",
       "Empate                    44.36\n",
       "Vitória                   41.26\n",
       "Derrota                   14.38"
      ]
     },
     "metadata": {},
     "output_type": "display_data"
    }
   ],
   "source": [
    "# Célula para Análise de Chutes no Alvo\n",
    "\n",
    "# Copiando o dataframe para não alterar o original\n",
    "df_chutes_no_alvo = df_analise.copy()\n",
    "\n",
    "# Descobre qual time teve mais chutes no alvo\n",
    "df_chutes_no_alvo['time_mais_chutes_no_alvo'] = df_chutes_no_alvo.apply(\n",
    "    lambda row: 'mandante' if row['mandante_chutes_no_alvo'] > row['visitante_chutes_no_alvo']\n",
    "    else ('visitante' if row['mandante_chutes_no_alvo'] < row['visitante_chutes_no_alvo'] else 'empate'),\n",
    "    axis=1)\n",
    "\n",
    "# Função para determinar o resultado para o time que chutou mais no alvo\n",
    "def resultado_mais_chutes_no_alvo(row):\n",
    "    if row['time_mais_chutes_no_alvo'] == 'mandante':\n",
    "        return row['resultado']\n",
    "    elif row['time_mais_chutes_no_alvo'] == 'visitante':\n",
    "        # Inverte o resultado, pois a vitória do mandante é a derrota do visitante\n",
    "        if row['resultado'] == 'Vitória': return 'Derrota'\n",
    "        elif row['resultado'] == 'Derrota': return 'Vitória'\n",
    "        else: return 'Empate'\n",
    "    else: # Se o número de chutes no alvo foi igual\n",
    "        return 'Empate'\n",
    "\n",
    "# Aplica a função para criar a coluna com o resultado final\n",
    "df_chutes_no_alvo['resultado_final'] = df_chutes_no_alvo.apply(resultado_mais_chutes_no_alvo, axis=1)\n",
    "\n",
    "# Calcula o resumo com os percentuais\n",
    "resumo_chutes_no_alvo = df_chutes_no_alvo['resultado_final'].value_counts(normalize=True) * 100\n",
    "\n",
    "print(\"--- Análise: Qualidade vs. Quantidade de Chutes ---\\n\")\n",
    "print(\"Resultado para o time que teve MAIS CHUTES NO ALVO:\")\n",
    "display(resumo_chutes_no_alvo.round(2).to_frame(name='Percentual (%)'))"
   ]
  },
  {
   "cell_type": "markdown",
   "id": "a4bcaaae",
   "metadata": {},
   "source": [
    "Contra-Ataque"
   ]
  },
  {
   "cell_type": "code",
   "execution_count": 172,
   "id": "e79e48de",
   "metadata": {},
   "outputs": [
    {
     "name": "stdout",
     "output_type": "stream",
     "text": [
      "--- Análise: Eficácia do Perfil de Contra-Ataque ---\n",
      "\n",
      "Resultado para o time que teve MENOS posse de bola e MAIS chutes:\n"
     ]
    },
    {
     "data": {
      "text/html": [
       "<div>\n",
       "<style scoped>\n",
       "    .dataframe tbody tr th:only-of-type {\n",
       "        vertical-align: middle;\n",
       "    }\n",
       "\n",
       "    .dataframe tbody tr th {\n",
       "        vertical-align: top;\n",
       "    }\n",
       "\n",
       "    .dataframe thead th {\n",
       "        text-align: right;\n",
       "    }\n",
       "</style>\n",
       "<table border=\"1\" class=\"dataframe\">\n",
       "  <thead>\n",
       "    <tr style=\"text-align: right;\">\n",
       "      <th></th>\n",
       "      <th>Percentual (%)</th>\n",
       "    </tr>\n",
       "  </thead>\n",
       "  <tbody>\n",
       "    <tr>\n",
       "      <th>Vitória</th>\n",
       "      <td>55.86</td>\n",
       "    </tr>\n",
       "    <tr>\n",
       "      <th>Derrota</th>\n",
       "      <td>23.99</td>\n",
       "    </tr>\n",
       "    <tr>\n",
       "      <th>Empate</th>\n",
       "      <td>20.15</td>\n",
       "    </tr>\n",
       "  </tbody>\n",
       "</table>\n",
       "</div>"
      ],
      "text/plain": [
       "         Percentual (%)\n",
       "Vitória           55.86\n",
       "Derrota           23.99\n",
       "Empate            20.15"
      ]
     },
     "metadata": {},
     "output_type": "display_data"
    }
   ],
   "source": [
    "# Célula para Análise do Perfil de Contra-Ataque\n",
    "\n",
    "# Lista para armazenar o resultado de cada time que jogou no contra-ataque\n",
    "resultados_contra_ataque = []\n",
    "df_contra_ataque = df_analise.dropna(subset=['mandante_posse_de_bola', 'visitante_posse_de_bola'])\n",
    "\n",
    "\n",
    "# Itera por cada partida para identificar o padrão\n",
    "for index, row in df_contra_ataque.iterrows():\n",
    "    # Caso 1: O MANDANTE tem menos posse e mais chutes\n",
    "    if row['mandante_posse_de_bola'] < row['visitante_posse_de_bola'] and row['mandante_chutes'] > row['visitante_chutes']:\n",
    "        resultados_contra_ataque.append(row['resultado'])\n",
    "        \n",
    "    # Caso 2: O VISITANTE tem menos posse e mais chutes\n",
    "    elif row['visitante_posse_de_bola'] < row['mandante_posse_de_bola'] and row['visitante_chutes'] > row['mandante_chutes']:\n",
    "        # Invertemos o resultado da partida, pois estamos analisando do ponto de vista do visitante\n",
    "        if row['resultado'] == 'Vitória':\n",
    "            resultados_contra_ataque.append('Derrota')\n",
    "        elif row['resultado'] == 'Derrota':\n",
    "            resultados_contra_ataque.append('Vitória')\n",
    "        else:\n",
    "            resultados_contra_ataque.append('Empate')\n",
    "\n",
    "# Calcula o resumo com os percentuais de sucesso da estratégia\n",
    "resumo_contra_ataque = pd.Series(resultados_contra_ataque).value_counts(normalize=True) * 100\n",
    "\n",
    "print(\"--- Análise: Eficácia do Perfil de Contra-Ataque ---\\n\")\n",
    "print(\"Resultado para o time que teve MENOS posse de bola e MAIS chutes:\")\n",
    "display(resumo_contra_ataque.round(2).to_frame(name='Percentual (%)'))"
   ]
  }
 ],
 "metadata": {
  "kernelspec": {
   "display_name": "liven_env",
   "language": "python",
   "name": "python3"
  },
  "language_info": {
   "codemirror_mode": {
    "name": "ipython",
    "version": 3
   },
   "file_extension": ".py",
   "mimetype": "text/x-python",
   "name": "python",
   "nbconvert_exporter": "python",
   "pygments_lexer": "ipython3",
   "version": "3.13.5"
  }
 },
 "nbformat": 4,
 "nbformat_minor": 5
}
